{
 "cells": [
  {
   "cell_type": "markdown",
   "metadata": {},
   "source": [
    "# Исследование объявлений о продаже квартир\n",
    "\n",
    "В вашем распоряжении данные сервиса Яндекс.Недвижимость — архив объявлений о продаже квартир в Санкт-Петербурге и соседних населённых пунктов за несколько лет. Нужно научиться определять рыночную стоимость объектов недвижимости. Ваша задача — установить параметры. Это позволит построить автоматизированную систему: она отследит аномалии и мошенническую деятельность. \n",
    "\n",
    "По каждой квартире на продажу доступны два вида данных. Первые вписаны пользователем, вторые — получены автоматически на основе картографических данных. Например, расстояние до центра, аэропорта, ближайшего парка и водоёма. "
   ]
  },
  {
   "cell_type": "markdown",
   "metadata": {},
   "source": [
    "### Откройте файл с данными и изучите общую информацию. "
   ]
  },
  {
   "cell_type": "markdown",
   "metadata": {},
   "source": [
    "**Импортируем библиотеки, необходимые для работы**"
   ]
  },
  {
   "cell_type": "code",
   "execution_count": 215,
   "metadata": {},
   "outputs": [],
   "source": [
    "import pandas as pd\n",
    "import matplotlib.pyplot as plt"
   ]
  },
  {
   "cell_type": "markdown",
   "metadata": {},
   "source": [
    "**Откроем файл и сохраним в переменную data**"
   ]
  },
  {
   "cell_type": "code",
   "execution_count": 216,
   "metadata": {},
   "outputs": [],
   "source": [
    "data = pd.read_csv('/datasets/real_estate_data.csv', sep = '\\t')"
   ]
  },
  {
   "cell_type": "markdown",
   "metadata": {},
   "source": [
    "**Общая информация и тип данных в датафрейме**"
   ]
  },
  {
   "cell_type": "code",
   "execution_count": 217,
   "metadata": {},
   "outputs": [
    {
     "name": "stdout",
     "output_type": "stream",
     "text": [
      "<class 'pandas.core.frame.DataFrame'>\n",
      "RangeIndex: 23699 entries, 0 to 23698\n",
      "Data columns (total 22 columns):\n",
      " #   Column                Non-Null Count  Dtype  \n",
      "---  ------                --------------  -----  \n",
      " 0   total_images          23699 non-null  int64  \n",
      " 1   last_price            23699 non-null  float64\n",
      " 2   total_area            23699 non-null  float64\n",
      " 3   first_day_exposition  23699 non-null  object \n",
      " 4   rooms                 23699 non-null  int64  \n",
      " 5   ceiling_height        14504 non-null  float64\n",
      " 6   floors_total          23613 non-null  float64\n",
      " 7   living_area           21796 non-null  float64\n",
      " 8   floor                 23699 non-null  int64  \n",
      " 9   is_apartment          2775 non-null   object \n",
      " 10  studio                23699 non-null  bool   \n",
      " 11  open_plan             23699 non-null  bool   \n",
      " 12  kitchen_area          21421 non-null  float64\n",
      " 13  balcony               12180 non-null  float64\n",
      " 14  locality_name         23650 non-null  object \n",
      " 15  airports_nearest      18157 non-null  float64\n",
      " 16  cityCenters_nearest   18180 non-null  float64\n",
      " 17  parks_around3000      18181 non-null  float64\n",
      " 18  parks_nearest         8079 non-null   float64\n",
      " 19  ponds_around3000      18181 non-null  float64\n",
      " 20  ponds_nearest         9110 non-null   float64\n",
      " 21  days_exposition       20518 non-null  float64\n",
      "dtypes: bool(2), float64(14), int64(3), object(3)\n",
      "memory usage: 3.7+ MB\n"
     ]
    }
   ],
   "source": [
    "data.info()"
   ]
  },
  {
   "cell_type": "markdown",
   "metadata": {},
   "source": [
    "Вывод по методу.info():<br>\n",
    "- По столбцу is_apartment наблюдается некорректный тип данных. Должен быть bool.<br>\n",
    "- По столбцу first_day_exposition наблюдается некорректный тип данных. Должен быть datetime64.<br>\n",
    "- По столбцу floors_total наблюдается некорректный тип данных. Должен быть int64.<br>\n",
    "- По столбцу last_price наблюдается некорректный тип данных. Должен быть int64 <br>\n",
    "- По столбцу balcony наблюдается некорректный тип данных. Должен быть int8 <br>\n",
    "- По столбцу days_exposition наблюдается некорректный тип данных. Должен быть int64 <br>\n",
    "- Некоторые столбцы поименованы некорректно cityCenters_nearest, parks_around3000, ponds_around3000 <br>\n",
    "- В датафрейме наблюдаются пропуски данных"
   ]
  },
  {
   "cell_type": "markdown",
   "metadata": {},
   "source": [
    "**Краткая информация о датафрейме**"
   ]
  },
  {
   "cell_type": "code",
   "execution_count": 218,
   "metadata": {},
   "outputs": [
    {
     "data": {
      "text/html": [
       "<div>\n",
       "<style scoped>\n",
       "    .dataframe tbody tr th:only-of-type {\n",
       "        vertical-align: middle;\n",
       "    }\n",
       "\n",
       "    .dataframe tbody tr th {\n",
       "        vertical-align: top;\n",
       "    }\n",
       "\n",
       "    .dataframe thead th {\n",
       "        text-align: right;\n",
       "    }\n",
       "</style>\n",
       "<table border=\"1\" class=\"dataframe\">\n",
       "  <thead>\n",
       "    <tr style=\"text-align: right;\">\n",
       "      <th></th>\n",
       "      <th>total_images</th>\n",
       "      <th>last_price</th>\n",
       "      <th>total_area</th>\n",
       "      <th>rooms</th>\n",
       "      <th>ceiling_height</th>\n",
       "      <th>floors_total</th>\n",
       "      <th>living_area</th>\n",
       "      <th>floor</th>\n",
       "      <th>kitchen_area</th>\n",
       "      <th>balcony</th>\n",
       "      <th>airports_nearest</th>\n",
       "      <th>cityCenters_nearest</th>\n",
       "      <th>parks_around3000</th>\n",
       "      <th>parks_nearest</th>\n",
       "      <th>ponds_around3000</th>\n",
       "      <th>ponds_nearest</th>\n",
       "      <th>days_exposition</th>\n",
       "    </tr>\n",
       "  </thead>\n",
       "  <tbody>\n",
       "    <tr>\n",
       "      <th>count</th>\n",
       "      <td>23699.000000</td>\n",
       "      <td>2.369900e+04</td>\n",
       "      <td>23699.000000</td>\n",
       "      <td>23699.000000</td>\n",
       "      <td>14504.000000</td>\n",
       "      <td>23613.000000</td>\n",
       "      <td>21796.000000</td>\n",
       "      <td>23699.000000</td>\n",
       "      <td>21421.000000</td>\n",
       "      <td>12180.000000</td>\n",
       "      <td>18157.000000</td>\n",
       "      <td>18180.000000</td>\n",
       "      <td>18181.000000</td>\n",
       "      <td>8079.000000</td>\n",
       "      <td>18181.000000</td>\n",
       "      <td>9110.000000</td>\n",
       "      <td>20518.000000</td>\n",
       "    </tr>\n",
       "    <tr>\n",
       "      <th>mean</th>\n",
       "      <td>9.858475</td>\n",
       "      <td>6.541549e+06</td>\n",
       "      <td>60.348651</td>\n",
       "      <td>2.070636</td>\n",
       "      <td>2.771499</td>\n",
       "      <td>10.673824</td>\n",
       "      <td>34.457852</td>\n",
       "      <td>5.892358</td>\n",
       "      <td>10.569807</td>\n",
       "      <td>1.150082</td>\n",
       "      <td>28793.672193</td>\n",
       "      <td>14191.277833</td>\n",
       "      <td>0.611408</td>\n",
       "      <td>490.804555</td>\n",
       "      <td>0.770255</td>\n",
       "      <td>517.980900</td>\n",
       "      <td>180.888634</td>\n",
       "    </tr>\n",
       "    <tr>\n",
       "      <th>std</th>\n",
       "      <td>5.682529</td>\n",
       "      <td>1.088701e+07</td>\n",
       "      <td>35.654083</td>\n",
       "      <td>1.078405</td>\n",
       "      <td>1.261056</td>\n",
       "      <td>6.597173</td>\n",
       "      <td>22.030445</td>\n",
       "      <td>4.885249</td>\n",
       "      <td>5.905438</td>\n",
       "      <td>1.071300</td>\n",
       "      <td>12630.880622</td>\n",
       "      <td>8608.386210</td>\n",
       "      <td>0.802074</td>\n",
       "      <td>342.317995</td>\n",
       "      <td>0.938346</td>\n",
       "      <td>277.720643</td>\n",
       "      <td>219.727988</td>\n",
       "    </tr>\n",
       "    <tr>\n",
       "      <th>min</th>\n",
       "      <td>0.000000</td>\n",
       "      <td>1.219000e+04</td>\n",
       "      <td>12.000000</td>\n",
       "      <td>0.000000</td>\n",
       "      <td>1.000000</td>\n",
       "      <td>1.000000</td>\n",
       "      <td>2.000000</td>\n",
       "      <td>1.000000</td>\n",
       "      <td>1.300000</td>\n",
       "      <td>0.000000</td>\n",
       "      <td>0.000000</td>\n",
       "      <td>181.000000</td>\n",
       "      <td>0.000000</td>\n",
       "      <td>1.000000</td>\n",
       "      <td>0.000000</td>\n",
       "      <td>13.000000</td>\n",
       "      <td>1.000000</td>\n",
       "    </tr>\n",
       "    <tr>\n",
       "      <th>25%</th>\n",
       "      <td>6.000000</td>\n",
       "      <td>3.400000e+06</td>\n",
       "      <td>40.000000</td>\n",
       "      <td>1.000000</td>\n",
       "      <td>2.520000</td>\n",
       "      <td>5.000000</td>\n",
       "      <td>18.600000</td>\n",
       "      <td>2.000000</td>\n",
       "      <td>7.000000</td>\n",
       "      <td>0.000000</td>\n",
       "      <td>18585.000000</td>\n",
       "      <td>9238.000000</td>\n",
       "      <td>0.000000</td>\n",
       "      <td>288.000000</td>\n",
       "      <td>0.000000</td>\n",
       "      <td>294.000000</td>\n",
       "      <td>45.000000</td>\n",
       "    </tr>\n",
       "    <tr>\n",
       "      <th>50%</th>\n",
       "      <td>9.000000</td>\n",
       "      <td>4.650000e+06</td>\n",
       "      <td>52.000000</td>\n",
       "      <td>2.000000</td>\n",
       "      <td>2.650000</td>\n",
       "      <td>9.000000</td>\n",
       "      <td>30.000000</td>\n",
       "      <td>4.000000</td>\n",
       "      <td>9.100000</td>\n",
       "      <td>1.000000</td>\n",
       "      <td>26726.000000</td>\n",
       "      <td>13098.500000</td>\n",
       "      <td>0.000000</td>\n",
       "      <td>455.000000</td>\n",
       "      <td>1.000000</td>\n",
       "      <td>502.000000</td>\n",
       "      <td>95.000000</td>\n",
       "    </tr>\n",
       "    <tr>\n",
       "      <th>75%</th>\n",
       "      <td>14.000000</td>\n",
       "      <td>6.800000e+06</td>\n",
       "      <td>69.900000</td>\n",
       "      <td>3.000000</td>\n",
       "      <td>2.800000</td>\n",
       "      <td>16.000000</td>\n",
       "      <td>42.300000</td>\n",
       "      <td>8.000000</td>\n",
       "      <td>12.000000</td>\n",
       "      <td>2.000000</td>\n",
       "      <td>37273.000000</td>\n",
       "      <td>16293.000000</td>\n",
       "      <td>1.000000</td>\n",
       "      <td>612.000000</td>\n",
       "      <td>1.000000</td>\n",
       "      <td>729.000000</td>\n",
       "      <td>232.000000</td>\n",
       "    </tr>\n",
       "    <tr>\n",
       "      <th>max</th>\n",
       "      <td>50.000000</td>\n",
       "      <td>7.630000e+08</td>\n",
       "      <td>900.000000</td>\n",
       "      <td>19.000000</td>\n",
       "      <td>100.000000</td>\n",
       "      <td>60.000000</td>\n",
       "      <td>409.700000</td>\n",
       "      <td>33.000000</td>\n",
       "      <td>112.000000</td>\n",
       "      <td>5.000000</td>\n",
       "      <td>84869.000000</td>\n",
       "      <td>65968.000000</td>\n",
       "      <td>3.000000</td>\n",
       "      <td>3190.000000</td>\n",
       "      <td>3.000000</td>\n",
       "      <td>1344.000000</td>\n",
       "      <td>1580.000000</td>\n",
       "    </tr>\n",
       "  </tbody>\n",
       "</table>\n",
       "</div>"
      ],
      "text/plain": [
       "       total_images    last_price    total_area         rooms  ceiling_height  \\\n",
       "count  23699.000000  2.369900e+04  23699.000000  23699.000000    14504.000000   \n",
       "mean       9.858475  6.541549e+06     60.348651      2.070636        2.771499   \n",
       "std        5.682529  1.088701e+07     35.654083      1.078405        1.261056   \n",
       "min        0.000000  1.219000e+04     12.000000      0.000000        1.000000   \n",
       "25%        6.000000  3.400000e+06     40.000000      1.000000        2.520000   \n",
       "50%        9.000000  4.650000e+06     52.000000      2.000000        2.650000   \n",
       "75%       14.000000  6.800000e+06     69.900000      3.000000        2.800000   \n",
       "max       50.000000  7.630000e+08    900.000000     19.000000      100.000000   \n",
       "\n",
       "       floors_total   living_area         floor  kitchen_area       balcony  \\\n",
       "count  23613.000000  21796.000000  23699.000000  21421.000000  12180.000000   \n",
       "mean      10.673824     34.457852      5.892358     10.569807      1.150082   \n",
       "std        6.597173     22.030445      4.885249      5.905438      1.071300   \n",
       "min        1.000000      2.000000      1.000000      1.300000      0.000000   \n",
       "25%        5.000000     18.600000      2.000000      7.000000      0.000000   \n",
       "50%        9.000000     30.000000      4.000000      9.100000      1.000000   \n",
       "75%       16.000000     42.300000      8.000000     12.000000      2.000000   \n",
       "max       60.000000    409.700000     33.000000    112.000000      5.000000   \n",
       "\n",
       "       airports_nearest  cityCenters_nearest  parks_around3000  parks_nearest  \\\n",
       "count      18157.000000         18180.000000      18181.000000    8079.000000   \n",
       "mean       28793.672193         14191.277833          0.611408     490.804555   \n",
       "std        12630.880622          8608.386210          0.802074     342.317995   \n",
       "min            0.000000           181.000000          0.000000       1.000000   \n",
       "25%        18585.000000          9238.000000          0.000000     288.000000   \n",
       "50%        26726.000000         13098.500000          0.000000     455.000000   \n",
       "75%        37273.000000         16293.000000          1.000000     612.000000   \n",
       "max        84869.000000         65968.000000          3.000000    3190.000000   \n",
       "\n",
       "       ponds_around3000  ponds_nearest  days_exposition  \n",
       "count      18181.000000    9110.000000     20518.000000  \n",
       "mean           0.770255     517.980900       180.888634  \n",
       "std            0.938346     277.720643       219.727988  \n",
       "min            0.000000      13.000000         1.000000  \n",
       "25%            0.000000     294.000000        45.000000  \n",
       "50%            1.000000     502.000000        95.000000  \n",
       "75%            1.000000     729.000000       232.000000  \n",
       "max            3.000000    1344.000000      1580.000000  "
      ]
     },
     "execution_count": 218,
     "metadata": {},
     "output_type": "execute_result"
    }
   ],
   "source": [
    "data.describe()"
   ]
  },
  {
   "cell_type": "markdown",
   "metadata": {},
   "source": [
    "По столбцу ceiling_height наблюдаются нетипичные минимальные (1 метр) и максимальные (100 метров) значения"
   ]
  },
  {
   "cell_type": "markdown",
   "metadata": {},
   "source": [
    "**Выведем первые десять строк датафрейма**"
   ]
  },
  {
   "cell_type": "code",
   "execution_count": 219,
   "metadata": {},
   "outputs": [
    {
     "data": {
      "text/html": [
       "<div>\n",
       "<style scoped>\n",
       "    .dataframe tbody tr th:only-of-type {\n",
       "        vertical-align: middle;\n",
       "    }\n",
       "\n",
       "    .dataframe tbody tr th {\n",
       "        vertical-align: top;\n",
       "    }\n",
       "\n",
       "    .dataframe thead th {\n",
       "        text-align: right;\n",
       "    }\n",
       "</style>\n",
       "<table border=\"1\" class=\"dataframe\">\n",
       "  <thead>\n",
       "    <tr style=\"text-align: right;\">\n",
       "      <th></th>\n",
       "      <th>total_images</th>\n",
       "      <th>last_price</th>\n",
       "      <th>total_area</th>\n",
       "      <th>first_day_exposition</th>\n",
       "      <th>rooms</th>\n",
       "      <th>ceiling_height</th>\n",
       "      <th>floors_total</th>\n",
       "      <th>living_area</th>\n",
       "      <th>floor</th>\n",
       "      <th>is_apartment</th>\n",
       "      <th>...</th>\n",
       "      <th>kitchen_area</th>\n",
       "      <th>balcony</th>\n",
       "      <th>locality_name</th>\n",
       "      <th>airports_nearest</th>\n",
       "      <th>cityCenters_nearest</th>\n",
       "      <th>parks_around3000</th>\n",
       "      <th>parks_nearest</th>\n",
       "      <th>ponds_around3000</th>\n",
       "      <th>ponds_nearest</th>\n",
       "      <th>days_exposition</th>\n",
       "    </tr>\n",
       "  </thead>\n",
       "  <tbody>\n",
       "    <tr>\n",
       "      <th>0</th>\n",
       "      <td>20</td>\n",
       "      <td>13000000.0</td>\n",
       "      <td>108.00</td>\n",
       "      <td>2019-03-07T00:00:00</td>\n",
       "      <td>3</td>\n",
       "      <td>2.70</td>\n",
       "      <td>16.0</td>\n",
       "      <td>51.00</td>\n",
       "      <td>8</td>\n",
       "      <td>NaN</td>\n",
       "      <td>...</td>\n",
       "      <td>25.00</td>\n",
       "      <td>NaN</td>\n",
       "      <td>Санкт-Петербург</td>\n",
       "      <td>18863.0</td>\n",
       "      <td>16028.0</td>\n",
       "      <td>1.0</td>\n",
       "      <td>482.0</td>\n",
       "      <td>2.0</td>\n",
       "      <td>755.0</td>\n",
       "      <td>NaN</td>\n",
       "    </tr>\n",
       "    <tr>\n",
       "      <th>1</th>\n",
       "      <td>7</td>\n",
       "      <td>3350000.0</td>\n",
       "      <td>40.40</td>\n",
       "      <td>2018-12-04T00:00:00</td>\n",
       "      <td>1</td>\n",
       "      <td>NaN</td>\n",
       "      <td>11.0</td>\n",
       "      <td>18.60</td>\n",
       "      <td>1</td>\n",
       "      <td>NaN</td>\n",
       "      <td>...</td>\n",
       "      <td>11.00</td>\n",
       "      <td>2.0</td>\n",
       "      <td>посёлок Шушары</td>\n",
       "      <td>12817.0</td>\n",
       "      <td>18603.0</td>\n",
       "      <td>0.0</td>\n",
       "      <td>NaN</td>\n",
       "      <td>0.0</td>\n",
       "      <td>NaN</td>\n",
       "      <td>81.0</td>\n",
       "    </tr>\n",
       "    <tr>\n",
       "      <th>2</th>\n",
       "      <td>10</td>\n",
       "      <td>5196000.0</td>\n",
       "      <td>56.00</td>\n",
       "      <td>2015-08-20T00:00:00</td>\n",
       "      <td>2</td>\n",
       "      <td>NaN</td>\n",
       "      <td>5.0</td>\n",
       "      <td>34.30</td>\n",
       "      <td>4</td>\n",
       "      <td>NaN</td>\n",
       "      <td>...</td>\n",
       "      <td>8.30</td>\n",
       "      <td>0.0</td>\n",
       "      <td>Санкт-Петербург</td>\n",
       "      <td>21741.0</td>\n",
       "      <td>13933.0</td>\n",
       "      <td>1.0</td>\n",
       "      <td>90.0</td>\n",
       "      <td>2.0</td>\n",
       "      <td>574.0</td>\n",
       "      <td>558.0</td>\n",
       "    </tr>\n",
       "    <tr>\n",
       "      <th>3</th>\n",
       "      <td>0</td>\n",
       "      <td>64900000.0</td>\n",
       "      <td>159.00</td>\n",
       "      <td>2015-07-24T00:00:00</td>\n",
       "      <td>3</td>\n",
       "      <td>NaN</td>\n",
       "      <td>14.0</td>\n",
       "      <td>NaN</td>\n",
       "      <td>9</td>\n",
       "      <td>NaN</td>\n",
       "      <td>...</td>\n",
       "      <td>NaN</td>\n",
       "      <td>0.0</td>\n",
       "      <td>Санкт-Петербург</td>\n",
       "      <td>28098.0</td>\n",
       "      <td>6800.0</td>\n",
       "      <td>2.0</td>\n",
       "      <td>84.0</td>\n",
       "      <td>3.0</td>\n",
       "      <td>234.0</td>\n",
       "      <td>424.0</td>\n",
       "    </tr>\n",
       "    <tr>\n",
       "      <th>4</th>\n",
       "      <td>2</td>\n",
       "      <td>10000000.0</td>\n",
       "      <td>100.00</td>\n",
       "      <td>2018-06-19T00:00:00</td>\n",
       "      <td>2</td>\n",
       "      <td>3.03</td>\n",
       "      <td>14.0</td>\n",
       "      <td>32.00</td>\n",
       "      <td>13</td>\n",
       "      <td>NaN</td>\n",
       "      <td>...</td>\n",
       "      <td>41.00</td>\n",
       "      <td>NaN</td>\n",
       "      <td>Санкт-Петербург</td>\n",
       "      <td>31856.0</td>\n",
       "      <td>8098.0</td>\n",
       "      <td>2.0</td>\n",
       "      <td>112.0</td>\n",
       "      <td>1.0</td>\n",
       "      <td>48.0</td>\n",
       "      <td>121.0</td>\n",
       "    </tr>\n",
       "    <tr>\n",
       "      <th>5</th>\n",
       "      <td>10</td>\n",
       "      <td>2890000.0</td>\n",
       "      <td>30.40</td>\n",
       "      <td>2018-09-10T00:00:00</td>\n",
       "      <td>1</td>\n",
       "      <td>NaN</td>\n",
       "      <td>12.0</td>\n",
       "      <td>14.40</td>\n",
       "      <td>5</td>\n",
       "      <td>NaN</td>\n",
       "      <td>...</td>\n",
       "      <td>9.10</td>\n",
       "      <td>NaN</td>\n",
       "      <td>городской посёлок Янино-1</td>\n",
       "      <td>NaN</td>\n",
       "      <td>NaN</td>\n",
       "      <td>NaN</td>\n",
       "      <td>NaN</td>\n",
       "      <td>NaN</td>\n",
       "      <td>NaN</td>\n",
       "      <td>55.0</td>\n",
       "    </tr>\n",
       "    <tr>\n",
       "      <th>6</th>\n",
       "      <td>6</td>\n",
       "      <td>3700000.0</td>\n",
       "      <td>37.30</td>\n",
       "      <td>2017-11-02T00:00:00</td>\n",
       "      <td>1</td>\n",
       "      <td>NaN</td>\n",
       "      <td>26.0</td>\n",
       "      <td>10.60</td>\n",
       "      <td>6</td>\n",
       "      <td>NaN</td>\n",
       "      <td>...</td>\n",
       "      <td>14.40</td>\n",
       "      <td>1.0</td>\n",
       "      <td>посёлок Парголово</td>\n",
       "      <td>52996.0</td>\n",
       "      <td>19143.0</td>\n",
       "      <td>0.0</td>\n",
       "      <td>NaN</td>\n",
       "      <td>0.0</td>\n",
       "      <td>NaN</td>\n",
       "      <td>155.0</td>\n",
       "    </tr>\n",
       "    <tr>\n",
       "      <th>7</th>\n",
       "      <td>5</td>\n",
       "      <td>7915000.0</td>\n",
       "      <td>71.60</td>\n",
       "      <td>2019-04-18T00:00:00</td>\n",
       "      <td>2</td>\n",
       "      <td>NaN</td>\n",
       "      <td>24.0</td>\n",
       "      <td>NaN</td>\n",
       "      <td>22</td>\n",
       "      <td>NaN</td>\n",
       "      <td>...</td>\n",
       "      <td>18.90</td>\n",
       "      <td>2.0</td>\n",
       "      <td>Санкт-Петербург</td>\n",
       "      <td>23982.0</td>\n",
       "      <td>11634.0</td>\n",
       "      <td>0.0</td>\n",
       "      <td>NaN</td>\n",
       "      <td>0.0</td>\n",
       "      <td>NaN</td>\n",
       "      <td>NaN</td>\n",
       "    </tr>\n",
       "    <tr>\n",
       "      <th>8</th>\n",
       "      <td>20</td>\n",
       "      <td>2900000.0</td>\n",
       "      <td>33.16</td>\n",
       "      <td>2018-05-23T00:00:00</td>\n",
       "      <td>1</td>\n",
       "      <td>NaN</td>\n",
       "      <td>27.0</td>\n",
       "      <td>15.43</td>\n",
       "      <td>26</td>\n",
       "      <td>NaN</td>\n",
       "      <td>...</td>\n",
       "      <td>8.81</td>\n",
       "      <td>NaN</td>\n",
       "      <td>посёлок Мурино</td>\n",
       "      <td>NaN</td>\n",
       "      <td>NaN</td>\n",
       "      <td>NaN</td>\n",
       "      <td>NaN</td>\n",
       "      <td>NaN</td>\n",
       "      <td>NaN</td>\n",
       "      <td>189.0</td>\n",
       "    </tr>\n",
       "    <tr>\n",
       "      <th>9</th>\n",
       "      <td>18</td>\n",
       "      <td>5400000.0</td>\n",
       "      <td>61.00</td>\n",
       "      <td>2017-02-26T00:00:00</td>\n",
       "      <td>3</td>\n",
       "      <td>2.50</td>\n",
       "      <td>9.0</td>\n",
       "      <td>43.60</td>\n",
       "      <td>7</td>\n",
       "      <td>NaN</td>\n",
       "      <td>...</td>\n",
       "      <td>6.50</td>\n",
       "      <td>2.0</td>\n",
       "      <td>Санкт-Петербург</td>\n",
       "      <td>50898.0</td>\n",
       "      <td>15008.0</td>\n",
       "      <td>0.0</td>\n",
       "      <td>NaN</td>\n",
       "      <td>0.0</td>\n",
       "      <td>NaN</td>\n",
       "      <td>289.0</td>\n",
       "    </tr>\n",
       "  </tbody>\n",
       "</table>\n",
       "<p>10 rows × 22 columns</p>\n",
       "</div>"
      ],
      "text/plain": [
       "   total_images  last_price  total_area first_day_exposition  rooms  \\\n",
       "0            20  13000000.0      108.00  2019-03-07T00:00:00      3   \n",
       "1             7   3350000.0       40.40  2018-12-04T00:00:00      1   \n",
       "2            10   5196000.0       56.00  2015-08-20T00:00:00      2   \n",
       "3             0  64900000.0      159.00  2015-07-24T00:00:00      3   \n",
       "4             2  10000000.0      100.00  2018-06-19T00:00:00      2   \n",
       "5            10   2890000.0       30.40  2018-09-10T00:00:00      1   \n",
       "6             6   3700000.0       37.30  2017-11-02T00:00:00      1   \n",
       "7             5   7915000.0       71.60  2019-04-18T00:00:00      2   \n",
       "8            20   2900000.0       33.16  2018-05-23T00:00:00      1   \n",
       "9            18   5400000.0       61.00  2017-02-26T00:00:00      3   \n",
       "\n",
       "   ceiling_height  floors_total  living_area  floor is_apartment  ...  \\\n",
       "0            2.70          16.0        51.00      8          NaN  ...   \n",
       "1             NaN          11.0        18.60      1          NaN  ...   \n",
       "2             NaN           5.0        34.30      4          NaN  ...   \n",
       "3             NaN          14.0          NaN      9          NaN  ...   \n",
       "4            3.03          14.0        32.00     13          NaN  ...   \n",
       "5             NaN          12.0        14.40      5          NaN  ...   \n",
       "6             NaN          26.0        10.60      6          NaN  ...   \n",
       "7             NaN          24.0          NaN     22          NaN  ...   \n",
       "8             NaN          27.0        15.43     26          NaN  ...   \n",
       "9            2.50           9.0        43.60      7          NaN  ...   \n",
       "\n",
       "   kitchen_area  balcony              locality_name  airports_nearest  \\\n",
       "0         25.00      NaN            Санкт-Петербург           18863.0   \n",
       "1         11.00      2.0             посёлок Шушары           12817.0   \n",
       "2          8.30      0.0            Санкт-Петербург           21741.0   \n",
       "3           NaN      0.0            Санкт-Петербург           28098.0   \n",
       "4         41.00      NaN            Санкт-Петербург           31856.0   \n",
       "5          9.10      NaN  городской посёлок Янино-1               NaN   \n",
       "6         14.40      1.0          посёлок Парголово           52996.0   \n",
       "7         18.90      2.0            Санкт-Петербург           23982.0   \n",
       "8          8.81      NaN             посёлок Мурино               NaN   \n",
       "9          6.50      2.0            Санкт-Петербург           50898.0   \n",
       "\n",
       "  cityCenters_nearest  parks_around3000  parks_nearest  ponds_around3000  \\\n",
       "0             16028.0               1.0          482.0               2.0   \n",
       "1             18603.0               0.0            NaN               0.0   \n",
       "2             13933.0               1.0           90.0               2.0   \n",
       "3              6800.0               2.0           84.0               3.0   \n",
       "4              8098.0               2.0          112.0               1.0   \n",
       "5                 NaN               NaN            NaN               NaN   \n",
       "6             19143.0               0.0            NaN               0.0   \n",
       "7             11634.0               0.0            NaN               0.0   \n",
       "8                 NaN               NaN            NaN               NaN   \n",
       "9             15008.0               0.0            NaN               0.0   \n",
       "\n",
       "   ponds_nearest  days_exposition  \n",
       "0          755.0              NaN  \n",
       "1            NaN             81.0  \n",
       "2          574.0            558.0  \n",
       "3          234.0            424.0  \n",
       "4           48.0            121.0  \n",
       "5            NaN             55.0  \n",
       "6            NaN            155.0  \n",
       "7            NaN              NaN  \n",
       "8            NaN            189.0  \n",
       "9            NaN            289.0  \n",
       "\n",
       "[10 rows x 22 columns]"
      ]
     },
     "execution_count": 219,
     "metadata": {},
     "output_type": "execute_result"
    }
   ],
   "source": [
    "data.head(10)"
   ]
  },
  {
   "cell_type": "markdown",
   "metadata": {},
   "source": [
    "**Рассмотрим детально названия столбцов**"
   ]
  },
  {
   "cell_type": "code",
   "execution_count": 220,
   "metadata": {},
   "outputs": [
    {
     "data": {
      "text/plain": [
       "Index(['total_images', 'last_price', 'total_area', 'first_day_exposition',\n",
       "       'rooms', 'ceiling_height', 'floors_total', 'living_area', 'floor',\n",
       "       'is_apartment', 'studio', 'open_plan', 'kitchen_area', 'balcony',\n",
       "       'locality_name', 'airports_nearest', 'cityCenters_nearest',\n",
       "       'parks_around3000', 'parks_nearest', 'ponds_around3000',\n",
       "       'ponds_nearest', 'days_exposition'],\n",
       "      dtype='object')"
      ]
     },
     "execution_count": 220,
     "metadata": {},
     "output_type": "execute_result"
    }
   ],
   "source": [
    "data.columns"
   ]
  },
  {
   "cell_type": "markdown",
   "metadata": {},
   "source": [
    "**Переименуем столбцы cityCenters_nearest, parks_around3000, ponds_around3000** "
   ]
  },
  {
   "cell_type": "code",
   "execution_count": 221,
   "metadata": {},
   "outputs": [],
   "source": [
    "data = data.rename(columns = {'cityCenters_nearest': 'city_centers_nearest', \n",
    "                              'parks_around3000': 'parks_around_3000',\n",
    "                              'ponds_around3000': 'ponds_around_3000'})"
   ]
  },
  {
   "cell_type": "markdown",
   "metadata": {},
   "source": [
    "**Проверим переименование столбцов**"
   ]
  },
  {
   "cell_type": "code",
   "execution_count": 222,
   "metadata": {},
   "outputs": [
    {
     "data": {
      "text/plain": [
       "Index(['total_images', 'last_price', 'total_area', 'first_day_exposition',\n",
       "       'rooms', 'ceiling_height', 'floors_total', 'living_area', 'floor',\n",
       "       'is_apartment', 'studio', 'open_plan', 'kitchen_area', 'balcony',\n",
       "       'locality_name', 'airports_nearest', 'city_centers_nearest',\n",
       "       'parks_around_3000', 'parks_nearest', 'ponds_around_3000',\n",
       "       'ponds_nearest', 'days_exposition'],\n",
       "      dtype='object')"
      ]
     },
     "execution_count": 222,
     "metadata": {},
     "output_type": "execute_result"
    }
   ],
   "source": [
    "data.columns"
   ]
  },
  {
   "cell_type": "markdown",
   "metadata": {},
   "source": [
    "**Построим общую гистограмму для всех числовых столбцов датафейма**"
   ]
  },
  {
   "cell_type": "code",
   "execution_count": 324,
   "metadata": {},
   "outputs": [
    {
     "data": {
      "image/png": "[encoded data removed]",
      "text/plain": [
       "<Figure size 1080x1440 with 25 Axes>"
      ]
     },
     "metadata": {
      "needs_background": "light"
     },
     "output_type": "display_data"
    }
   ],
   "source": [
    "data.hist(figsize = (15, 20));"
   ]
  },
  {
   "cell_type": "markdown",
   "metadata": {},
   "source": [
    "### Предобработка данных"
   ]
  },
  {
   "cell_type": "markdown",
   "metadata": {},
   "source": [
    "**1. Найдем и изучим пропущенные значения в стобцах**"
   ]
  },
  {
   "cell_type": "markdown",
   "metadata": {},
   "source": [
    "**Определим столбцы, содержащие пропущенные значения**"
   ]
  },
  {
   "cell_type": "code",
   "execution_count": 224,
   "metadata": {},
   "outputs": [
    {
     "data": {
      "text/plain": [
       "total_images                0\n",
       "last_price                  0\n",
       "total_area                  0\n",
       "first_day_exposition        0\n",
       "rooms                       0\n",
       "ceiling_height           9195\n",
       "floors_total               86\n",
       "living_area              1903\n",
       "floor                       0\n",
       "is_apartment            20924\n",
       "studio                      0\n",
       "open_plan                   0\n",
       "kitchen_area             2278\n",
       "balcony                 11519\n",
       "locality_name              49\n",
       "airports_nearest         5542\n",
       "city_centers_nearest     5519\n",
       "parks_around_3000        5518\n",
       "parks_nearest           15620\n",
       "ponds_around_3000        5518\n",
       "ponds_nearest           14589\n",
       "days_exposition          3181\n",
       "dtype: int64"
      ]
     },
     "execution_count": 224,
     "metadata": {},
     "output_type": "execute_result"
    }
   ],
   "source": [
    "data.isna().sum()"
   ]
  },
  {
   "cell_type": "markdown",
   "metadata": {},
   "source": [
    "**Заменим пропуски в столбце ceiling_height на медианное значение с проверкой заполнения пропусков**"
   ]
  },
  {
   "cell_type": "code",
   "execution_count": 225,
   "metadata": {},
   "outputs": [
    {
     "data": {
      "text/plain": [
       "count    14504.000000\n",
       "mean         2.771499\n",
       "std          1.261056\n",
       "min          1.000000\n",
       "25%          2.520000\n",
       "50%          2.650000\n",
       "75%          2.800000\n",
       "max        100.000000\n",
       "Name: ceiling_height, dtype: float64"
      ]
     },
     "execution_count": 225,
     "metadata": {},
     "output_type": "execute_result"
    }
   ],
   "source": [
    "# общая информация о столбце ceiling_height\n",
    "data['ceiling_height'].describe()"
   ]
  },
  {
   "cell_type": "markdown",
   "metadata": {},
   "source": [
    "В квартире врядли можно встретить потолки выше 10 метров и ниже 2х метров. Отбросим их при расчете медианы"
   ]
  },
  {
   "cell_type": "code",
   "execution_count": 226,
   "metadata": {},
   "outputs": [
    {
     "data": {
      "text/plain": [
       "2.65"
      ]
     },
     "execution_count": 226,
     "metadata": {},
     "output_type": "execute_result"
    }
   ],
   "source": [
    "# медианное значение высоты потолка\n",
    "data.query('ceiling_height > 2 and ceiling_height < 10')['ceiling_height'].median()"
   ]
  },
  {
   "cell_type": "markdown",
   "metadata": {},
   "source": [
    "Заменим аномальные и пропущенные значения на медианные"
   ]
  },
  {
   "cell_type": "code",
   "execution_count": 227,
   "metadata": {},
   "outputs": [],
   "source": [
    "data.loc[data['ceiling_height'] < 2, 'ceiling_height'] = 2.65"
   ]
  },
  {
   "cell_type": "code",
   "execution_count": 228,
   "metadata": {},
   "outputs": [],
   "source": [
    "data.loc[data['ceiling_height'] > 10, 'ceiling_height'] = 2.65"
   ]
  },
  {
   "cell_type": "code",
   "execution_count": 229,
   "metadata": {},
   "outputs": [],
   "source": [
    "data['ceiling_height'] = data['ceiling_height'].fillna(2.65)"
   ]
  },
  {
   "cell_type": "markdown",
   "metadata": {},
   "source": [
    "**Исправление пропусков в столбце is_apartment**"
   ]
  },
  {
   "cell_type": "code",
   "execution_count": 230,
   "metadata": {},
   "outputs": [],
   "source": [
    "data['is_apartment'] = data['is_apartment'].fillna(False)"
   ]
  },
  {
   "cell_type": "markdown",
   "metadata": {},
   "source": [
    "**Исправление пропусков в столбце kitchen_area**"
   ]
  },
  {
   "cell_type": "code",
   "execution_count": 231,
   "metadata": {},
   "outputs": [
    {
     "data": {
      "text/plain": [
       "studio\n",
       "False    21421\n",
       "True         0\n",
       "Name: kitchen_area, dtype: int64"
      ]
     },
     "execution_count": 231,
     "metadata": {},
     "output_type": "execute_result"
    }
   ],
   "source": [
    "# Количество заполненных значений по столбцу kitchen_area для столбца studio\n",
    "data.groupby('studio')['kitchen_area'].count()"
   ]
  },
  {
   "cell_type": "markdown",
   "metadata": {},
   "source": [
    "Для студий действительно не указана площадь кухни. Можно заменить пропуски на 0."
   ]
  },
  {
   "cell_type": "code",
   "execution_count": 232,
   "metadata": {},
   "outputs": [],
   "source": [
    "data['kitchen_area'] = data['kitchen_area'].fillna(0)"
   ]
  },
  {
   "cell_type": "markdown",
   "metadata": {},
   "source": [
    "**Заменим пропуски в стобцах balcony, airports_nearest, city_centers_nearest, parks_around_3000, parks_nearest,\n",
    "ponds_around_3000, ponds_nearest, days_exposition на 0**"
   ]
  },
  {
   "cell_type": "code",
   "execution_count": 233,
   "metadata": {},
   "outputs": [],
   "source": [
    "data[['balcony', 'airports_nearest', 'city_centers_nearest', 'parks_around_3000', \n",
    "      'parks_nearest', 'ponds_around_3000', 'ponds_nearest', 'days_exposition']] = data[['balcony', 'airports_nearest', 'city_centers_nearest', 'parks_around_3000', \n",
    "      'parks_nearest', 'ponds_around_3000', 'ponds_nearest', 'days_exposition']]. fillna (value = 0 )"
   ]
  },
  {
   "cell_type": "code",
   "execution_count": 234,
   "metadata": {},
   "outputs": [
    {
     "data": {
      "text/plain": [
       "total_images               0\n",
       "last_price                 0\n",
       "total_area                 0\n",
       "first_day_exposition       0\n",
       "rooms                      0\n",
       "ceiling_height             0\n",
       "floors_total              86\n",
       "living_area             1903\n",
       "floor                      0\n",
       "is_apartment               0\n",
       "studio                     0\n",
       "open_plan                  0\n",
       "kitchen_area               0\n",
       "balcony                    0\n",
       "locality_name             49\n",
       "airports_nearest           0\n",
       "city_centers_nearest       0\n",
       "parks_around_3000          0\n",
       "parks_nearest              0\n",
       "ponds_around_3000          0\n",
       "ponds_nearest              0\n",
       "days_exposition            0\n",
       "dtype: int64"
      ]
     },
     "execution_count": 234,
     "metadata": {},
     "output_type": "execute_result"
    }
   ],
   "source": [
    "data.isna().sum()"
   ]
  },
  {
   "cell_type": "markdown",
   "metadata": {},
   "source": [
    "**Разберем причины пропусков значений и возможные пути устранения пропусков**"
   ]
  },
  {
   "cell_type": "markdown",
   "metadata": {},
   "source": [
    "ceiling_height           9195 - пропуск возможно означает ошибку в данных (заполним медианным значением)<br>\n",
    "floors_total               86 - пропуск означает незаполение данных (оставим без измененией)<br>\n",
    "living_area              1903 - нельзя однозначно определить причину пропуска (оставим без измененией)<br>\n",
    "is_apartment            20924 - пропуск возможно означает, что это не апартаменты (заменим на False)<br>\n",
    "kitchen_area             2278 - пропуск возможно означает отсутствие отдельного помещения для кухни (проверить, является ли помещение студией, если да, поставить 0)<br>\n",
    "balcony                 11519 - пропуск возможно означает отсутствие балкона (заменим на 0)<br>\n",
    "locality_name              49 - нельзя однозначно определить причину пропуска (оставим 0)<br>\n",
    "airports_nearest         5542 - пропуск означает отсутствие аэропорта рядом (заменим на 0)<br>\n",
    "city_centers_nearest      5519 - пропуск означает, что объект удален от центра города (заменим на 0)<br>\n",
    "parks_around_3000         5518 - пропуск означает отсутствие парка в радиусе 3 км (заменим на 0)<br>\n",
    "parks_nearest           15620 - пропуск означает отсутствие парка рядом (заменим на 0)<br>\n",
    "ponds_around_3000         5518 - пропуск означает отсутствие пруда в радиусе 3 км (заменим на 0)<br>\n",
    "ponds_nearest           14589 - пропуск означает отсутствие водоема рядом (заменим на 0)<br>\n",
    "days_exposition          3181 - пропуск означает неснятые с публикации объявления (заменим на 0)<br>"
   ]
  },
  {
   "cell_type": "markdown",
   "metadata": {},
   "source": [
    "**2. Рассмотрим типы данных  каждом столбце**"
   ]
  },
  {
   "cell_type": "code",
   "execution_count": 235,
   "metadata": {},
   "outputs": [
    {
     "name": "stdout",
     "output_type": "stream",
     "text": [
      "<class 'pandas.core.frame.DataFrame'>\n",
      "RangeIndex: 23699 entries, 0 to 23698\n",
      "Data columns (total 22 columns):\n",
      " #   Column                Non-Null Count  Dtype  \n",
      "---  ------                --------------  -----  \n",
      " 0   total_images          23699 non-null  int64  \n",
      " 1   last_price            23699 non-null  float64\n",
      " 2   total_area            23699 non-null  float64\n",
      " 3   first_day_exposition  23699 non-null  object \n",
      " 4   rooms                 23699 non-null  int64  \n",
      " 5   ceiling_height        23699 non-null  float64\n",
      " 6   floors_total          23613 non-null  float64\n",
      " 7   living_area           21796 non-null  float64\n",
      " 8   floor                 23699 non-null  int64  \n",
      " 9   is_apartment          23699 non-null  bool   \n",
      " 10  studio                23699 non-null  bool   \n",
      " 11  open_plan             23699 non-null  bool   \n",
      " 12  kitchen_area          23699 non-null  float64\n",
      " 13  balcony               23699 non-null  float64\n",
      " 14  locality_name         23650 non-null  object \n",
      " 15  airports_nearest      23699 non-null  float64\n",
      " 16  city_centers_nearest  23699 non-null  float64\n",
      " 17  parks_around_3000     23699 non-null  float64\n",
      " 18  parks_nearest         23699 non-null  float64\n",
      " 19  ponds_around_3000     23699 non-null  float64\n",
      " 20  ponds_nearest         23699 non-null  float64\n",
      " 21  days_exposition       23699 non-null  float64\n",
      "dtypes: bool(3), float64(14), int64(3), object(2)\n",
      "memory usage: 3.5+ MB\n"
     ]
    }
   ],
   "source": [
    "data.info()"
   ]
  },
  {
   "cell_type": "markdown",
   "metadata": {},
   "source": [
    "**Нужно изменить типы данных:**<br>\n",
    "- По столбцу is_apartment наблюдается некорректный тип данных. Должен быть bool.<br>\n",
    "- По столбцу first_day_exposition наблюдается некорректный тип данных. Должен быть datetime64.<br>\n",
    "- По столбцу floors_total наблюдается некорректный тип данных. Должен быть int64.<br>\n",
    "- По столбцу last_price наблюдается некорректный тип данных. Должен быть int64 <br>\n",
    "- По столбцу balcony наблюдается некорректный тип данных. Должен быть int64 <br>\n",
    "- По столбцу days_exposition наблюдается некорректный тип данных. Должен быть int64 <br>"
   ]
  },
  {
   "cell_type": "markdown",
   "metadata": {},
   "source": [
    "**Преобразуем типы данных в выбранных столбцах с помощью try()**"
   ]
  },
  {
   "cell_type": "code",
   "execution_count": 236,
   "metadata": {},
   "outputs": [
    {
     "name": "stdout",
     "output_type": "stream",
     "text": [
      "Тип данных исправлен успешно для столбца is_apartment\n",
      "Тип данных исправлен успешно для столбца first_day_exposition\n",
      "Тип данных исправлен успешно для столбца floors_total\n",
      "Тип данных исправлен успешно для столбца last_price\n",
      "Тип данных исправлен успешно для столбца balcony\n",
      "Тип данных исправлен успешно для столбца days_exposition\n"
     ]
    }
   ],
   "source": [
    "try:\n",
    "    data['is_apartment'] = data['is_apartment'].astype('bool')\n",
    "    print('Тип данных исправлен успешно для столбца is_apartment')\n",
    "except:\n",
    "    print('Возникла ошибка при исправлении типа данных в стоблце is_apartment')\n",
    "    \n",
    "try:\n",
    "    data['first_day_exposition'] = pd.to_datetime(data['first_day_exposition'], format = '%Y-%m-%d')\n",
    "    print('Тип данных исправлен успешно для столбца first_day_exposition')\n",
    "except:\n",
    "    print('Возникла ошибка при исправлении типа данных в стоблце first_day_exposition')  \n",
    "    \n",
    "try:\n",
    "    data['floors_total'] = pd.to_numeric(data['floors_total'], errors='coerce')\n",
    "    print('Тип данных исправлен успешно для столбца floors_total')\n",
    "except:\n",
    "    print('Возникла ошибка при исправлении типа данных в стоблце floors_total') \n",
    "    \n",
    "try:\n",
    "    data['last_price'] = data['last_price'].astype('int64')\n",
    "    print('Тип данных исправлен успешно для столбца last_price')\n",
    "except:\n",
    "    print('Возникла ошибка при исправлении типа данных в стоблце last_price')   \n",
    "    \n",
    "try:\n",
    "    data['balcony'] = data['balcony'].astype('int64')\n",
    "    print('Тип данных исправлен успешно для столбца balcony')\n",
    "except:\n",
    "    print('Возникла ошибка при исправлении типа данных в стоблце balcony')\n",
    "    \n",
    "try:\n",
    "    data['days_exposition'] = data['days_exposition'].astype('int64')\n",
    "    print('Тип данных исправлен успешно для столбца days_exposition')\n",
    "except:\n",
    "    print('Возникла ошибка при исправлении типа данных в стоблце days_exposition')    \n",
    "    \n",
    "    "
   ]
  },
  {
   "cell_type": "code",
   "execution_count": 237,
   "metadata": {},
   "outputs": [
    {
     "data": {
      "text/plain": [
       "0   2019-03-07\n",
       "1   2018-12-04\n",
       "2   2015-08-20\n",
       "3   2015-07-24\n",
       "4   2018-06-19\n",
       "Name: first_day_exposition, dtype: datetime64[ns]"
      ]
     },
     "execution_count": 237,
     "metadata": {},
     "output_type": "execute_result"
    }
   ],
   "source": [
    "# проверим отображение даты в таблице\n",
    "data['first_day_exposition'].head()"
   ]
  },
  {
   "cell_type": "markdown",
   "metadata": {},
   "source": [
    "Изменение типов данных требуется для быстрой и корректной работы с данными."
   ]
  },
  {
   "cell_type": "markdown",
   "metadata": {},
   "source": [
    "**3. Изучим уникальные значения и устраним неявные дубликаты в столбце locality_name**"
   ]
  },
  {
   "cell_type": "markdown",
   "metadata": {},
   "source": [
    "**Найдем уникальные значения в столбце locality_name**"
   ]
  },
  {
   "cell_type": "code",
   "execution_count": 238,
   "metadata": {},
   "outputs": [
    {
     "data": {
      "text/plain": [
       "365"
      ]
     },
     "execution_count": 238,
     "metadata": {},
     "output_type": "execute_result"
    }
   ],
   "source": [
    "len(data['locality_name'].unique())"
   ]
  },
  {
   "cell_type": "markdown",
   "metadata": {},
   "source": [
    "**Определим количество дубликотов**"
   ]
  },
  {
   "cell_type": "code",
   "execution_count": 239,
   "metadata": {
    "scrolled": true
   },
   "outputs": [
    {
     "data": {
      "text/plain": [
       "23334"
      ]
     },
     "execution_count": 239,
     "metadata": {},
     "output_type": "execute_result"
    }
   ],
   "source": [
    "data['locality_name'].duplicated().sum()"
   ]
  },
  {
   "cell_type": "markdown",
   "metadata": {},
   "source": [
    "**Посмотрим содержание столбца**"
   ]
  },
  {
   "cell_type": "code",
   "execution_count": 240,
   "metadata": {
    "scrolled": true
   },
   "outputs": [
    {
     "data": {
      "text/plain": [
       "Санкт-Петербург          15721\n",
       "посёлок Мурино             522\n",
       "посёлок Шушары             440\n",
       "Всеволожск                 398\n",
       "Пушкин                     369\n",
       "                         ...  \n",
       "поселок Ромашки              1\n",
       "посёлок Мыза-Ивановка        1\n",
       "поселок Лисий Нос            1\n",
       "деревня Пельгора             1\n",
       "посёлок Алексеевка           1\n",
       "Name: locality_name, Length: 364, dtype: int64"
      ]
     },
     "execution_count": 240,
     "metadata": {},
     "output_type": "execute_result"
    }
   ],
   "source": [
    "data['locality_name'].value_counts()"
   ]
  },
  {
   "cell_type": "markdown",
   "metadata": {},
   "source": [
    "**Приведем названия к нижнему регистру**"
   ]
  },
  {
   "cell_type": "code",
   "execution_count": 241,
   "metadata": {},
   "outputs": [
    {
     "data": {
      "text/plain": [
       "0              санкт-петербург\n",
       "1               посёлок шушары\n",
       "2              санкт-петербург\n",
       "3              санкт-петербург\n",
       "4              санкт-петербург\n",
       "5    городской посёлок янино-1\n",
       "6            посёлок парголово\n",
       "7              санкт-петербург\n",
       "8               посёлок мурино\n",
       "9              санкт-петербург\n",
       "Name: locality_name, dtype: object"
      ]
     },
     "execution_count": 241,
     "metadata": {},
     "output_type": "execute_result"
    }
   ],
   "source": [
    "data['locality_name'] = data['locality_name'].str.lower()\n",
    "data['locality_name'].head(10)"
   ]
  },
  {
   "cell_type": "markdown",
   "metadata": {},
   "source": [
    "**Заменим ё на е**"
   ]
  },
  {
   "cell_type": "code",
   "execution_count": 242,
   "metadata": {},
   "outputs": [],
   "source": [
    "data['locality_name'] = data['locality_name'].str.replace('ё', 'е')"
   ]
  },
  {
   "cell_type": "markdown",
   "metadata": {},
   "source": [
    "**Заменяем \"городской поселок\" на \"поселок городского типа\"**"
   ]
  },
  {
   "cell_type": "code",
   "execution_count": 243,
   "metadata": {},
   "outputs": [],
   "source": [
    "data['locality_name'] = data['locality_name'].str.replace('городской поселок', 'поселок городского типа')"
   ]
  },
  {
   "cell_type": "markdown",
   "metadata": {},
   "source": [
    "**Проверим наличие дубликатов**"
   ]
  },
  {
   "cell_type": "code",
   "execution_count": 244,
   "metadata": {},
   "outputs": [
    {
     "data": {
      "text/plain": [
       "23375"
      ]
     },
     "execution_count": 244,
     "metadata": {},
     "output_type": "execute_result"
    }
   ],
   "source": [
    "data['locality_name'].duplicated().sum()"
   ]
  },
  {
   "cell_type": "code",
   "execution_count": 245,
   "metadata": {},
   "outputs": [
    {
     "data": {
      "text/plain": [
       "324"
      ]
     },
     "execution_count": 245,
     "metadata": {},
     "output_type": "execute_result"
    }
   ],
   "source": [
    "len(data['locality_name'].unique())"
   ]
  },
  {
   "cell_type": "markdown",
   "metadata": {},
   "source": [
    "**4. Работа с редкими и выбивающимися значениями**"
   ]
  },
  {
   "cell_type": "code",
   "execution_count": 246,
   "metadata": {},
   "outputs": [
    {
     "data": {
      "text/html": [
       "<div>\n",
       "<style scoped>\n",
       "    .dataframe tbody tr th:only-of-type {\n",
       "        vertical-align: middle;\n",
       "    }\n",
       "\n",
       "    .dataframe tbody tr th {\n",
       "        vertical-align: top;\n",
       "    }\n",
       "\n",
       "    .dataframe thead th {\n",
       "        text-align: right;\n",
       "    }\n",
       "</style>\n",
       "<table border=\"1\" class=\"dataframe\">\n",
       "  <thead>\n",
       "    <tr style=\"text-align: right;\">\n",
       "      <th></th>\n",
       "      <th>total_images</th>\n",
       "      <th>last_price</th>\n",
       "      <th>total_area</th>\n",
       "      <th>rooms</th>\n",
       "      <th>ceiling_height</th>\n",
       "      <th>floors_total</th>\n",
       "      <th>living_area</th>\n",
       "      <th>floor</th>\n",
       "      <th>kitchen_area</th>\n",
       "      <th>balcony</th>\n",
       "      <th>airports_nearest</th>\n",
       "      <th>city_centers_nearest</th>\n",
       "      <th>parks_around_3000</th>\n",
       "      <th>parks_nearest</th>\n",
       "      <th>ponds_around_3000</th>\n",
       "      <th>ponds_nearest</th>\n",
       "      <th>days_exposition</th>\n",
       "    </tr>\n",
       "  </thead>\n",
       "  <tbody>\n",
       "    <tr>\n",
       "      <th>count</th>\n",
       "      <td>23699.000000</td>\n",
       "      <td>2.369900e+04</td>\n",
       "      <td>23699.000000</td>\n",
       "      <td>23699.000000</td>\n",
       "      <td>23699.000000</td>\n",
       "      <td>23613.000000</td>\n",
       "      <td>21796.000000</td>\n",
       "      <td>23699.000000</td>\n",
       "      <td>23699.000000</td>\n",
       "      <td>23699.000000</td>\n",
       "      <td>23699.000000</td>\n",
       "      <td>23699.000000</td>\n",
       "      <td>23699.000000</td>\n",
       "      <td>23699.000000</td>\n",
       "      <td>23699.000000</td>\n",
       "      <td>23699.000000</td>\n",
       "      <td>23699.000000</td>\n",
       "    </tr>\n",
       "    <tr>\n",
       "      <th>mean</th>\n",
       "      <td>9.858475</td>\n",
       "      <td>6.541549e+06</td>\n",
       "      <td>60.348651</td>\n",
       "      <td>2.070636</td>\n",
       "      <td>2.697811</td>\n",
       "      <td>10.673824</td>\n",
       "      <td>34.457852</td>\n",
       "      <td>5.892358</td>\n",
       "      <td>9.553814</td>\n",
       "      <td>0.591080</td>\n",
       "      <td>22060.285497</td>\n",
       "      <td>10886.426896</td>\n",
       "      <td>0.469049</td>\n",
       "      <td>167.315499</td>\n",
       "      <td>0.590911</td>\n",
       "      <td>199.114140</td>\n",
       "      <td>156.608844</td>\n",
       "    </tr>\n",
       "    <tr>\n",
       "      <th>std</th>\n",
       "      <td>5.682529</td>\n",
       "      <td>1.088701e+07</td>\n",
       "      <td>35.654083</td>\n",
       "      <td>1.078405</td>\n",
       "      <td>0.231773</td>\n",
       "      <td>6.597173</td>\n",
       "      <td>22.030445</td>\n",
       "      <td>4.885249</td>\n",
       "      <td>6.420973</td>\n",
       "      <td>0.959298</td>\n",
       "      <td>16455.276292</td>\n",
       "      <td>9634.613697</td>\n",
       "      <td>0.748534</td>\n",
       "      <td>306.709997</td>\n",
       "      <td>0.883999</td>\n",
       "      <td>305.188777</td>\n",
       "      <td>213.546873</td>\n",
       "    </tr>\n",
       "    <tr>\n",
       "      <th>min</th>\n",
       "      <td>0.000000</td>\n",
       "      <td>1.219000e+04</td>\n",
       "      <td>12.000000</td>\n",
       "      <td>0.000000</td>\n",
       "      <td>2.000000</td>\n",
       "      <td>1.000000</td>\n",
       "      <td>2.000000</td>\n",
       "      <td>1.000000</td>\n",
       "      <td>0.000000</td>\n",
       "      <td>0.000000</td>\n",
       "      <td>0.000000</td>\n",
       "      <td>0.000000</td>\n",
       "      <td>0.000000</td>\n",
       "      <td>0.000000</td>\n",
       "      <td>0.000000</td>\n",
       "      <td>0.000000</td>\n",
       "      <td>0.000000</td>\n",
       "    </tr>\n",
       "    <tr>\n",
       "      <th>25%</th>\n",
       "      <td>6.000000</td>\n",
       "      <td>3.400000e+06</td>\n",
       "      <td>40.000000</td>\n",
       "      <td>1.000000</td>\n",
       "      <td>2.600000</td>\n",
       "      <td>5.000000</td>\n",
       "      <td>18.600000</td>\n",
       "      <td>2.000000</td>\n",
       "      <td>6.300000</td>\n",
       "      <td>0.000000</td>\n",
       "      <td>10196.500000</td>\n",
       "      <td>2242.000000</td>\n",
       "      <td>0.000000</td>\n",
       "      <td>0.000000</td>\n",
       "      <td>0.000000</td>\n",
       "      <td>0.000000</td>\n",
       "      <td>22.000000</td>\n",
       "    </tr>\n",
       "    <tr>\n",
       "      <th>50%</th>\n",
       "      <td>9.000000</td>\n",
       "      <td>4.650000e+06</td>\n",
       "      <td>52.000000</td>\n",
       "      <td>2.000000</td>\n",
       "      <td>2.650000</td>\n",
       "      <td>9.000000</td>\n",
       "      <td>30.000000</td>\n",
       "      <td>4.000000</td>\n",
       "      <td>9.000000</td>\n",
       "      <td>0.000000</td>\n",
       "      <td>21869.000000</td>\n",
       "      <td>11247.000000</td>\n",
       "      <td>0.000000</td>\n",
       "      <td>0.000000</td>\n",
       "      <td>0.000000</td>\n",
       "      <td>0.000000</td>\n",
       "      <td>74.000000</td>\n",
       "    </tr>\n",
       "    <tr>\n",
       "      <th>75%</th>\n",
       "      <td>14.000000</td>\n",
       "      <td>6.800000e+06</td>\n",
       "      <td>69.900000</td>\n",
       "      <td>3.000000</td>\n",
       "      <td>2.700000</td>\n",
       "      <td>16.000000</td>\n",
       "      <td>42.300000</td>\n",
       "      <td>8.000000</td>\n",
       "      <td>11.440000</td>\n",
       "      <td>1.000000</td>\n",
       "      <td>34327.000000</td>\n",
       "      <td>15248.500000</td>\n",
       "      <td>1.000000</td>\n",
       "      <td>301.000000</td>\n",
       "      <td>1.000000</td>\n",
       "      <td>389.000000</td>\n",
       "      <td>199.000000</td>\n",
       "    </tr>\n",
       "    <tr>\n",
       "      <th>max</th>\n",
       "      <td>50.000000</td>\n",
       "      <td>7.630000e+08</td>\n",
       "      <td>900.000000</td>\n",
       "      <td>19.000000</td>\n",
       "      <td>8.300000</td>\n",
       "      <td>60.000000</td>\n",
       "      <td>409.700000</td>\n",
       "      <td>33.000000</td>\n",
       "      <td>112.000000</td>\n",
       "      <td>5.000000</td>\n",
       "      <td>84869.000000</td>\n",
       "      <td>65968.000000</td>\n",
       "      <td>3.000000</td>\n",
       "      <td>3190.000000</td>\n",
       "      <td>3.000000</td>\n",
       "      <td>1344.000000</td>\n",
       "      <td>1580.000000</td>\n",
       "    </tr>\n",
       "  </tbody>\n",
       "</table>\n",
       "</div>"
      ],
      "text/plain": [
       "       total_images    last_price    total_area         rooms  ceiling_height  \\\n",
       "count  23699.000000  2.369900e+04  23699.000000  23699.000000    23699.000000   \n",
       "mean       9.858475  6.541549e+06     60.348651      2.070636        2.697811   \n",
       "std        5.682529  1.088701e+07     35.654083      1.078405        0.231773   \n",
       "min        0.000000  1.219000e+04     12.000000      0.000000        2.000000   \n",
       "25%        6.000000  3.400000e+06     40.000000      1.000000        2.600000   \n",
       "50%        9.000000  4.650000e+06     52.000000      2.000000        2.650000   \n",
       "75%       14.000000  6.800000e+06     69.900000      3.000000        2.700000   \n",
       "max       50.000000  7.630000e+08    900.000000     19.000000        8.300000   \n",
       "\n",
       "       floors_total   living_area         floor  kitchen_area       balcony  \\\n",
       "count  23613.000000  21796.000000  23699.000000  23699.000000  23699.000000   \n",
       "mean      10.673824     34.457852      5.892358      9.553814      0.591080   \n",
       "std        6.597173     22.030445      4.885249      6.420973      0.959298   \n",
       "min        1.000000      2.000000      1.000000      0.000000      0.000000   \n",
       "25%        5.000000     18.600000      2.000000      6.300000      0.000000   \n",
       "50%        9.000000     30.000000      4.000000      9.000000      0.000000   \n",
       "75%       16.000000     42.300000      8.000000     11.440000      1.000000   \n",
       "max       60.000000    409.700000     33.000000    112.000000      5.000000   \n",
       "\n",
       "       airports_nearest  city_centers_nearest  parks_around_3000  \\\n",
       "count      23699.000000          23699.000000       23699.000000   \n",
       "mean       22060.285497          10886.426896           0.469049   \n",
       "std        16455.276292           9634.613697           0.748534   \n",
       "min            0.000000              0.000000           0.000000   \n",
       "25%        10196.500000           2242.000000           0.000000   \n",
       "50%        21869.000000          11247.000000           0.000000   \n",
       "75%        34327.000000          15248.500000           1.000000   \n",
       "max        84869.000000          65968.000000           3.000000   \n",
       "\n",
       "       parks_nearest  ponds_around_3000  ponds_nearest  days_exposition  \n",
       "count   23699.000000       23699.000000   23699.000000     23699.000000  \n",
       "mean      167.315499           0.590911     199.114140       156.608844  \n",
       "std       306.709997           0.883999     305.188777       213.546873  \n",
       "min         0.000000           0.000000       0.000000         0.000000  \n",
       "25%         0.000000           0.000000       0.000000        22.000000  \n",
       "50%         0.000000           0.000000       0.000000        74.000000  \n",
       "75%       301.000000           1.000000     389.000000       199.000000  \n",
       "max      3190.000000           3.000000    1344.000000      1580.000000  "
      ]
     },
     "execution_count": 246,
     "metadata": {},
     "output_type": "execute_result"
    }
   ],
   "source": [
    "data.describe()"
   ]
  },
  {
   "cell_type": "markdown",
   "metadata": {},
   "source": [
    "total_images, last_price, airports_nearest, city_centers_nearest, parks_around_3000, parks_nearest, ponds_around_3000, ponds_nearest - нет замечаний"
   ]
  },
  {
   "cell_type": "markdown",
   "metadata": {},
   "source": [
    "**Изучим last_price**"
   ]
  },
  {
   "cell_type": "code",
   "execution_count": 247,
   "metadata": {},
   "outputs": [
    {
     "name": "stdout",
     "output_type": "stream",
     "text": [
      "Квартир стоимостью 0: 0\n",
      "Квартир стоимостью меньше 100 000: 1\n",
      "Квартир стоимостью больше 100 000 000: 37\n"
     ]
    }
   ],
   "source": [
    "print('Квартир стоимостью 0:', data.query('last_price == 0')['last_price'].count())\n",
    "print('Квартир стоимостью меньше 100 000:', data.query('last_price < 1e+05')['last_price'].count())\n",
    "print('Квартир стоимостью больше 100 000 000:', data.query('last_price > 1e+08')['last_price'].count())"
   ]
  },
  {
   "cell_type": "markdown",
   "metadata": {},
   "source": [
    "Удалим объявления с квартирами дороже 100 000 000"
   ]
  },
  {
   "cell_type": "code",
   "execution_count": 248,
   "metadata": {},
   "outputs": [
    {
     "name": "stdout",
     "output_type": "stream",
     "text": [
      "Квартир стоимостью больше 100.000.000: 0\n"
     ]
    }
   ],
   "source": [
    "data.drop(index=data.query('last_price > 1e+08').index,inplace=True)\n",
    "print('Квартир стоимостью больше 100.000.000:', data.query('last_price > 1e+08')['last_price'].count())"
   ]
  },
  {
   "cell_type": "markdown",
   "metadata": {},
   "source": [
    "total_images, last_price - нет замечаний"
   ]
  },
  {
   "cell_type": "markdown",
   "metadata": {},
   "source": [
    "**Изучим total_area**"
   ]
  },
  {
   "cell_type": "code",
   "execution_count": 249,
   "metadata": {},
   "outputs": [
    {
     "name": "stdout",
     "output_type": "stream",
     "text": [
      "Количество квартир площадью 0: 0\n",
      "Количество квартир площадью больше 300: 45\n"
     ]
    }
   ],
   "source": [
    "print('Количество квартир площадью 0:', data.query('total_area == 0')['total_area'].count())\n",
    "print('Количество квартир площадью больше 300:', data.query('total_area > 300')['total_area'].count())"
   ]
  },
  {
   "cell_type": "markdown",
   "metadata": {},
   "source": [
    "Удалим объявления с квартирами больше 300 метров"
   ]
  },
  {
   "cell_type": "code",
   "execution_count": 250,
   "metadata": {},
   "outputs": [
    {
     "name": "stdout",
     "output_type": "stream",
     "text": [
      "Квартир площадью больше 300: 0\n"
     ]
    }
   ],
   "source": [
    "data.drop(index=data.query('total_area > 300').index,inplace=True)\n",
    "print('Квартир площадью больше 300:', data.query('total_area > 300')['total_area'].count())"
   ]
  },
  {
   "cell_type": "markdown",
   "metadata": {},
   "source": [
    "**Изучим rooms**"
   ]
  },
  {
   "cell_type": "code",
   "execution_count": 251,
   "metadata": {},
   "outputs": [
    {
     "name": "stdout",
     "output_type": "stream",
     "text": [
      "Число комнат 0: 196\n",
      "Число комнат больше 15: 0\n"
     ]
    }
   ],
   "source": [
    "print('Число комнат 0:', data.query('rooms == 0')['rooms'].count())\n",
    "print('Число комнат больше 15:', data.query('rooms > 300')['rooms'].count())"
   ]
  },
  {
   "cell_type": "markdown",
   "metadata": {},
   "source": [
    "Количество комнат 0 возможно для студий, апартаметов либо квартир свободной планировки. Проверим эту гипотезу."
   ]
  },
  {
   "cell_type": "code",
   "execution_count": 252,
   "metadata": {},
   "outputs": [
    {
     "name": "stdout",
     "output_type": "stream",
     "text": [
      "Студии: 138\n",
      "Апартаменты: 0\n",
      "Свободная планировка: 58\n"
     ]
    }
   ],
   "source": [
    "print('Студии:',data.query('rooms == 0 and studio')['rooms'].count()) \n",
    "print('Апартаменты:',data.query('rooms == 0 and is_apartment')['rooms'].count()) \n",
    "print('Свободная планировка:',data.query('rooms == 0 and open_plan')['rooms'].count())"
   ]
  },
  {
   "cell_type": "markdown",
   "metadata": {},
   "source": [
    "Гипотеза верна."
   ]
  },
  {
   "cell_type": "markdown",
   "metadata": {},
   "source": [
    "**Изучим ceiling_height**"
   ]
  },
  {
   "cell_type": "code",
   "execution_count": 253,
   "metadata": {},
   "outputs": [
    {
     "name": "stdout",
     "output_type": "stream",
     "text": [
      "Высота потолков меньше 2.2 метров: 11\n"
     ]
    }
   ],
   "source": [
    "print('Высота потолков меньше 2.2 метров:', data.query('ceiling_height < 2.2')['ceiling_height'].count())"
   ]
  },
  {
   "cell_type": "markdown",
   "metadata": {},
   "source": [
    "Удалим объявления с высотой потолка меньше 2.2 метров"
   ]
  },
  {
   "cell_type": "code",
   "execution_count": 254,
   "metadata": {},
   "outputs": [
    {
     "name": "stdout",
     "output_type": "stream",
     "text": [
      "Высота потолков меньше 2.2 метров: 0\n"
     ]
    }
   ],
   "source": [
    "data.drop(index=data.query('ceiling_height < 2.2').index,inplace = True)\n",
    "print('Высота потолков меньше 2.2 метров:', data.query('ceiling_height < 2.2')['ceiling_height'].count())"
   ]
  },
  {
   "cell_type": "markdown",
   "metadata": {},
   "source": [
    "**Изучим floors_total**"
   ]
  },
  {
   "cell_type": "code",
   "execution_count": 255,
   "metadata": {},
   "outputs": [
    {
     "name": "stdout",
     "output_type": "stream",
     "text": [
      "Количество квартир в одноэтажных домах :  25\n",
      "Количество квартир в домах высотой больше 37 этажей :  2\n"
     ]
    }
   ],
   "source": [
    "print('Количество квартир в одноэтажных домах : ',data.query('floors_total == 1')['floors_total'].count())\n",
    "print('Количество квартир в домах высотой больше 37 этажей : ',data.query('floors_total > 37')['floors_total'].count())"
   ]
  },
  {
   "cell_type": "markdown",
   "metadata": {},
   "source": [
    "Одноэтажные дома не являются аномалиями.<br>\n",
    "В Санкт-Петербурге и области нет жилых зданий, высотой более 37 этажей. Удалим эту аномалию"
   ]
  },
  {
   "cell_type": "code",
   "execution_count": 256,
   "metadata": {},
   "outputs": [
    {
     "name": "stdout",
     "output_type": "stream",
     "text": [
      "Количество квартир в домах высотой больше 37 этажей :  0\n"
     ]
    }
   ],
   "source": [
    "data.drop(index=data.query('floors_total > 30').index,inplace=True)\n",
    "print('Количество квартир в домах высотой больше 37 этажей : ',data.query('floors_total > 37')['floors_total'].count())"
   ]
  },
  {
   "cell_type": "markdown",
   "metadata": {},
   "source": [
    "**Изучим living_area**"
   ]
  },
  {
   "cell_type": "markdown",
   "metadata": {},
   "source": [
    "Проверим нет ли квартир с жилой площадью больше, чем общая площадь"
   ]
  },
  {
   "cell_type": "code",
   "execution_count": 257,
   "metadata": {
    "scrolled": true
   },
   "outputs": [
    {
     "name": "stdout",
     "output_type": "stream",
     "text": [
      "Жилая площадь больше общей: 0\n"
     ]
    }
   ],
   "source": [
    "print('Жилая площадь больше общей:', data.query('living_area > total_area')['living_area'].count())"
   ]
  },
  {
   "cell_type": "markdown",
   "metadata": {},
   "source": [
    "Проверим количество квартир с жилой площадью меньше 8 метров"
   ]
  },
  {
   "cell_type": "code",
   "execution_count": 258,
   "metadata": {
    "scrolled": true
   },
   "outputs": [
    {
     "name": "stdout",
     "output_type": "stream",
     "text": [
      "Количество квартир с жилой площадью меньше 8 метров :  8\n"
     ]
    }
   ],
   "source": [
    "print('Количество квартир с жилой площадью меньше 8 метров : ',data.query('living_area < 8')['living_area'].count())"
   ]
  },
  {
   "cell_type": "markdown",
   "metadata": {},
   "source": [
    "Удалим их из данных"
   ]
  },
  {
   "cell_type": "code",
   "execution_count": 259,
   "metadata": {},
   "outputs": [
    {
     "name": "stdout",
     "output_type": "stream",
     "text": [
      "Количество квартир с жилой площадью меньше 8 метров :  0\n"
     ]
    }
   ],
   "source": [
    "data.drop(index=data.query('living_area < 8').index,inplace=True)\n",
    "print('Количество квартир с жилой площадью меньше 8 метров : ',data.query('living_area < 8')['living_area'].count())"
   ]
  },
  {
   "cell_type": "markdown",
   "metadata": {},
   "source": [
    "**Изучим kitchen_area**"
   ]
  },
  {
   "cell_type": "code",
   "execution_count": 260,
   "metadata": {
    "scrolled": true
   },
   "outputs": [
    {
     "name": "stdout",
     "output_type": "stream",
     "text": [
      "Количество квартир с кухней больше 50 метров: 34\n"
     ]
    }
   ],
   "source": [
    "print('Количество квартир с кухней больше 50 метров:', data.query('kitchen_area > 50')['kitchen_area'].count())"
   ]
  },
  {
   "cell_type": "markdown",
   "metadata": {},
   "source": [
    "Удалим объявления с квартирами, в которых кухнями больше 50 метров"
   ]
  },
  {
   "cell_type": "code",
   "execution_count": 261,
   "metadata": {
    "scrolled": true
   },
   "outputs": [
    {
     "name": "stdout",
     "output_type": "stream",
     "text": [
      "Количество квартир с кухней больше 50 метров: 0\n"
     ]
    }
   ],
   "source": [
    "data.drop(index=data.query('kitchen_area > 50').index,inplace=True)\n",
    "print('Количество квартир с кухней больше 50 метров:', data.query('kitchen_area > 50')['kitchen_area'].count())"
   ]
  },
  {
   "cell_type": "markdown",
   "metadata": {},
   "source": [
    "**Изучим days_exposition**"
   ]
  },
  {
   "cell_type": "code",
   "execution_count": 262,
   "metadata": {},
   "outputs": [
    {
     "name": "stdout",
     "output_type": "stream",
     "text": [
      "Количество неопубликованных объявлений: 3151\n",
      "Количество объявлений старше четырех лет: 11\n"
     ]
    }
   ],
   "source": [
    "print('Количество неопубликованных объявлений:', data.query('days_exposition == 0')['days_exposition'].count())\n",
    "print('Количество объявлений старше четырех лет:', data.query('days_exposition > 365*4')['days_exposition'].count())"
   ]
  },
  {
   "cell_type": "markdown",
   "metadata": {},
   "source": [
    "Удалим неопубликованные и старые объявления"
   ]
  },
  {
   "cell_type": "code",
   "execution_count": 263,
   "metadata": {},
   "outputs": [
    {
     "name": "stdout",
     "output_type": "stream",
     "text": [
      "Количество неопубликованных объявлений: 0\n",
      "Количество объявлений старше четырех лет: 0\n"
     ]
    }
   ],
   "source": [
    "data.drop(index=data.query('days_exposition == 0').index,inplace=True)\n",
    "data.drop(index=data.query('days_exposition > 365*4').index,inplace=True)\n",
    "print('Количество неопубликованных объявлений:', data.query('days_exposition == 0')['days_exposition'].count())\n",
    "print('Количество объявлений старше четырех лет:', data.query('days_exposition > 365*4')['days_exposition'].count())"
   ]
  },
  {
   "cell_type": "markdown",
   "metadata": {},
   "source": [
    "Проверим информацию по таблице после внесения изменений"
   ]
  },
  {
   "cell_type": "code",
   "execution_count": 264,
   "metadata": {
    "scrolled": true
   },
   "outputs": [
    {
     "data": {
      "text/html": [
       "<div>\n",
       "<style scoped>\n",
       "    .dataframe tbody tr th:only-of-type {\n",
       "        vertical-align: middle;\n",
       "    }\n",
       "\n",
       "    .dataframe tbody tr th {\n",
       "        vertical-align: top;\n",
       "    }\n",
       "\n",
       "    .dataframe thead th {\n",
       "        text-align: right;\n",
       "    }\n",
       "</style>\n",
       "<table border=\"1\" class=\"dataframe\">\n",
       "  <thead>\n",
       "    <tr style=\"text-align: right;\">\n",
       "      <th></th>\n",
       "      <th>total_images</th>\n",
       "      <th>last_price</th>\n",
       "      <th>total_area</th>\n",
       "      <th>rooms</th>\n",
       "      <th>ceiling_height</th>\n",
       "      <th>floors_total</th>\n",
       "      <th>living_area</th>\n",
       "      <th>floor</th>\n",
       "      <th>kitchen_area</th>\n",
       "      <th>balcony</th>\n",
       "      <th>airports_nearest</th>\n",
       "      <th>city_centers_nearest</th>\n",
       "      <th>parks_around_3000</th>\n",
       "      <th>parks_nearest</th>\n",
       "      <th>ponds_around_3000</th>\n",
       "      <th>ponds_nearest</th>\n",
       "      <th>days_exposition</th>\n",
       "    </tr>\n",
       "  </thead>\n",
       "  <tbody>\n",
       "    <tr>\n",
       "      <th>count</th>\n",
       "      <td>20370.000000</td>\n",
       "      <td>2.037000e+04</td>\n",
       "      <td>20370.000000</td>\n",
       "      <td>20370.000000</td>\n",
       "      <td>20370.000000</td>\n",
       "      <td>20293.000000</td>\n",
       "      <td>18677.000000</td>\n",
       "      <td>20370.000000</td>\n",
       "      <td>20370.000000</td>\n",
       "      <td>20370.000000</td>\n",
       "      <td>20370.000000</td>\n",
       "      <td>20370.000000</td>\n",
       "      <td>20370.000000</td>\n",
       "      <td>20370.000000</td>\n",
       "      <td>20370.000000</td>\n",
       "      <td>20370.000000</td>\n",
       "      <td>20370.000000</td>\n",
       "    </tr>\n",
       "    <tr>\n",
       "      <th>mean</th>\n",
       "      <td>9.592243</td>\n",
       "      <td>5.845502e+06</td>\n",
       "      <td>57.732341</td>\n",
       "      <td>2.009966</td>\n",
       "      <td>2.689813</td>\n",
       "      <td>10.848371</td>\n",
       "      <td>32.960381</td>\n",
       "      <td>5.977074</td>\n",
       "      <td>9.225348</td>\n",
       "      <td>0.592243</td>\n",
       "      <td>22260.390722</td>\n",
       "      <td>11059.599509</td>\n",
       "      <td>0.460579</td>\n",
       "      <td>165.183800</td>\n",
       "      <td>0.581492</td>\n",
       "      <td>199.911193</td>\n",
       "      <td>179.731861</td>\n",
       "    </tr>\n",
       "    <tr>\n",
       "      <th>std</th>\n",
       "      <td>5.651433</td>\n",
       "      <td>5.430886e+06</td>\n",
       "      <td>28.403105</td>\n",
       "      <td>1.016458</td>\n",
       "      <td>0.216296</td>\n",
       "      <td>6.595978</td>\n",
       "      <td>18.597862</td>\n",
       "      <td>4.924419</td>\n",
       "      <td>5.571420</td>\n",
       "      <td>0.948659</td>\n",
       "      <td>16497.278029</td>\n",
       "      <td>9618.271753</td>\n",
       "      <td>0.741418</td>\n",
       "      <td>306.691153</td>\n",
       "      <td>0.871914</td>\n",
       "      <td>306.222337</td>\n",
       "      <td>217.360004</td>\n",
       "    </tr>\n",
       "    <tr>\n",
       "      <th>min</th>\n",
       "      <td>0.000000</td>\n",
       "      <td>1.219000e+04</td>\n",
       "      <td>12.000000</td>\n",
       "      <td>0.000000</td>\n",
       "      <td>2.200000</td>\n",
       "      <td>1.000000</td>\n",
       "      <td>8.000000</td>\n",
       "      <td>1.000000</td>\n",
       "      <td>0.000000</td>\n",
       "      <td>0.000000</td>\n",
       "      <td>0.000000</td>\n",
       "      <td>0.000000</td>\n",
       "      <td>0.000000</td>\n",
       "      <td>0.000000</td>\n",
       "      <td>0.000000</td>\n",
       "      <td>0.000000</td>\n",
       "      <td>1.000000</td>\n",
       "    </tr>\n",
       "    <tr>\n",
       "      <th>25%</th>\n",
       "      <td>5.000000</td>\n",
       "      <td>3.400000e+06</td>\n",
       "      <td>39.400000</td>\n",
       "      <td>1.000000</td>\n",
       "      <td>2.600000</td>\n",
       "      <td>5.000000</td>\n",
       "      <td>18.300000</td>\n",
       "      <td>2.000000</td>\n",
       "      <td>6.300000</td>\n",
       "      <td>0.000000</td>\n",
       "      <td>10586.000000</td>\n",
       "      <td>2723.000000</td>\n",
       "      <td>0.000000</td>\n",
       "      <td>0.000000</td>\n",
       "      <td>0.000000</td>\n",
       "      <td>0.000000</td>\n",
       "      <td>45.000000</td>\n",
       "    </tr>\n",
       "    <tr>\n",
       "      <th>50%</th>\n",
       "      <td>9.000000</td>\n",
       "      <td>4.500000e+06</td>\n",
       "      <td>50.610000</td>\n",
       "      <td>2.000000</td>\n",
       "      <td>2.650000</td>\n",
       "      <td>9.000000</td>\n",
       "      <td>30.000000</td>\n",
       "      <td>4.000000</td>\n",
       "      <td>8.800000</td>\n",
       "      <td>0.000000</td>\n",
       "      <td>21928.000000</td>\n",
       "      <td>11477.000000</td>\n",
       "      <td>0.000000</td>\n",
       "      <td>0.000000</td>\n",
       "      <td>0.000000</td>\n",
       "      <td>0.000000</td>\n",
       "      <td>95.000000</td>\n",
       "    </tr>\n",
       "    <tr>\n",
       "      <th>75%</th>\n",
       "      <td>14.000000</td>\n",
       "      <td>6.490000e+06</td>\n",
       "      <td>67.300000</td>\n",
       "      <td>3.000000</td>\n",
       "      <td>2.700000</td>\n",
       "      <td>16.000000</td>\n",
       "      <td>41.300000</td>\n",
       "      <td>8.000000</td>\n",
       "      <td>11.117500</td>\n",
       "      <td>1.000000</td>\n",
       "      <td>34694.750000</td>\n",
       "      <td>15369.000000</td>\n",
       "      <td>1.000000</td>\n",
       "      <td>289.000000</td>\n",
       "      <td>1.000000</td>\n",
       "      <td>393.000000</td>\n",
       "      <td>230.000000</td>\n",
       "    </tr>\n",
       "    <tr>\n",
       "      <th>max</th>\n",
       "      <td>50.000000</td>\n",
       "      <td>9.800000e+07</td>\n",
       "      <td>300.000000</td>\n",
       "      <td>16.000000</td>\n",
       "      <td>8.300000</td>\n",
       "      <td>29.000000</td>\n",
       "      <td>225.900000</td>\n",
       "      <td>27.000000</td>\n",
       "      <td>50.000000</td>\n",
       "      <td>5.000000</td>\n",
       "      <td>84869.000000</td>\n",
       "      <td>65968.000000</td>\n",
       "      <td>3.000000</td>\n",
       "      <td>3190.000000</td>\n",
       "      <td>3.000000</td>\n",
       "      <td>1344.000000</td>\n",
       "      <td>1458.000000</td>\n",
       "    </tr>\n",
       "  </tbody>\n",
       "</table>\n",
       "</div>"
      ],
      "text/plain": [
       "       total_images    last_price    total_area         rooms  ceiling_height  \\\n",
       "count  20370.000000  2.037000e+04  20370.000000  20370.000000    20370.000000   \n",
       "mean       9.592243  5.845502e+06     57.732341      2.009966        2.689813   \n",
       "std        5.651433  5.430886e+06     28.403105      1.016458        0.216296   \n",
       "min        0.000000  1.219000e+04     12.000000      0.000000        2.200000   \n",
       "25%        5.000000  3.400000e+06     39.400000      1.000000        2.600000   \n",
       "50%        9.000000  4.500000e+06     50.610000      2.000000        2.650000   \n",
       "75%       14.000000  6.490000e+06     67.300000      3.000000        2.700000   \n",
       "max       50.000000  9.800000e+07    300.000000     16.000000        8.300000   \n",
       "\n",
       "       floors_total   living_area         floor  kitchen_area       balcony  \\\n",
       "count  20293.000000  18677.000000  20370.000000  20370.000000  20370.000000   \n",
       "mean      10.848371     32.960381      5.977074      9.225348      0.592243   \n",
       "std        6.595978     18.597862      4.924419      5.571420      0.948659   \n",
       "min        1.000000      8.000000      1.000000      0.000000      0.000000   \n",
       "25%        5.000000     18.300000      2.000000      6.300000      0.000000   \n",
       "50%        9.000000     30.000000      4.000000      8.800000      0.000000   \n",
       "75%       16.000000     41.300000      8.000000     11.117500      1.000000   \n",
       "max       29.000000    225.900000     27.000000     50.000000      5.000000   \n",
       "\n",
       "       airports_nearest  city_centers_nearest  parks_around_3000  \\\n",
       "count      20370.000000          20370.000000       20370.000000   \n",
       "mean       22260.390722          11059.599509           0.460579   \n",
       "std        16497.278029           9618.271753           0.741418   \n",
       "min            0.000000              0.000000           0.000000   \n",
       "25%        10586.000000           2723.000000           0.000000   \n",
       "50%        21928.000000          11477.000000           0.000000   \n",
       "75%        34694.750000          15369.000000           1.000000   \n",
       "max        84869.000000          65968.000000           3.000000   \n",
       "\n",
       "       parks_nearest  ponds_around_3000  ponds_nearest  days_exposition  \n",
       "count   20370.000000       20370.000000   20370.000000     20370.000000  \n",
       "mean      165.183800           0.581492     199.911193       179.731861  \n",
       "std       306.691153           0.871914     306.222337       217.360004  \n",
       "min         0.000000           0.000000       0.000000         1.000000  \n",
       "25%         0.000000           0.000000       0.000000        45.000000  \n",
       "50%         0.000000           0.000000       0.000000        95.000000  \n",
       "75%       289.000000           1.000000     393.000000       230.000000  \n",
       "max      3190.000000           3.000000    1344.000000      1458.000000  "
      ]
     },
     "execution_count": 264,
     "metadata": {},
     "output_type": "execute_result"
    }
   ],
   "source": [
    "data.describe()"
   ]
  },
  {
   "cell_type": "code",
   "execution_count": 323,
   "metadata": {
    "scrolled": true
   },
   "outputs": [
    {
     "data": {
      "text/html": [
       "<div>\n",
       "<style scoped>\n",
       "    .dataframe tbody tr th:only-of-type {\n",
       "        vertical-align: middle;\n",
       "    }\n",
       "\n",
       "    .dataframe tbody tr th {\n",
       "        vertical-align: top;\n",
       "    }\n",
       "\n",
       "    .dataframe thead th {\n",
       "        text-align: right;\n",
       "    }\n",
       "</style>\n",
       "<table border=\"1\" class=\"dataframe\">\n",
       "  <thead>\n",
       "    <tr style=\"text-align: right;\">\n",
       "      <th></th>\n",
       "      <th>total_images</th>\n",
       "      <th>last_price</th>\n",
       "      <th>total_area</th>\n",
       "      <th>first_day_exposition</th>\n",
       "      <th>rooms</th>\n",
       "      <th>ceiling_height</th>\n",
       "      <th>floors_total</th>\n",
       "      <th>living_area</th>\n",
       "      <th>floor</th>\n",
       "      <th>is_apartment</th>\n",
       "      <th>...</th>\n",
       "      <th>parks_nearest</th>\n",
       "      <th>ponds_around_3000</th>\n",
       "      <th>ponds_nearest</th>\n",
       "      <th>days_exposition</th>\n",
       "      <th>one_meter_price</th>\n",
       "      <th>day_of_week</th>\n",
       "      <th>month_of_publication</th>\n",
       "      <th>year_of_publication</th>\n",
       "      <th>floor_type</th>\n",
       "      <th>center_distance_km</th>\n",
       "    </tr>\n",
       "  </thead>\n",
       "  <tbody>\n",
       "  </tbody>\n",
       "</table>\n",
       "<p>0 rows × 28 columns</p>\n",
       "</div>"
      ],
      "text/plain": [
       "Empty DataFrame\n",
       "Columns: [total_images, last_price, total_area, first_day_exposition, rooms, ceiling_height, floors_total, living_area, floor, is_apartment, studio, open_plan, kitchen_area, balcony, locality_name, airports_nearest, city_centers_nearest, parks_around_3000, parks_nearest, ponds_around_3000, ponds_nearest, days_exposition, one_meter_price, day_of_week, month_of_publication, year_of_publication, floor_type, center_distance_km]\n",
       "Index: []\n",
       "\n",
       "[0 rows x 28 columns]"
      ]
     },
     "execution_count": 323,
     "metadata": {},
     "output_type": "execute_result"
    }
   ],
   "source": [
    "duplicateRows = data[data.duplicated()]\n",
    "duplicateRows"
   ]
  },
  {
   "cell_type": "markdown",
   "metadata": {},
   "source": [
    "### Посчитайте и добавьте в таблицу новые столбцы"
   ]
  },
  {
   "cell_type": "markdown",
   "metadata": {},
   "source": [
    "**Добавим столбец one_meter_price (цена одного квадратного метра)**"
   ]
  },
  {
   "cell_type": "code",
   "execution_count": 265,
   "metadata": {},
   "outputs": [],
   "source": [
    "data['one_meter_price'] = data['last_price'] / data['total_area']"
   ]
  },
  {
   "cell_type": "code",
   "execution_count": 266,
   "metadata": {},
   "outputs": [],
   "source": [
    "data['one_meter_price'] = data['one_meter_price'].round(1)"
   ]
  },
  {
   "cell_type": "code",
   "execution_count": 267,
   "metadata": {},
   "outputs": [
    {
     "data": {
      "text/html": [
       "<div>\n",
       "<style scoped>\n",
       "    .dataframe tbody tr th:only-of-type {\n",
       "        vertical-align: middle;\n",
       "    }\n",
       "\n",
       "    .dataframe tbody tr th {\n",
       "        vertical-align: top;\n",
       "    }\n",
       "\n",
       "    .dataframe thead th {\n",
       "        text-align: right;\n",
       "    }\n",
       "</style>\n",
       "<table border=\"1\" class=\"dataframe\">\n",
       "  <thead>\n",
       "    <tr style=\"text-align: right;\">\n",
       "      <th></th>\n",
       "      <th>total_images</th>\n",
       "      <th>last_price</th>\n",
       "      <th>total_area</th>\n",
       "      <th>first_day_exposition</th>\n",
       "      <th>rooms</th>\n",
       "      <th>ceiling_height</th>\n",
       "      <th>floors_total</th>\n",
       "      <th>living_area</th>\n",
       "      <th>floor</th>\n",
       "      <th>is_apartment</th>\n",
       "      <th>...</th>\n",
       "      <th>balcony</th>\n",
       "      <th>locality_name</th>\n",
       "      <th>airports_nearest</th>\n",
       "      <th>city_centers_nearest</th>\n",
       "      <th>parks_around_3000</th>\n",
       "      <th>parks_nearest</th>\n",
       "      <th>ponds_around_3000</th>\n",
       "      <th>ponds_nearest</th>\n",
       "      <th>days_exposition</th>\n",
       "      <th>one_meter_price</th>\n",
       "    </tr>\n",
       "  </thead>\n",
       "  <tbody>\n",
       "    <tr>\n",
       "      <th>1</th>\n",
       "      <td>7</td>\n",
       "      <td>3350000</td>\n",
       "      <td>40.4</td>\n",
       "      <td>2018-12-04</td>\n",
       "      <td>1</td>\n",
       "      <td>2.65</td>\n",
       "      <td>11.0</td>\n",
       "      <td>18.6</td>\n",
       "      <td>1</td>\n",
       "      <td>False</td>\n",
       "      <td>...</td>\n",
       "      <td>2</td>\n",
       "      <td>поселок шушары</td>\n",
       "      <td>12817.0</td>\n",
       "      <td>18603.0</td>\n",
       "      <td>0.0</td>\n",
       "      <td>0.0</td>\n",
       "      <td>0.0</td>\n",
       "      <td>0.0</td>\n",
       "      <td>81</td>\n",
       "      <td>82920.8</td>\n",
       "    </tr>\n",
       "    <tr>\n",
       "      <th>2</th>\n",
       "      <td>10</td>\n",
       "      <td>5196000</td>\n",
       "      <td>56.0</td>\n",
       "      <td>2015-08-20</td>\n",
       "      <td>2</td>\n",
       "      <td>2.65</td>\n",
       "      <td>5.0</td>\n",
       "      <td>34.3</td>\n",
       "      <td>4</td>\n",
       "      <td>False</td>\n",
       "      <td>...</td>\n",
       "      <td>0</td>\n",
       "      <td>санкт-петербург</td>\n",
       "      <td>21741.0</td>\n",
       "      <td>13933.0</td>\n",
       "      <td>1.0</td>\n",
       "      <td>90.0</td>\n",
       "      <td>2.0</td>\n",
       "      <td>574.0</td>\n",
       "      <td>558</td>\n",
       "      <td>92785.7</td>\n",
       "    </tr>\n",
       "    <tr>\n",
       "      <th>3</th>\n",
       "      <td>0</td>\n",
       "      <td>64900000</td>\n",
       "      <td>159.0</td>\n",
       "      <td>2015-07-24</td>\n",
       "      <td>3</td>\n",
       "      <td>2.65</td>\n",
       "      <td>14.0</td>\n",
       "      <td>NaN</td>\n",
       "      <td>9</td>\n",
       "      <td>False</td>\n",
       "      <td>...</td>\n",
       "      <td>0</td>\n",
       "      <td>санкт-петербург</td>\n",
       "      <td>28098.0</td>\n",
       "      <td>6800.0</td>\n",
       "      <td>2.0</td>\n",
       "      <td>84.0</td>\n",
       "      <td>3.0</td>\n",
       "      <td>234.0</td>\n",
       "      <td>424</td>\n",
       "      <td>408176.1</td>\n",
       "    </tr>\n",
       "    <tr>\n",
       "      <th>4</th>\n",
       "      <td>2</td>\n",
       "      <td>10000000</td>\n",
       "      <td>100.0</td>\n",
       "      <td>2018-06-19</td>\n",
       "      <td>2</td>\n",
       "      <td>3.03</td>\n",
       "      <td>14.0</td>\n",
       "      <td>32.0</td>\n",
       "      <td>13</td>\n",
       "      <td>False</td>\n",
       "      <td>...</td>\n",
       "      <td>0</td>\n",
       "      <td>санкт-петербург</td>\n",
       "      <td>31856.0</td>\n",
       "      <td>8098.0</td>\n",
       "      <td>2.0</td>\n",
       "      <td>112.0</td>\n",
       "      <td>1.0</td>\n",
       "      <td>48.0</td>\n",
       "      <td>121</td>\n",
       "      <td>100000.0</td>\n",
       "    </tr>\n",
       "    <tr>\n",
       "      <th>5</th>\n",
       "      <td>10</td>\n",
       "      <td>2890000</td>\n",
       "      <td>30.4</td>\n",
       "      <td>2018-09-10</td>\n",
       "      <td>1</td>\n",
       "      <td>2.65</td>\n",
       "      <td>12.0</td>\n",
       "      <td>14.4</td>\n",
       "      <td>5</td>\n",
       "      <td>False</td>\n",
       "      <td>...</td>\n",
       "      <td>0</td>\n",
       "      <td>поселок городского типа янино-1</td>\n",
       "      <td>0.0</td>\n",
       "      <td>0.0</td>\n",
       "      <td>0.0</td>\n",
       "      <td>0.0</td>\n",
       "      <td>0.0</td>\n",
       "      <td>0.0</td>\n",
       "      <td>55</td>\n",
       "      <td>95065.8</td>\n",
       "    </tr>\n",
       "  </tbody>\n",
       "</table>\n",
       "<p>5 rows × 23 columns</p>\n",
       "</div>"
      ],
      "text/plain": [
       "   total_images  last_price  total_area first_day_exposition  rooms  \\\n",
       "1             7     3350000        40.4           2018-12-04      1   \n",
       "2            10     5196000        56.0           2015-08-20      2   \n",
       "3             0    64900000       159.0           2015-07-24      3   \n",
       "4             2    10000000       100.0           2018-06-19      2   \n",
       "5            10     2890000        30.4           2018-09-10      1   \n",
       "\n",
       "   ceiling_height  floors_total  living_area  floor  is_apartment  ...  \\\n",
       "1            2.65          11.0         18.6      1         False  ...   \n",
       "2            2.65           5.0         34.3      4         False  ...   \n",
       "3            2.65          14.0          NaN      9         False  ...   \n",
       "4            3.03          14.0         32.0     13         False  ...   \n",
       "5            2.65          12.0         14.4      5         False  ...   \n",
       "\n",
       "   balcony                    locality_name  airports_nearest  \\\n",
       "1        2                   поселок шушары           12817.0   \n",
       "2        0                  санкт-петербург           21741.0   \n",
       "3        0                  санкт-петербург           28098.0   \n",
       "4        0                  санкт-петербург           31856.0   \n",
       "5        0  поселок городского типа янино-1               0.0   \n",
       "\n",
       "   city_centers_nearest parks_around_3000  parks_nearest  ponds_around_3000  \\\n",
       "1               18603.0               0.0            0.0                0.0   \n",
       "2               13933.0               1.0           90.0                2.0   \n",
       "3                6800.0               2.0           84.0                3.0   \n",
       "4                8098.0               2.0          112.0                1.0   \n",
       "5                   0.0               0.0            0.0                0.0   \n",
       "\n",
       "   ponds_nearest  days_exposition  one_meter_price  \n",
       "1            0.0               81          82920.8  \n",
       "2          574.0              558          92785.7  \n",
       "3          234.0              424         408176.1  \n",
       "4           48.0              121         100000.0  \n",
       "5            0.0               55          95065.8  \n",
       "\n",
       "[5 rows x 23 columns]"
      ]
     },
     "execution_count": 267,
     "metadata": {},
     "output_type": "execute_result"
    }
   ],
   "source": [
    "data.head()"
   ]
  },
  {
   "cell_type": "markdown",
   "metadata": {},
   "source": [
    "**Добавим столбец day_of_publication (день недели публикации объявления)**"
   ]
  },
  {
   "cell_type": "code",
   "execution_count": 268,
   "metadata": {},
   "outputs": [],
   "source": [
    "data['day_of_week'] = data['first_day_exposition'].dt.weekday"
   ]
  },
  {
   "cell_type": "markdown",
   "metadata": {},
   "source": [
    "**Добавим столбец month_of_publication (месяц недели публикации объявления)**"
   ]
  },
  {
   "cell_type": "code",
   "execution_count": 269,
   "metadata": {},
   "outputs": [],
   "source": [
    "data['month_of_publication'] = data['first_day_exposition'].dt.month"
   ]
  },
  {
   "cell_type": "markdown",
   "metadata": {},
   "source": [
    "**Добавим столбец year_of_publication (год недели публикации объявления)**"
   ]
  },
  {
   "cell_type": "code",
   "execution_count": 270,
   "metadata": {},
   "outputs": [],
   "source": [
    "data['year_of_publication'] = data['first_day_exposition'].dt.year"
   ]
  },
  {
   "cell_type": "code",
   "execution_count": 271,
   "metadata": {
    "scrolled": true
   },
   "outputs": [
    {
     "data": {
      "text/html": [
       "<div>\n",
       "<style scoped>\n",
       "    .dataframe tbody tr th:only-of-type {\n",
       "        vertical-align: middle;\n",
       "    }\n",
       "\n",
       "    .dataframe tbody tr th {\n",
       "        vertical-align: top;\n",
       "    }\n",
       "\n",
       "    .dataframe thead th {\n",
       "        text-align: right;\n",
       "    }\n",
       "</style>\n",
       "<table border=\"1\" class=\"dataframe\">\n",
       "  <thead>\n",
       "    <tr style=\"text-align: right;\">\n",
       "      <th></th>\n",
       "      <th>total_images</th>\n",
       "      <th>last_price</th>\n",
       "      <th>total_area</th>\n",
       "      <th>first_day_exposition</th>\n",
       "      <th>rooms</th>\n",
       "      <th>ceiling_height</th>\n",
       "      <th>floors_total</th>\n",
       "      <th>living_area</th>\n",
       "      <th>floor</th>\n",
       "      <th>is_apartment</th>\n",
       "      <th>...</th>\n",
       "      <th>city_centers_nearest</th>\n",
       "      <th>parks_around_3000</th>\n",
       "      <th>parks_nearest</th>\n",
       "      <th>ponds_around_3000</th>\n",
       "      <th>ponds_nearest</th>\n",
       "      <th>days_exposition</th>\n",
       "      <th>one_meter_price</th>\n",
       "      <th>day_of_week</th>\n",
       "      <th>month_of_publication</th>\n",
       "      <th>year_of_publication</th>\n",
       "    </tr>\n",
       "  </thead>\n",
       "  <tbody>\n",
       "    <tr>\n",
       "      <th>1</th>\n",
       "      <td>7</td>\n",
       "      <td>3350000</td>\n",
       "      <td>40.40</td>\n",
       "      <td>2018-12-04</td>\n",
       "      <td>1</td>\n",
       "      <td>2.65</td>\n",
       "      <td>11.0</td>\n",
       "      <td>18.60</td>\n",
       "      <td>1</td>\n",
       "      <td>False</td>\n",
       "      <td>...</td>\n",
       "      <td>18603.0</td>\n",
       "      <td>0.0</td>\n",
       "      <td>0.0</td>\n",
       "      <td>0.0</td>\n",
       "      <td>0.0</td>\n",
       "      <td>81</td>\n",
       "      <td>82920.8</td>\n",
       "      <td>1</td>\n",
       "      <td>12</td>\n",
       "      <td>2018</td>\n",
       "    </tr>\n",
       "    <tr>\n",
       "      <th>2</th>\n",
       "      <td>10</td>\n",
       "      <td>5196000</td>\n",
       "      <td>56.00</td>\n",
       "      <td>2015-08-20</td>\n",
       "      <td>2</td>\n",
       "      <td>2.65</td>\n",
       "      <td>5.0</td>\n",
       "      <td>34.30</td>\n",
       "      <td>4</td>\n",
       "      <td>False</td>\n",
       "      <td>...</td>\n",
       "      <td>13933.0</td>\n",
       "      <td>1.0</td>\n",
       "      <td>90.0</td>\n",
       "      <td>2.0</td>\n",
       "      <td>574.0</td>\n",
       "      <td>558</td>\n",
       "      <td>92785.7</td>\n",
       "      <td>3</td>\n",
       "      <td>8</td>\n",
       "      <td>2015</td>\n",
       "    </tr>\n",
       "    <tr>\n",
       "      <th>3</th>\n",
       "      <td>0</td>\n",
       "      <td>64900000</td>\n",
       "      <td>159.00</td>\n",
       "      <td>2015-07-24</td>\n",
       "      <td>3</td>\n",
       "      <td>2.65</td>\n",
       "      <td>14.0</td>\n",
       "      <td>NaN</td>\n",
       "      <td>9</td>\n",
       "      <td>False</td>\n",
       "      <td>...</td>\n",
       "      <td>6800.0</td>\n",
       "      <td>2.0</td>\n",
       "      <td>84.0</td>\n",
       "      <td>3.0</td>\n",
       "      <td>234.0</td>\n",
       "      <td>424</td>\n",
       "      <td>408176.1</td>\n",
       "      <td>4</td>\n",
       "      <td>7</td>\n",
       "      <td>2015</td>\n",
       "    </tr>\n",
       "    <tr>\n",
       "      <th>4</th>\n",
       "      <td>2</td>\n",
       "      <td>10000000</td>\n",
       "      <td>100.00</td>\n",
       "      <td>2018-06-19</td>\n",
       "      <td>2</td>\n",
       "      <td>3.03</td>\n",
       "      <td>14.0</td>\n",
       "      <td>32.00</td>\n",
       "      <td>13</td>\n",
       "      <td>False</td>\n",
       "      <td>...</td>\n",
       "      <td>8098.0</td>\n",
       "      <td>2.0</td>\n",
       "      <td>112.0</td>\n",
       "      <td>1.0</td>\n",
       "      <td>48.0</td>\n",
       "      <td>121</td>\n",
       "      <td>100000.0</td>\n",
       "      <td>1</td>\n",
       "      <td>6</td>\n",
       "      <td>2018</td>\n",
       "    </tr>\n",
       "    <tr>\n",
       "      <th>5</th>\n",
       "      <td>10</td>\n",
       "      <td>2890000</td>\n",
       "      <td>30.40</td>\n",
       "      <td>2018-09-10</td>\n",
       "      <td>1</td>\n",
       "      <td>2.65</td>\n",
       "      <td>12.0</td>\n",
       "      <td>14.40</td>\n",
       "      <td>5</td>\n",
       "      <td>False</td>\n",
       "      <td>...</td>\n",
       "      <td>0.0</td>\n",
       "      <td>0.0</td>\n",
       "      <td>0.0</td>\n",
       "      <td>0.0</td>\n",
       "      <td>0.0</td>\n",
       "      <td>55</td>\n",
       "      <td>95065.8</td>\n",
       "      <td>0</td>\n",
       "      <td>9</td>\n",
       "      <td>2018</td>\n",
       "    </tr>\n",
       "    <tr>\n",
       "      <th>6</th>\n",
       "      <td>6</td>\n",
       "      <td>3700000</td>\n",
       "      <td>37.30</td>\n",
       "      <td>2017-11-02</td>\n",
       "      <td>1</td>\n",
       "      <td>2.65</td>\n",
       "      <td>26.0</td>\n",
       "      <td>10.60</td>\n",
       "      <td>6</td>\n",
       "      <td>False</td>\n",
       "      <td>...</td>\n",
       "      <td>19143.0</td>\n",
       "      <td>0.0</td>\n",
       "      <td>0.0</td>\n",
       "      <td>0.0</td>\n",
       "      <td>0.0</td>\n",
       "      <td>155</td>\n",
       "      <td>99195.7</td>\n",
       "      <td>3</td>\n",
       "      <td>11</td>\n",
       "      <td>2017</td>\n",
       "    </tr>\n",
       "    <tr>\n",
       "      <th>8</th>\n",
       "      <td>20</td>\n",
       "      <td>2900000</td>\n",
       "      <td>33.16</td>\n",
       "      <td>2018-05-23</td>\n",
       "      <td>1</td>\n",
       "      <td>2.65</td>\n",
       "      <td>27.0</td>\n",
       "      <td>15.43</td>\n",
       "      <td>26</td>\n",
       "      <td>False</td>\n",
       "      <td>...</td>\n",
       "      <td>0.0</td>\n",
       "      <td>0.0</td>\n",
       "      <td>0.0</td>\n",
       "      <td>0.0</td>\n",
       "      <td>0.0</td>\n",
       "      <td>189</td>\n",
       "      <td>87454.8</td>\n",
       "      <td>2</td>\n",
       "      <td>5</td>\n",
       "      <td>2018</td>\n",
       "    </tr>\n",
       "    <tr>\n",
       "      <th>9</th>\n",
       "      <td>18</td>\n",
       "      <td>5400000</td>\n",
       "      <td>61.00</td>\n",
       "      <td>2017-02-26</td>\n",
       "      <td>3</td>\n",
       "      <td>2.50</td>\n",
       "      <td>9.0</td>\n",
       "      <td>43.60</td>\n",
       "      <td>7</td>\n",
       "      <td>False</td>\n",
       "      <td>...</td>\n",
       "      <td>15008.0</td>\n",
       "      <td>0.0</td>\n",
       "      <td>0.0</td>\n",
       "      <td>0.0</td>\n",
       "      <td>0.0</td>\n",
       "      <td>289</td>\n",
       "      <td>88524.6</td>\n",
       "      <td>6</td>\n",
       "      <td>2</td>\n",
       "      <td>2017</td>\n",
       "    </tr>\n",
       "    <tr>\n",
       "      <th>10</th>\n",
       "      <td>5</td>\n",
       "      <td>5050000</td>\n",
       "      <td>39.60</td>\n",
       "      <td>2017-11-16</td>\n",
       "      <td>1</td>\n",
       "      <td>2.67</td>\n",
       "      <td>12.0</td>\n",
       "      <td>20.30</td>\n",
       "      <td>3</td>\n",
       "      <td>False</td>\n",
       "      <td>...</td>\n",
       "      <td>13878.0</td>\n",
       "      <td>1.0</td>\n",
       "      <td>310.0</td>\n",
       "      <td>2.0</td>\n",
       "      <td>553.0</td>\n",
       "      <td>137</td>\n",
       "      <td>127525.3</td>\n",
       "      <td>3</td>\n",
       "      <td>11</td>\n",
       "      <td>2017</td>\n",
       "    </tr>\n",
       "    <tr>\n",
       "      <th>11</th>\n",
       "      <td>9</td>\n",
       "      <td>3300000</td>\n",
       "      <td>44.00</td>\n",
       "      <td>2018-08-27</td>\n",
       "      <td>2</td>\n",
       "      <td>2.65</td>\n",
       "      <td>5.0</td>\n",
       "      <td>31.00</td>\n",
       "      <td>4</td>\n",
       "      <td>False</td>\n",
       "      <td>...</td>\n",
       "      <td>51677.0</td>\n",
       "      <td>0.0</td>\n",
       "      <td>0.0</td>\n",
       "      <td>0.0</td>\n",
       "      <td>0.0</td>\n",
       "      <td>7</td>\n",
       "      <td>75000.0</td>\n",
       "      <td>0</td>\n",
       "      <td>8</td>\n",
       "      <td>2018</td>\n",
       "    </tr>\n",
       "  </tbody>\n",
       "</table>\n",
       "<p>10 rows × 26 columns</p>\n",
       "</div>"
      ],
      "text/plain": [
       "    total_images  last_price  total_area first_day_exposition  rooms  \\\n",
       "1              7     3350000       40.40           2018-12-04      1   \n",
       "2             10     5196000       56.00           2015-08-20      2   \n",
       "3              0    64900000      159.00           2015-07-24      3   \n",
       "4              2    10000000      100.00           2018-06-19      2   \n",
       "5             10     2890000       30.40           2018-09-10      1   \n",
       "6              6     3700000       37.30           2017-11-02      1   \n",
       "8             20     2900000       33.16           2018-05-23      1   \n",
       "9             18     5400000       61.00           2017-02-26      3   \n",
       "10             5     5050000       39.60           2017-11-16      1   \n",
       "11             9     3300000       44.00           2018-08-27      2   \n",
       "\n",
       "    ceiling_height  floors_total  living_area  floor  is_apartment  ...  \\\n",
       "1             2.65          11.0        18.60      1         False  ...   \n",
       "2             2.65           5.0        34.30      4         False  ...   \n",
       "3             2.65          14.0          NaN      9         False  ...   \n",
       "4             3.03          14.0        32.00     13         False  ...   \n",
       "5             2.65          12.0        14.40      5         False  ...   \n",
       "6             2.65          26.0        10.60      6         False  ...   \n",
       "8             2.65          27.0        15.43     26         False  ...   \n",
       "9             2.50           9.0        43.60      7         False  ...   \n",
       "10            2.67          12.0        20.30      3         False  ...   \n",
       "11            2.65           5.0        31.00      4         False  ...   \n",
       "\n",
       "    city_centers_nearest  parks_around_3000  parks_nearest  ponds_around_3000  \\\n",
       "1                18603.0                0.0            0.0                0.0   \n",
       "2                13933.0                1.0           90.0                2.0   \n",
       "3                 6800.0                2.0           84.0                3.0   \n",
       "4                 8098.0                2.0          112.0                1.0   \n",
       "5                    0.0                0.0            0.0                0.0   \n",
       "6                19143.0                0.0            0.0                0.0   \n",
       "8                    0.0                0.0            0.0                0.0   \n",
       "9                15008.0                0.0            0.0                0.0   \n",
       "10               13878.0                1.0          310.0                2.0   \n",
       "11               51677.0                0.0            0.0                0.0   \n",
       "\n",
       "   ponds_nearest  days_exposition  one_meter_price  day_of_week  \\\n",
       "1            0.0               81          82920.8            1   \n",
       "2          574.0              558          92785.7            3   \n",
       "3          234.0              424         408176.1            4   \n",
       "4           48.0              121         100000.0            1   \n",
       "5            0.0               55          95065.8            0   \n",
       "6            0.0              155          99195.7            3   \n",
       "8            0.0              189          87454.8            2   \n",
       "9            0.0              289          88524.6            6   \n",
       "10         553.0              137         127525.3            3   \n",
       "11           0.0                7          75000.0            0   \n",
       "\n",
       "    month_of_publication  year_of_publication  \n",
       "1                     12                 2018  \n",
       "2                      8                 2015  \n",
       "3                      7                 2015  \n",
       "4                      6                 2018  \n",
       "5                      9                 2018  \n",
       "6                     11                 2017  \n",
       "8                      5                 2018  \n",
       "9                      2                 2017  \n",
       "10                    11                 2017  \n",
       "11                     8                 2018  \n",
       "\n",
       "[10 rows x 26 columns]"
      ]
     },
     "execution_count": 271,
     "metadata": {},
     "output_type": "execute_result"
    }
   ],
   "source": [
    "data.head(10)"
   ]
  },
  {
   "cell_type": "markdown",
   "metadata": {},
   "source": [
    "**Добавим столбец floor_type (тип этажа)**"
   ]
  },
  {
   "cell_type": "code",
   "execution_count": 272,
   "metadata": {
    "scrolled": true
   },
   "outputs": [
    {
     "data": {
      "text/html": [
       "<div>\n",
       "<style scoped>\n",
       "    .dataframe tbody tr th:only-of-type {\n",
       "        vertical-align: middle;\n",
       "    }\n",
       "\n",
       "    .dataframe tbody tr th {\n",
       "        vertical-align: top;\n",
       "    }\n",
       "\n",
       "    .dataframe thead th {\n",
       "        text-align: right;\n",
       "    }\n",
       "</style>\n",
       "<table border=\"1\" class=\"dataframe\">\n",
       "  <thead>\n",
       "    <tr style=\"text-align: right;\">\n",
       "      <th></th>\n",
       "      <th>total_images</th>\n",
       "      <th>last_price</th>\n",
       "      <th>total_area</th>\n",
       "      <th>first_day_exposition</th>\n",
       "      <th>rooms</th>\n",
       "      <th>ceiling_height</th>\n",
       "      <th>floors_total</th>\n",
       "      <th>living_area</th>\n",
       "      <th>floor</th>\n",
       "      <th>is_apartment</th>\n",
       "      <th>...</th>\n",
       "      <th>parks_around_3000</th>\n",
       "      <th>parks_nearest</th>\n",
       "      <th>ponds_around_3000</th>\n",
       "      <th>ponds_nearest</th>\n",
       "      <th>days_exposition</th>\n",
       "      <th>one_meter_price</th>\n",
       "      <th>day_of_week</th>\n",
       "      <th>month_of_publication</th>\n",
       "      <th>year_of_publication</th>\n",
       "      <th>floor_type</th>\n",
       "    </tr>\n",
       "  </thead>\n",
       "  <tbody>\n",
       "    <tr>\n",
       "      <th>1</th>\n",
       "      <td>7</td>\n",
       "      <td>3350000</td>\n",
       "      <td>40.40</td>\n",
       "      <td>2018-12-04</td>\n",
       "      <td>1</td>\n",
       "      <td>2.65</td>\n",
       "      <td>11.0</td>\n",
       "      <td>18.60</td>\n",
       "      <td>1</td>\n",
       "      <td>False</td>\n",
       "      <td>...</td>\n",
       "      <td>0.0</td>\n",
       "      <td>0.0</td>\n",
       "      <td>0.0</td>\n",
       "      <td>0.0</td>\n",
       "      <td>81</td>\n",
       "      <td>82920.8</td>\n",
       "      <td>1</td>\n",
       "      <td>12</td>\n",
       "      <td>2018</td>\n",
       "      <td>Первый</td>\n",
       "    </tr>\n",
       "    <tr>\n",
       "      <th>2</th>\n",
       "      <td>10</td>\n",
       "      <td>5196000</td>\n",
       "      <td>56.00</td>\n",
       "      <td>2015-08-20</td>\n",
       "      <td>2</td>\n",
       "      <td>2.65</td>\n",
       "      <td>5.0</td>\n",
       "      <td>34.30</td>\n",
       "      <td>4</td>\n",
       "      <td>False</td>\n",
       "      <td>...</td>\n",
       "      <td>1.0</td>\n",
       "      <td>90.0</td>\n",
       "      <td>2.0</td>\n",
       "      <td>574.0</td>\n",
       "      <td>558</td>\n",
       "      <td>92785.7</td>\n",
       "      <td>3</td>\n",
       "      <td>8</td>\n",
       "      <td>2015</td>\n",
       "      <td>Другой</td>\n",
       "    </tr>\n",
       "    <tr>\n",
       "      <th>3</th>\n",
       "      <td>0</td>\n",
       "      <td>64900000</td>\n",
       "      <td>159.00</td>\n",
       "      <td>2015-07-24</td>\n",
       "      <td>3</td>\n",
       "      <td>2.65</td>\n",
       "      <td>14.0</td>\n",
       "      <td>NaN</td>\n",
       "      <td>9</td>\n",
       "      <td>False</td>\n",
       "      <td>...</td>\n",
       "      <td>2.0</td>\n",
       "      <td>84.0</td>\n",
       "      <td>3.0</td>\n",
       "      <td>234.0</td>\n",
       "      <td>424</td>\n",
       "      <td>408176.1</td>\n",
       "      <td>4</td>\n",
       "      <td>7</td>\n",
       "      <td>2015</td>\n",
       "      <td>Другой</td>\n",
       "    </tr>\n",
       "    <tr>\n",
       "      <th>4</th>\n",
       "      <td>2</td>\n",
       "      <td>10000000</td>\n",
       "      <td>100.00</td>\n",
       "      <td>2018-06-19</td>\n",
       "      <td>2</td>\n",
       "      <td>3.03</td>\n",
       "      <td>14.0</td>\n",
       "      <td>32.00</td>\n",
       "      <td>13</td>\n",
       "      <td>False</td>\n",
       "      <td>...</td>\n",
       "      <td>2.0</td>\n",
       "      <td>112.0</td>\n",
       "      <td>1.0</td>\n",
       "      <td>48.0</td>\n",
       "      <td>121</td>\n",
       "      <td>100000.0</td>\n",
       "      <td>1</td>\n",
       "      <td>6</td>\n",
       "      <td>2018</td>\n",
       "      <td>Другой</td>\n",
       "    </tr>\n",
       "    <tr>\n",
       "      <th>5</th>\n",
       "      <td>10</td>\n",
       "      <td>2890000</td>\n",
       "      <td>30.40</td>\n",
       "      <td>2018-09-10</td>\n",
       "      <td>1</td>\n",
       "      <td>2.65</td>\n",
       "      <td>12.0</td>\n",
       "      <td>14.40</td>\n",
       "      <td>5</td>\n",
       "      <td>False</td>\n",
       "      <td>...</td>\n",
       "      <td>0.0</td>\n",
       "      <td>0.0</td>\n",
       "      <td>0.0</td>\n",
       "      <td>0.0</td>\n",
       "      <td>55</td>\n",
       "      <td>95065.8</td>\n",
       "      <td>0</td>\n",
       "      <td>9</td>\n",
       "      <td>2018</td>\n",
       "      <td>Другой</td>\n",
       "    </tr>\n",
       "    <tr>\n",
       "      <th>6</th>\n",
       "      <td>6</td>\n",
       "      <td>3700000</td>\n",
       "      <td>37.30</td>\n",
       "      <td>2017-11-02</td>\n",
       "      <td>1</td>\n",
       "      <td>2.65</td>\n",
       "      <td>26.0</td>\n",
       "      <td>10.60</td>\n",
       "      <td>6</td>\n",
       "      <td>False</td>\n",
       "      <td>...</td>\n",
       "      <td>0.0</td>\n",
       "      <td>0.0</td>\n",
       "      <td>0.0</td>\n",
       "      <td>0.0</td>\n",
       "      <td>155</td>\n",
       "      <td>99195.7</td>\n",
       "      <td>3</td>\n",
       "      <td>11</td>\n",
       "      <td>2017</td>\n",
       "      <td>Другой</td>\n",
       "    </tr>\n",
       "    <tr>\n",
       "      <th>8</th>\n",
       "      <td>20</td>\n",
       "      <td>2900000</td>\n",
       "      <td>33.16</td>\n",
       "      <td>2018-05-23</td>\n",
       "      <td>1</td>\n",
       "      <td>2.65</td>\n",
       "      <td>27.0</td>\n",
       "      <td>15.43</td>\n",
       "      <td>26</td>\n",
       "      <td>False</td>\n",
       "      <td>...</td>\n",
       "      <td>0.0</td>\n",
       "      <td>0.0</td>\n",
       "      <td>0.0</td>\n",
       "      <td>0.0</td>\n",
       "      <td>189</td>\n",
       "      <td>87454.8</td>\n",
       "      <td>2</td>\n",
       "      <td>5</td>\n",
       "      <td>2018</td>\n",
       "      <td>Другой</td>\n",
       "    </tr>\n",
       "    <tr>\n",
       "      <th>9</th>\n",
       "      <td>18</td>\n",
       "      <td>5400000</td>\n",
       "      <td>61.00</td>\n",
       "      <td>2017-02-26</td>\n",
       "      <td>3</td>\n",
       "      <td>2.50</td>\n",
       "      <td>9.0</td>\n",
       "      <td>43.60</td>\n",
       "      <td>7</td>\n",
       "      <td>False</td>\n",
       "      <td>...</td>\n",
       "      <td>0.0</td>\n",
       "      <td>0.0</td>\n",
       "      <td>0.0</td>\n",
       "      <td>0.0</td>\n",
       "      <td>289</td>\n",
       "      <td>88524.6</td>\n",
       "      <td>6</td>\n",
       "      <td>2</td>\n",
       "      <td>2017</td>\n",
       "      <td>Другой</td>\n",
       "    </tr>\n",
       "    <tr>\n",
       "      <th>10</th>\n",
       "      <td>5</td>\n",
       "      <td>5050000</td>\n",
       "      <td>39.60</td>\n",
       "      <td>2017-11-16</td>\n",
       "      <td>1</td>\n",
       "      <td>2.67</td>\n",
       "      <td>12.0</td>\n",
       "      <td>20.30</td>\n",
       "      <td>3</td>\n",
       "      <td>False</td>\n",
       "      <td>...</td>\n",
       "      <td>1.0</td>\n",
       "      <td>310.0</td>\n",
       "      <td>2.0</td>\n",
       "      <td>553.0</td>\n",
       "      <td>137</td>\n",
       "      <td>127525.3</td>\n",
       "      <td>3</td>\n",
       "      <td>11</td>\n",
       "      <td>2017</td>\n",
       "      <td>Другой</td>\n",
       "    </tr>\n",
       "    <tr>\n",
       "      <th>11</th>\n",
       "      <td>9</td>\n",
       "      <td>3300000</td>\n",
       "      <td>44.00</td>\n",
       "      <td>2018-08-27</td>\n",
       "      <td>2</td>\n",
       "      <td>2.65</td>\n",
       "      <td>5.0</td>\n",
       "      <td>31.00</td>\n",
       "      <td>4</td>\n",
       "      <td>False</td>\n",
       "      <td>...</td>\n",
       "      <td>0.0</td>\n",
       "      <td>0.0</td>\n",
       "      <td>0.0</td>\n",
       "      <td>0.0</td>\n",
       "      <td>7</td>\n",
       "      <td>75000.0</td>\n",
       "      <td>0</td>\n",
       "      <td>8</td>\n",
       "      <td>2018</td>\n",
       "      <td>Другой</td>\n",
       "    </tr>\n",
       "    <tr>\n",
       "      <th>12</th>\n",
       "      <td>10</td>\n",
       "      <td>3890000</td>\n",
       "      <td>54.00</td>\n",
       "      <td>2016-06-30</td>\n",
       "      <td>2</td>\n",
       "      <td>2.65</td>\n",
       "      <td>5.0</td>\n",
       "      <td>30.00</td>\n",
       "      <td>5</td>\n",
       "      <td>False</td>\n",
       "      <td>...</td>\n",
       "      <td>0.0</td>\n",
       "      <td>0.0</td>\n",
       "      <td>0.0</td>\n",
       "      <td>0.0</td>\n",
       "      <td>90</td>\n",
       "      <td>72037.0</td>\n",
       "      <td>3</td>\n",
       "      <td>6</td>\n",
       "      <td>2016</td>\n",
       "      <td>Последний</td>\n",
       "    </tr>\n",
       "    <tr>\n",
       "      <th>13</th>\n",
       "      <td>20</td>\n",
       "      <td>3550000</td>\n",
       "      <td>42.80</td>\n",
       "      <td>2017-07-01</td>\n",
       "      <td>2</td>\n",
       "      <td>2.56</td>\n",
       "      <td>5.0</td>\n",
       "      <td>27.00</td>\n",
       "      <td>5</td>\n",
       "      <td>False</td>\n",
       "      <td>...</td>\n",
       "      <td>1.0</td>\n",
       "      <td>294.0</td>\n",
       "      <td>3.0</td>\n",
       "      <td>298.0</td>\n",
       "      <td>366</td>\n",
       "      <td>82943.9</td>\n",
       "      <td>5</td>\n",
       "      <td>7</td>\n",
       "      <td>2017</td>\n",
       "      <td>Последний</td>\n",
       "    </tr>\n",
       "    <tr>\n",
       "      <th>14</th>\n",
       "      <td>1</td>\n",
       "      <td>4400000</td>\n",
       "      <td>36.00</td>\n",
       "      <td>2016-06-23</td>\n",
       "      <td>1</td>\n",
       "      <td>2.65</td>\n",
       "      <td>6.0</td>\n",
       "      <td>17.00</td>\n",
       "      <td>1</td>\n",
       "      <td>False</td>\n",
       "      <td>...</td>\n",
       "      <td>0.0</td>\n",
       "      <td>0.0</td>\n",
       "      <td>1.0</td>\n",
       "      <td>96.0</td>\n",
       "      <td>203</td>\n",
       "      <td>122222.2</td>\n",
       "      <td>3</td>\n",
       "      <td>6</td>\n",
       "      <td>2016</td>\n",
       "      <td>Первый</td>\n",
       "    </tr>\n",
       "    <tr>\n",
       "      <th>15</th>\n",
       "      <td>16</td>\n",
       "      <td>4650000</td>\n",
       "      <td>39.00</td>\n",
       "      <td>2017-11-18</td>\n",
       "      <td>1</td>\n",
       "      <td>2.65</td>\n",
       "      <td>14.0</td>\n",
       "      <td>20.50</td>\n",
       "      <td>5</td>\n",
       "      <td>False</td>\n",
       "      <td>...</td>\n",
       "      <td>1.0</td>\n",
       "      <td>590.0</td>\n",
       "      <td>1.0</td>\n",
       "      <td>296.0</td>\n",
       "      <td>19</td>\n",
       "      <td>119230.8</td>\n",
       "      <td>5</td>\n",
       "      <td>11</td>\n",
       "      <td>2017</td>\n",
       "      <td>Другой</td>\n",
       "    </tr>\n",
       "    <tr>\n",
       "      <th>16</th>\n",
       "      <td>11</td>\n",
       "      <td>6700000</td>\n",
       "      <td>82.00</td>\n",
       "      <td>2017-11-23</td>\n",
       "      <td>3</td>\n",
       "      <td>3.05</td>\n",
       "      <td>5.0</td>\n",
       "      <td>55.60</td>\n",
       "      <td>1</td>\n",
       "      <td>False</td>\n",
       "      <td>...</td>\n",
       "      <td>3.0</td>\n",
       "      <td>420.0</td>\n",
       "      <td>0.0</td>\n",
       "      <td>0.0</td>\n",
       "      <td>397</td>\n",
       "      <td>81707.3</td>\n",
       "      <td>3</td>\n",
       "      <td>11</td>\n",
       "      <td>2017</td>\n",
       "      <td>Первый</td>\n",
       "    </tr>\n",
       "    <tr>\n",
       "      <th>17</th>\n",
       "      <td>6</td>\n",
       "      <td>4180000</td>\n",
       "      <td>36.00</td>\n",
       "      <td>2016-09-09</td>\n",
       "      <td>1</td>\n",
       "      <td>2.65</td>\n",
       "      <td>17.0</td>\n",
       "      <td>16.50</td>\n",
       "      <td>7</td>\n",
       "      <td>False</td>\n",
       "      <td>...</td>\n",
       "      <td>0.0</td>\n",
       "      <td>0.0</td>\n",
       "      <td>1.0</td>\n",
       "      <td>859.0</td>\n",
       "      <td>571</td>\n",
       "      <td>116111.1</td>\n",
       "      <td>4</td>\n",
       "      <td>9</td>\n",
       "      <td>2016</td>\n",
       "      <td>Другой</td>\n",
       "    </tr>\n",
       "    <tr>\n",
       "      <th>18</th>\n",
       "      <td>8</td>\n",
       "      <td>3250000</td>\n",
       "      <td>31.00</td>\n",
       "      <td>2017-01-27</td>\n",
       "      <td>1</td>\n",
       "      <td>2.50</td>\n",
       "      <td>5.0</td>\n",
       "      <td>19.40</td>\n",
       "      <td>2</td>\n",
       "      <td>False</td>\n",
       "      <td>...</td>\n",
       "      <td>1.0</td>\n",
       "      <td>759.0</td>\n",
       "      <td>0.0</td>\n",
       "      <td>0.0</td>\n",
       "      <td>168</td>\n",
       "      <td>104838.7</td>\n",
       "      <td>4</td>\n",
       "      <td>1</td>\n",
       "      <td>2017</td>\n",
       "      <td>Другой</td>\n",
       "    </tr>\n",
       "    <tr>\n",
       "      <th>19</th>\n",
       "      <td>16</td>\n",
       "      <td>14200000</td>\n",
       "      <td>121.00</td>\n",
       "      <td>2019-01-09</td>\n",
       "      <td>3</td>\n",
       "      <td>2.75</td>\n",
       "      <td>16.0</td>\n",
       "      <td>76.00</td>\n",
       "      <td>8</td>\n",
       "      <td>False</td>\n",
       "      <td>...</td>\n",
       "      <td>0.0</td>\n",
       "      <td>0.0</td>\n",
       "      <td>0.0</td>\n",
       "      <td>0.0</td>\n",
       "      <td>97</td>\n",
       "      <td>117355.4</td>\n",
       "      <td>2</td>\n",
       "      <td>1</td>\n",
       "      <td>2019</td>\n",
       "      <td>Другой</td>\n",
       "    </tr>\n",
       "    <tr>\n",
       "      <th>20</th>\n",
       "      <td>12</td>\n",
       "      <td>6120000</td>\n",
       "      <td>80.00</td>\n",
       "      <td>2017-09-28</td>\n",
       "      <td>3</td>\n",
       "      <td>2.70</td>\n",
       "      <td>27.0</td>\n",
       "      <td>48.00</td>\n",
       "      <td>11</td>\n",
       "      <td>False</td>\n",
       "      <td>...</td>\n",
       "      <td>0.0</td>\n",
       "      <td>0.0</td>\n",
       "      <td>0.0</td>\n",
       "      <td>0.0</td>\n",
       "      <td>74</td>\n",
       "      <td>76500.0</td>\n",
       "      <td>3</td>\n",
       "      <td>9</td>\n",
       "      <td>2017</td>\n",
       "      <td>Другой</td>\n",
       "    </tr>\n",
       "    <tr>\n",
       "      <th>21</th>\n",
       "      <td>13</td>\n",
       "      <td>3200000</td>\n",
       "      <td>31.60</td>\n",
       "      <td>2018-03-14</td>\n",
       "      <td>1</td>\n",
       "      <td>2.65</td>\n",
       "      <td>5.0</td>\n",
       "      <td>16.90</td>\n",
       "      <td>2</td>\n",
       "      <td>False</td>\n",
       "      <td>...</td>\n",
       "      <td>1.0</td>\n",
       "      <td>248.0</td>\n",
       "      <td>0.0</td>\n",
       "      <td>0.0</td>\n",
       "      <td>310</td>\n",
       "      <td>101265.8</td>\n",
       "      <td>2</td>\n",
       "      <td>3</td>\n",
       "      <td>2018</td>\n",
       "      <td>Другой</td>\n",
       "    </tr>\n",
       "    <tr>\n",
       "      <th>22</th>\n",
       "      <td>20</td>\n",
       "      <td>5000000</td>\n",
       "      <td>58.00</td>\n",
       "      <td>2017-04-24</td>\n",
       "      <td>2</td>\n",
       "      <td>2.75</td>\n",
       "      <td>25.0</td>\n",
       "      <td>30.00</td>\n",
       "      <td>15</td>\n",
       "      <td>False</td>\n",
       "      <td>...</td>\n",
       "      <td>0.0</td>\n",
       "      <td>0.0</td>\n",
       "      <td>0.0</td>\n",
       "      <td>0.0</td>\n",
       "      <td>60</td>\n",
       "      <td>86206.9</td>\n",
       "      <td>0</td>\n",
       "      <td>4</td>\n",
       "      <td>2017</td>\n",
       "      <td>Другой</td>\n",
       "    </tr>\n",
       "    <tr>\n",
       "      <th>23</th>\n",
       "      <td>11</td>\n",
       "      <td>2950000</td>\n",
       "      <td>32.00</td>\n",
       "      <td>2016-10-29</td>\n",
       "      <td>1</td>\n",
       "      <td>2.60</td>\n",
       "      <td>9.0</td>\n",
       "      <td>17.70</td>\n",
       "      <td>9</td>\n",
       "      <td>False</td>\n",
       "      <td>...</td>\n",
       "      <td>2.0</td>\n",
       "      <td>517.0</td>\n",
       "      <td>1.0</td>\n",
       "      <td>190.0</td>\n",
       "      <td>615</td>\n",
       "      <td>92187.5</td>\n",
       "      <td>5</td>\n",
       "      <td>10</td>\n",
       "      <td>2016</td>\n",
       "      <td>Последний</td>\n",
       "    </tr>\n",
       "    <tr>\n",
       "      <th>24</th>\n",
       "      <td>8</td>\n",
       "      <td>6500000</td>\n",
       "      <td>97.20</td>\n",
       "      <td>2015-10-31</td>\n",
       "      <td>2</td>\n",
       "      <td>2.65</td>\n",
       "      <td>3.0</td>\n",
       "      <td>46.50</td>\n",
       "      <td>1</td>\n",
       "      <td>False</td>\n",
       "      <td>...</td>\n",
       "      <td>3.0</td>\n",
       "      <td>411.0</td>\n",
       "      <td>3.0</td>\n",
       "      <td>124.0</td>\n",
       "      <td>265</td>\n",
       "      <td>66872.4</td>\n",
       "      <td>5</td>\n",
       "      <td>10</td>\n",
       "      <td>2015</td>\n",
       "      <td>Первый</td>\n",
       "    </tr>\n",
       "    <tr>\n",
       "      <th>25</th>\n",
       "      <td>3</td>\n",
       "      <td>6800000</td>\n",
       "      <td>76.00</td>\n",
       "      <td>2015-10-01</td>\n",
       "      <td>2</td>\n",
       "      <td>2.75</td>\n",
       "      <td>23.0</td>\n",
       "      <td>39.00</td>\n",
       "      <td>18</td>\n",
       "      <td>False</td>\n",
       "      <td>...</td>\n",
       "      <td>0.0</td>\n",
       "      <td>0.0</td>\n",
       "      <td>1.0</td>\n",
       "      <td>564.0</td>\n",
       "      <td>300</td>\n",
       "      <td>89473.7</td>\n",
       "      <td>3</td>\n",
       "      <td>10</td>\n",
       "      <td>2015</td>\n",
       "      <td>Другой</td>\n",
       "    </tr>\n",
       "    <tr>\n",
       "      <th>26</th>\n",
       "      <td>6</td>\n",
       "      <td>4050000</td>\n",
       "      <td>60.00</td>\n",
       "      <td>2017-04-28</td>\n",
       "      <td>4</td>\n",
       "      <td>2.65</td>\n",
       "      <td>5.0</td>\n",
       "      <td>43.00</td>\n",
       "      <td>4</td>\n",
       "      <td>False</td>\n",
       "      <td>...</td>\n",
       "      <td>0.0</td>\n",
       "      <td>0.0</td>\n",
       "      <td>1.0</td>\n",
       "      <td>95.0</td>\n",
       "      <td>265</td>\n",
       "      <td>67500.0</td>\n",
       "      <td>4</td>\n",
       "      <td>4</td>\n",
       "      <td>2017</td>\n",
       "      <td>Другой</td>\n",
       "    </tr>\n",
       "    <tr>\n",
       "      <th>27</th>\n",
       "      <td>20</td>\n",
       "      <td>7100000</td>\n",
       "      <td>70.00</td>\n",
       "      <td>2017-05-12</td>\n",
       "      <td>3</td>\n",
       "      <td>2.60</td>\n",
       "      <td>17.0</td>\n",
       "      <td>49.00</td>\n",
       "      <td>11</td>\n",
       "      <td>False</td>\n",
       "      <td>...</td>\n",
       "      <td>2.0</td>\n",
       "      <td>452.0</td>\n",
       "      <td>1.0</td>\n",
       "      <td>779.0</td>\n",
       "      <td>151</td>\n",
       "      <td>101428.6</td>\n",
       "      <td>4</td>\n",
       "      <td>5</td>\n",
       "      <td>2017</td>\n",
       "      <td>Другой</td>\n",
       "    </tr>\n",
       "    <tr>\n",
       "      <th>28</th>\n",
       "      <td>8</td>\n",
       "      <td>4170000</td>\n",
       "      <td>44.00</td>\n",
       "      <td>2017-12-13</td>\n",
       "      <td>1</td>\n",
       "      <td>2.90</td>\n",
       "      <td>6.0</td>\n",
       "      <td>20.80</td>\n",
       "      <td>1</td>\n",
       "      <td>False</td>\n",
       "      <td>...</td>\n",
       "      <td>0.0</td>\n",
       "      <td>0.0</td>\n",
       "      <td>1.0</td>\n",
       "      <td>118.0</td>\n",
       "      <td>74</td>\n",
       "      <td>94772.7</td>\n",
       "      <td>2</td>\n",
       "      <td>12</td>\n",
       "      <td>2017</td>\n",
       "      <td>Первый</td>\n",
       "    </tr>\n",
       "    <tr>\n",
       "      <th>29</th>\n",
       "      <td>9</td>\n",
       "      <td>8600000</td>\n",
       "      <td>100.00</td>\n",
       "      <td>2016-04-09</td>\n",
       "      <td>3</td>\n",
       "      <td>2.65</td>\n",
       "      <td>19.0</td>\n",
       "      <td>52.00</td>\n",
       "      <td>15</td>\n",
       "      <td>False</td>\n",
       "      <td>...</td>\n",
       "      <td>1.0</td>\n",
       "      <td>532.0</td>\n",
       "      <td>1.0</td>\n",
       "      <td>896.0</td>\n",
       "      <td>125</td>\n",
       "      <td>86000.0</td>\n",
       "      <td>5</td>\n",
       "      <td>4</td>\n",
       "      <td>2016</td>\n",
       "      <td>Другой</td>\n",
       "    </tr>\n",
       "    <tr>\n",
       "      <th>30</th>\n",
       "      <td>12</td>\n",
       "      <td>2200000</td>\n",
       "      <td>32.80</td>\n",
       "      <td>2018-02-19</td>\n",
       "      <td>1</td>\n",
       "      <td>2.65</td>\n",
       "      <td>9.0</td>\n",
       "      <td>NaN</td>\n",
       "      <td>2</td>\n",
       "      <td>False</td>\n",
       "      <td>...</td>\n",
       "      <td>0.0</td>\n",
       "      <td>0.0</td>\n",
       "      <td>0.0</td>\n",
       "      <td>0.0</td>\n",
       "      <td>63</td>\n",
       "      <td>67073.2</td>\n",
       "      <td>0</td>\n",
       "      <td>2</td>\n",
       "      <td>2018</td>\n",
       "      <td>Другой</td>\n",
       "    </tr>\n",
       "    <tr>\n",
       "      <th>31</th>\n",
       "      <td>8</td>\n",
       "      <td>7200000</td>\n",
       "      <td>67.90</td>\n",
       "      <td>2017-10-26</td>\n",
       "      <td>2</td>\n",
       "      <td>2.80</td>\n",
       "      <td>16.0</td>\n",
       "      <td>38.10</td>\n",
       "      <td>4</td>\n",
       "      <td>False</td>\n",
       "      <td>...</td>\n",
       "      <td>0.0</td>\n",
       "      <td>0.0</td>\n",
       "      <td>0.0</td>\n",
       "      <td>0.0</td>\n",
       "      <td>112</td>\n",
       "      <td>106038.3</td>\n",
       "      <td>3</td>\n",
       "      <td>10</td>\n",
       "      <td>2017</td>\n",
       "      <td>Другой</td>\n",
       "    </tr>\n",
       "  </tbody>\n",
       "</table>\n",
       "<p>30 rows × 27 columns</p>\n",
       "</div>"
      ],
      "text/plain": [
       "    total_images  last_price  total_area first_day_exposition  rooms  \\\n",
       "1              7     3350000       40.40           2018-12-04      1   \n",
       "2             10     5196000       56.00           2015-08-20      2   \n",
       "3              0    64900000      159.00           2015-07-24      3   \n",
       "4              2    10000000      100.00           2018-06-19      2   \n",
       "5             10     2890000       30.40           2018-09-10      1   \n",
       "6              6     3700000       37.30           2017-11-02      1   \n",
       "8             20     2900000       33.16           2018-05-23      1   \n",
       "9             18     5400000       61.00           2017-02-26      3   \n",
       "10             5     5050000       39.60           2017-11-16      1   \n",
       "11             9     3300000       44.00           2018-08-27      2   \n",
       "12            10     3890000       54.00           2016-06-30      2   \n",
       "13            20     3550000       42.80           2017-07-01      2   \n",
       "14             1     4400000       36.00           2016-06-23      1   \n",
       "15            16     4650000       39.00           2017-11-18      1   \n",
       "16            11     6700000       82.00           2017-11-23      3   \n",
       "17             6     4180000       36.00           2016-09-09      1   \n",
       "18             8     3250000       31.00           2017-01-27      1   \n",
       "19            16    14200000      121.00           2019-01-09      3   \n",
       "20            12     6120000       80.00           2017-09-28      3   \n",
       "21            13     3200000       31.60           2018-03-14      1   \n",
       "22            20     5000000       58.00           2017-04-24      2   \n",
       "23            11     2950000       32.00           2016-10-29      1   \n",
       "24             8     6500000       97.20           2015-10-31      2   \n",
       "25             3     6800000       76.00           2015-10-01      2   \n",
       "26             6     4050000       60.00           2017-04-28      4   \n",
       "27            20     7100000       70.00           2017-05-12      3   \n",
       "28             8     4170000       44.00           2017-12-13      1   \n",
       "29             9     8600000      100.00           2016-04-09      3   \n",
       "30            12     2200000       32.80           2018-02-19      1   \n",
       "31             8     7200000       67.90           2017-10-26      2   \n",
       "\n",
       "    ceiling_height  floors_total  living_area  floor  is_apartment  ...  \\\n",
       "1             2.65          11.0        18.60      1         False  ...   \n",
       "2             2.65           5.0        34.30      4         False  ...   \n",
       "3             2.65          14.0          NaN      9         False  ...   \n",
       "4             3.03          14.0        32.00     13         False  ...   \n",
       "5             2.65          12.0        14.40      5         False  ...   \n",
       "6             2.65          26.0        10.60      6         False  ...   \n",
       "8             2.65          27.0        15.43     26         False  ...   \n",
       "9             2.50           9.0        43.60      7         False  ...   \n",
       "10            2.67          12.0        20.30      3         False  ...   \n",
       "11            2.65           5.0        31.00      4         False  ...   \n",
       "12            2.65           5.0        30.00      5         False  ...   \n",
       "13            2.56           5.0        27.00      5         False  ...   \n",
       "14            2.65           6.0        17.00      1         False  ...   \n",
       "15            2.65          14.0        20.50      5         False  ...   \n",
       "16            3.05           5.0        55.60      1         False  ...   \n",
       "17            2.65          17.0        16.50      7         False  ...   \n",
       "18            2.50           5.0        19.40      2         False  ...   \n",
       "19            2.75          16.0        76.00      8         False  ...   \n",
       "20            2.70          27.0        48.00     11         False  ...   \n",
       "21            2.65           5.0        16.90      2         False  ...   \n",
       "22            2.75          25.0        30.00     15         False  ...   \n",
       "23            2.60           9.0        17.70      9         False  ...   \n",
       "24            2.65           3.0        46.50      1         False  ...   \n",
       "25            2.75          23.0        39.00     18         False  ...   \n",
       "26            2.65           5.0        43.00      4         False  ...   \n",
       "27            2.60          17.0        49.00     11         False  ...   \n",
       "28            2.90           6.0        20.80      1         False  ...   \n",
       "29            2.65          19.0        52.00     15         False  ...   \n",
       "30            2.65           9.0          NaN      2         False  ...   \n",
       "31            2.80          16.0        38.10      4         False  ...   \n",
       "\n",
       "    parks_around_3000  parks_nearest  ponds_around_3000  ponds_nearest  \\\n",
       "1                 0.0            0.0                0.0            0.0   \n",
       "2                 1.0           90.0                2.0          574.0   \n",
       "3                 2.0           84.0                3.0          234.0   \n",
       "4                 2.0          112.0                1.0           48.0   \n",
       "5                 0.0            0.0                0.0            0.0   \n",
       "6                 0.0            0.0                0.0            0.0   \n",
       "8                 0.0            0.0                0.0            0.0   \n",
       "9                 0.0            0.0                0.0            0.0   \n",
       "10                1.0          310.0                2.0          553.0   \n",
       "11                0.0            0.0                0.0            0.0   \n",
       "12                0.0            0.0                0.0            0.0   \n",
       "13                1.0          294.0                3.0          298.0   \n",
       "14                0.0            0.0                1.0           96.0   \n",
       "15                1.0          590.0                1.0          296.0   \n",
       "16                3.0          420.0                0.0            0.0   \n",
       "17                0.0            0.0                1.0          859.0   \n",
       "18                1.0          759.0                0.0            0.0   \n",
       "19                0.0            0.0                0.0            0.0   \n",
       "20                0.0            0.0                0.0            0.0   \n",
       "21                1.0          248.0                0.0            0.0   \n",
       "22                0.0            0.0                0.0            0.0   \n",
       "23                2.0          517.0                1.0          190.0   \n",
       "24                3.0          411.0                3.0          124.0   \n",
       "25                0.0            0.0                1.0          564.0   \n",
       "26                0.0            0.0                1.0           95.0   \n",
       "27                2.0          452.0                1.0          779.0   \n",
       "28                0.0            0.0                1.0          118.0   \n",
       "29                1.0          532.0                1.0          896.0   \n",
       "30                0.0            0.0                0.0            0.0   \n",
       "31                0.0            0.0                0.0            0.0   \n",
       "\n",
       "   days_exposition  one_meter_price  day_of_week  month_of_publication  \\\n",
       "1               81          82920.8            1                    12   \n",
       "2              558          92785.7            3                     8   \n",
       "3              424         408176.1            4                     7   \n",
       "4              121         100000.0            1                     6   \n",
       "5               55          95065.8            0                     9   \n",
       "6              155          99195.7            3                    11   \n",
       "8              189          87454.8            2                     5   \n",
       "9              289          88524.6            6                     2   \n",
       "10             137         127525.3            3                    11   \n",
       "11               7          75000.0            0                     8   \n",
       "12              90          72037.0            3                     6   \n",
       "13             366          82943.9            5                     7   \n",
       "14             203         122222.2            3                     6   \n",
       "15              19         119230.8            5                    11   \n",
       "16             397          81707.3            3                    11   \n",
       "17             571         116111.1            4                     9   \n",
       "18             168         104838.7            4                     1   \n",
       "19              97         117355.4            2                     1   \n",
       "20              74          76500.0            3                     9   \n",
       "21             310         101265.8            2                     3   \n",
       "22              60          86206.9            0                     4   \n",
       "23             615          92187.5            5                    10   \n",
       "24             265          66872.4            5                    10   \n",
       "25             300          89473.7            3                    10   \n",
       "26             265          67500.0            4                     4   \n",
       "27             151         101428.6            4                     5   \n",
       "28              74          94772.7            2                    12   \n",
       "29             125          86000.0            5                     4   \n",
       "30              63          67073.2            0                     2   \n",
       "31             112         106038.3            3                    10   \n",
       "\n",
       "    year_of_publication  floor_type  \n",
       "1                  2018      Первый  \n",
       "2                  2015      Другой  \n",
       "3                  2015      Другой  \n",
       "4                  2018      Другой  \n",
       "5                  2018      Другой  \n",
       "6                  2017      Другой  \n",
       "8                  2018      Другой  \n",
       "9                  2017      Другой  \n",
       "10                 2017      Другой  \n",
       "11                 2018      Другой  \n",
       "12                 2016   Последний  \n",
       "13                 2017   Последний  \n",
       "14                 2016      Первый  \n",
       "15                 2017      Другой  \n",
       "16                 2017      Первый  \n",
       "17                 2016      Другой  \n",
       "18                 2017      Другой  \n",
       "19                 2019      Другой  \n",
       "20                 2017      Другой  \n",
       "21                 2018      Другой  \n",
       "22                 2017      Другой  \n",
       "23                 2016   Последний  \n",
       "24                 2015      Первый  \n",
       "25                 2015      Другой  \n",
       "26                 2017      Другой  \n",
       "27                 2017      Другой  \n",
       "28                 2017      Первый  \n",
       "29                 2016      Другой  \n",
       "30                 2018      Другой  \n",
       "31                 2017      Другой  \n",
       "\n",
       "[30 rows x 27 columns]"
      ]
     },
     "execution_count": 272,
     "metadata": {},
     "output_type": "execute_result"
    }
   ],
   "source": [
    "last_floor = data.query('floors_total == floor')\n",
    "data['floor_type'] = data['floor']\n",
    "data.loc[data['floor_type'] == 1, 'floor_type'] = 'Первый'\n",
    "data.loc[last_floor.index, 'floor_type'] = 'Последний'\n",
    "data.loc[(data['floor_type'] != 'Первый') & (data['floor_type']!= 'Последний'), 'floor_type'] = 'Другой'\n",
    "data.head(30)"
   ]
  },
  {
   "cell_type": "code",
   "execution_count": 273,
   "metadata": {},
   "outputs": [
    {
     "data": {
      "text/plain": [
       "Другой       15124\n",
       "Последний     2803\n",
       "Первый        2443\n",
       "Name: floor_type, dtype: int64"
      ]
     },
     "execution_count": 273,
     "metadata": {},
     "output_type": "execute_result"
    }
   ],
   "source": [
    "data['floor_type'].value_counts()"
   ]
  },
  {
   "cell_type": "markdown",
   "metadata": {},
   "source": [
    "**Добавим столбец center_distance_km (расстояние до центра города в километрах**"
   ]
  },
  {
   "cell_type": "code",
   "execution_count": 274,
   "metadata": {},
   "outputs": [
    {
     "name": "stdout",
     "output_type": "stream",
     "text": [
      "ok\n"
     ]
    }
   ],
   "source": [
    "data['center_distance_km'] = data['city_centers_nearest']/1000\n",
    "try:\n",
    "    data['center_distance_km'] = data['center_distance_km'].astype('int')\n",
    "    print ('ok')\n",
    "except:\n",
    "    print ('conversation failed')"
   ]
  },
  {
   "cell_type": "code",
   "execution_count": 275,
   "metadata": {},
   "outputs": [
    {
     "data": {
      "text/html": [
       "<div>\n",
       "<style scoped>\n",
       "    .dataframe tbody tr th:only-of-type {\n",
       "        vertical-align: middle;\n",
       "    }\n",
       "\n",
       "    .dataframe tbody tr th {\n",
       "        vertical-align: top;\n",
       "    }\n",
       "\n",
       "    .dataframe thead th {\n",
       "        text-align: right;\n",
       "    }\n",
       "</style>\n",
       "<table border=\"1\" class=\"dataframe\">\n",
       "  <thead>\n",
       "    <tr style=\"text-align: right;\">\n",
       "      <th></th>\n",
       "      <th>total_images</th>\n",
       "      <th>last_price</th>\n",
       "      <th>total_area</th>\n",
       "      <th>first_day_exposition</th>\n",
       "      <th>rooms</th>\n",
       "      <th>ceiling_height</th>\n",
       "      <th>floors_total</th>\n",
       "      <th>living_area</th>\n",
       "      <th>floor</th>\n",
       "      <th>is_apartment</th>\n",
       "      <th>...</th>\n",
       "      <th>parks_nearest</th>\n",
       "      <th>ponds_around_3000</th>\n",
       "      <th>ponds_nearest</th>\n",
       "      <th>days_exposition</th>\n",
       "      <th>one_meter_price</th>\n",
       "      <th>day_of_week</th>\n",
       "      <th>month_of_publication</th>\n",
       "      <th>year_of_publication</th>\n",
       "      <th>floor_type</th>\n",
       "      <th>center_distance_km</th>\n",
       "    </tr>\n",
       "  </thead>\n",
       "  <tbody>\n",
       "    <tr>\n",
       "      <th>1</th>\n",
       "      <td>7</td>\n",
       "      <td>3350000</td>\n",
       "      <td>40.40</td>\n",
       "      <td>2018-12-04</td>\n",
       "      <td>1</td>\n",
       "      <td>2.65</td>\n",
       "      <td>11.0</td>\n",
       "      <td>18.60</td>\n",
       "      <td>1</td>\n",
       "      <td>False</td>\n",
       "      <td>...</td>\n",
       "      <td>0.0</td>\n",
       "      <td>0.0</td>\n",
       "      <td>0.0</td>\n",
       "      <td>81</td>\n",
       "      <td>82920.8</td>\n",
       "      <td>1</td>\n",
       "      <td>12</td>\n",
       "      <td>2018</td>\n",
       "      <td>Первый</td>\n",
       "      <td>18</td>\n",
       "    </tr>\n",
       "    <tr>\n",
       "      <th>2</th>\n",
       "      <td>10</td>\n",
       "      <td>5196000</td>\n",
       "      <td>56.00</td>\n",
       "      <td>2015-08-20</td>\n",
       "      <td>2</td>\n",
       "      <td>2.65</td>\n",
       "      <td>5.0</td>\n",
       "      <td>34.30</td>\n",
       "      <td>4</td>\n",
       "      <td>False</td>\n",
       "      <td>...</td>\n",
       "      <td>90.0</td>\n",
       "      <td>2.0</td>\n",
       "      <td>574.0</td>\n",
       "      <td>558</td>\n",
       "      <td>92785.7</td>\n",
       "      <td>3</td>\n",
       "      <td>8</td>\n",
       "      <td>2015</td>\n",
       "      <td>Другой</td>\n",
       "      <td>13</td>\n",
       "    </tr>\n",
       "    <tr>\n",
       "      <th>3</th>\n",
       "      <td>0</td>\n",
       "      <td>64900000</td>\n",
       "      <td>159.00</td>\n",
       "      <td>2015-07-24</td>\n",
       "      <td>3</td>\n",
       "      <td>2.65</td>\n",
       "      <td>14.0</td>\n",
       "      <td>NaN</td>\n",
       "      <td>9</td>\n",
       "      <td>False</td>\n",
       "      <td>...</td>\n",
       "      <td>84.0</td>\n",
       "      <td>3.0</td>\n",
       "      <td>234.0</td>\n",
       "      <td>424</td>\n",
       "      <td>408176.1</td>\n",
       "      <td>4</td>\n",
       "      <td>7</td>\n",
       "      <td>2015</td>\n",
       "      <td>Другой</td>\n",
       "      <td>6</td>\n",
       "    </tr>\n",
       "    <tr>\n",
       "      <th>4</th>\n",
       "      <td>2</td>\n",
       "      <td>10000000</td>\n",
       "      <td>100.00</td>\n",
       "      <td>2018-06-19</td>\n",
       "      <td>2</td>\n",
       "      <td>3.03</td>\n",
       "      <td>14.0</td>\n",
       "      <td>32.00</td>\n",
       "      <td>13</td>\n",
       "      <td>False</td>\n",
       "      <td>...</td>\n",
       "      <td>112.0</td>\n",
       "      <td>1.0</td>\n",
       "      <td>48.0</td>\n",
       "      <td>121</td>\n",
       "      <td>100000.0</td>\n",
       "      <td>1</td>\n",
       "      <td>6</td>\n",
       "      <td>2018</td>\n",
       "      <td>Другой</td>\n",
       "      <td>8</td>\n",
       "    </tr>\n",
       "    <tr>\n",
       "      <th>5</th>\n",
       "      <td>10</td>\n",
       "      <td>2890000</td>\n",
       "      <td>30.40</td>\n",
       "      <td>2018-09-10</td>\n",
       "      <td>1</td>\n",
       "      <td>2.65</td>\n",
       "      <td>12.0</td>\n",
       "      <td>14.40</td>\n",
       "      <td>5</td>\n",
       "      <td>False</td>\n",
       "      <td>...</td>\n",
       "      <td>0.0</td>\n",
       "      <td>0.0</td>\n",
       "      <td>0.0</td>\n",
       "      <td>55</td>\n",
       "      <td>95065.8</td>\n",
       "      <td>0</td>\n",
       "      <td>9</td>\n",
       "      <td>2018</td>\n",
       "      <td>Другой</td>\n",
       "      <td>0</td>\n",
       "    </tr>\n",
       "    <tr>\n",
       "      <th>6</th>\n",
       "      <td>6</td>\n",
       "      <td>3700000</td>\n",
       "      <td>37.30</td>\n",
       "      <td>2017-11-02</td>\n",
       "      <td>1</td>\n",
       "      <td>2.65</td>\n",
       "      <td>26.0</td>\n",
       "      <td>10.60</td>\n",
       "      <td>6</td>\n",
       "      <td>False</td>\n",
       "      <td>...</td>\n",
       "      <td>0.0</td>\n",
       "      <td>0.0</td>\n",
       "      <td>0.0</td>\n",
       "      <td>155</td>\n",
       "      <td>99195.7</td>\n",
       "      <td>3</td>\n",
       "      <td>11</td>\n",
       "      <td>2017</td>\n",
       "      <td>Другой</td>\n",
       "      <td>19</td>\n",
       "    </tr>\n",
       "    <tr>\n",
       "      <th>8</th>\n",
       "      <td>20</td>\n",
       "      <td>2900000</td>\n",
       "      <td>33.16</td>\n",
       "      <td>2018-05-23</td>\n",
       "      <td>1</td>\n",
       "      <td>2.65</td>\n",
       "      <td>27.0</td>\n",
       "      <td>15.43</td>\n",
       "      <td>26</td>\n",
       "      <td>False</td>\n",
       "      <td>...</td>\n",
       "      <td>0.0</td>\n",
       "      <td>0.0</td>\n",
       "      <td>0.0</td>\n",
       "      <td>189</td>\n",
       "      <td>87454.8</td>\n",
       "      <td>2</td>\n",
       "      <td>5</td>\n",
       "      <td>2018</td>\n",
       "      <td>Другой</td>\n",
       "      <td>0</td>\n",
       "    </tr>\n",
       "    <tr>\n",
       "      <th>9</th>\n",
       "      <td>18</td>\n",
       "      <td>5400000</td>\n",
       "      <td>61.00</td>\n",
       "      <td>2017-02-26</td>\n",
       "      <td>3</td>\n",
       "      <td>2.50</td>\n",
       "      <td>9.0</td>\n",
       "      <td>43.60</td>\n",
       "      <td>7</td>\n",
       "      <td>False</td>\n",
       "      <td>...</td>\n",
       "      <td>0.0</td>\n",
       "      <td>0.0</td>\n",
       "      <td>0.0</td>\n",
       "      <td>289</td>\n",
       "      <td>88524.6</td>\n",
       "      <td>6</td>\n",
       "      <td>2</td>\n",
       "      <td>2017</td>\n",
       "      <td>Другой</td>\n",
       "      <td>15</td>\n",
       "    </tr>\n",
       "    <tr>\n",
       "      <th>10</th>\n",
       "      <td>5</td>\n",
       "      <td>5050000</td>\n",
       "      <td>39.60</td>\n",
       "      <td>2017-11-16</td>\n",
       "      <td>1</td>\n",
       "      <td>2.67</td>\n",
       "      <td>12.0</td>\n",
       "      <td>20.30</td>\n",
       "      <td>3</td>\n",
       "      <td>False</td>\n",
       "      <td>...</td>\n",
       "      <td>310.0</td>\n",
       "      <td>2.0</td>\n",
       "      <td>553.0</td>\n",
       "      <td>137</td>\n",
       "      <td>127525.3</td>\n",
       "      <td>3</td>\n",
       "      <td>11</td>\n",
       "      <td>2017</td>\n",
       "      <td>Другой</td>\n",
       "      <td>13</td>\n",
       "    </tr>\n",
       "    <tr>\n",
       "      <th>11</th>\n",
       "      <td>9</td>\n",
       "      <td>3300000</td>\n",
       "      <td>44.00</td>\n",
       "      <td>2018-08-27</td>\n",
       "      <td>2</td>\n",
       "      <td>2.65</td>\n",
       "      <td>5.0</td>\n",
       "      <td>31.00</td>\n",
       "      <td>4</td>\n",
       "      <td>False</td>\n",
       "      <td>...</td>\n",
       "      <td>0.0</td>\n",
       "      <td>0.0</td>\n",
       "      <td>0.0</td>\n",
       "      <td>7</td>\n",
       "      <td>75000.0</td>\n",
       "      <td>0</td>\n",
       "      <td>8</td>\n",
       "      <td>2018</td>\n",
       "      <td>Другой</td>\n",
       "      <td>51</td>\n",
       "    </tr>\n",
       "  </tbody>\n",
       "</table>\n",
       "<p>10 rows × 28 columns</p>\n",
       "</div>"
      ],
      "text/plain": [
       "    total_images  last_price  total_area first_day_exposition  rooms  \\\n",
       "1              7     3350000       40.40           2018-12-04      1   \n",
       "2             10     5196000       56.00           2015-08-20      2   \n",
       "3              0    64900000      159.00           2015-07-24      3   \n",
       "4              2    10000000      100.00           2018-06-19      2   \n",
       "5             10     2890000       30.40           2018-09-10      1   \n",
       "6              6     3700000       37.30           2017-11-02      1   \n",
       "8             20     2900000       33.16           2018-05-23      1   \n",
       "9             18     5400000       61.00           2017-02-26      3   \n",
       "10             5     5050000       39.60           2017-11-16      1   \n",
       "11             9     3300000       44.00           2018-08-27      2   \n",
       "\n",
       "    ceiling_height  floors_total  living_area  floor  is_apartment  ...  \\\n",
       "1             2.65          11.0        18.60      1         False  ...   \n",
       "2             2.65           5.0        34.30      4         False  ...   \n",
       "3             2.65          14.0          NaN      9         False  ...   \n",
       "4             3.03          14.0        32.00     13         False  ...   \n",
       "5             2.65          12.0        14.40      5         False  ...   \n",
       "6             2.65          26.0        10.60      6         False  ...   \n",
       "8             2.65          27.0        15.43     26         False  ...   \n",
       "9             2.50           9.0        43.60      7         False  ...   \n",
       "10            2.67          12.0        20.30      3         False  ...   \n",
       "11            2.65           5.0        31.00      4         False  ...   \n",
       "\n",
       "    parks_nearest  ponds_around_3000  ponds_nearest  days_exposition  \\\n",
       "1             0.0                0.0            0.0               81   \n",
       "2            90.0                2.0          574.0              558   \n",
       "3            84.0                3.0          234.0              424   \n",
       "4           112.0                1.0           48.0              121   \n",
       "5             0.0                0.0            0.0               55   \n",
       "6             0.0                0.0            0.0              155   \n",
       "8             0.0                0.0            0.0              189   \n",
       "9             0.0                0.0            0.0              289   \n",
       "10          310.0                2.0          553.0              137   \n",
       "11            0.0                0.0            0.0                7   \n",
       "\n",
       "   one_meter_price  day_of_week  month_of_publication  year_of_publication  \\\n",
       "1          82920.8            1                    12                 2018   \n",
       "2          92785.7            3                     8                 2015   \n",
       "3         408176.1            4                     7                 2015   \n",
       "4         100000.0            1                     6                 2018   \n",
       "5          95065.8            0                     9                 2018   \n",
       "6          99195.7            3                    11                 2017   \n",
       "8          87454.8            2                     5                 2018   \n",
       "9          88524.6            6                     2                 2017   \n",
       "10        127525.3            3                    11                 2017   \n",
       "11         75000.0            0                     8                 2018   \n",
       "\n",
       "    floor_type  center_distance_km  \n",
       "1       Первый                  18  \n",
       "2       Другой                  13  \n",
       "3       Другой                   6  \n",
       "4       Другой                   8  \n",
       "5       Другой                   0  \n",
       "6       Другой                  19  \n",
       "8       Другой                   0  \n",
       "9       Другой                  15  \n",
       "10      Другой                  13  \n",
       "11      Другой                  51  \n",
       "\n",
       "[10 rows x 28 columns]"
      ]
     },
     "execution_count": 275,
     "metadata": {},
     "output_type": "execute_result"
    }
   ],
   "source": [
    "data.head(10)"
   ]
  },
  {
   "cell_type": "markdown",
   "metadata": {},
   "source": [
    "### Проведите исследовательский анализ данных"
   ]
  },
  {
   "cell_type": "markdown",
   "metadata": {},
   "source": [
    "**1. Изучим параметры объектов с помощью гистограмм**"
   ]
  },
  {
   "cell_type": "markdown",
   "metadata": {},
   "source": [
    "* Общая площадь (total_area)"
   ]
  },
  {
   "cell_type": "code",
   "execution_count": 276,
   "metadata": {
    "scrolled": true
   },
   "outputs": [
    {
     "data": {
      "image/png": "[encoded data removed]",
      "text/plain": [
       "<Figure size 432x288 with 1 Axes>"
      ]
     },
     "metadata": {
      "needs_background": "light"
     },
     "output_type": "display_data"
    }
   ],
   "source": [
    "plt.hist(data['total_area'], bins=30, range=(12,300))\n",
    "plt.title('Общая площадь')\n",
    "plt.xlabel('Квадратные метры')\n",
    "plt.ylabel('Количество квартир')\n",
    "plt.show()"
   ]
  },
  {
   "cell_type": "code",
   "execution_count": 277,
   "metadata": {},
   "outputs": [
    {
     "name": "stdout",
     "output_type": "stream",
     "text": [
      "Наибольшие по площади варианты:\n",
      "8038     300.0\n",
      "23005    297.5\n",
      "10181    295.0\n",
      "15017    293.6\n",
      "16915    292.2\n",
      "22345    290.0\n",
      "4536     290.0\n",
      "18891    290.0\n",
      "22238    287.5\n",
      "11319    284.0\n",
      "Name: total_area, dtype: float64\n"
     ]
    }
   ],
   "source": [
    "print('Наибольшие по площади варианты:')\n",
    "print(data['total_area'].sort_values(ascending=False).head(10))"
   ]
  },
  {
   "cell_type": "markdown",
   "metadata": {},
   "source": [
    "Вывод: в подбоке по большей части содержатся объявления о продаже квартир общей площадью около 40 - 100 кадратных метров. Также имеется несколько квартир большой площади."
   ]
  },
  {
   "cell_type": "markdown",
   "metadata": {},
   "source": [
    "* Жилая площадь (living_area)"
   ]
  },
  {
   "cell_type": "code",
   "execution_count": 278,
   "metadata": {
    "scrolled": true
   },
   "outputs": [
    {
     "data": {
      "image/png": "[encoded data removed]",
      "text/plain": [
       "<Figure size 432x288 with 1 Axes>"
      ]
     },
     "metadata": {
      "needs_background": "light"
     },
     "output_type": "display_data"
    }
   ],
   "source": [
    "plt.hist(data['living_area'], bins=50, range=(12,150))\n",
    "plt.title('Жилая площадь')\n",
    "plt.xlabel('Квадратные метры')\n",
    "plt.ylabel('Количество квартир')\n",
    "plt.show()"
   ]
  },
  {
   "cell_type": "code",
   "execution_count": 279,
   "metadata": {},
   "outputs": [
    {
     "name": "stdout",
     "output_type": "stream",
     "text": [
      "Наибольшие по жилой площади варианты:\n",
      "16915    225.9\n",
      "21685    211.0\n",
      "10246    200.0\n",
      "6728     195.0\n",
      "4199     193.5\n",
      "7694     193.0\n",
      "18891    189.4\n",
      "8742     184.9\n",
      "22238    183.7\n",
      "23005    181.8\n",
      "Name: living_area, dtype: float64\n"
     ]
    }
   ],
   "source": [
    "print('Наибольшие по жилой площади варианты:')\n",
    "print(data['living_area'].sort_values(ascending=False).head(10))"
   ]
  },
  {
   "cell_type": "markdown",
   "metadata": {},
   "source": [
    "Вывод: в подборке в основном присутствуют квартиры с жилой прощадью от 17 до 70 квадратных метров."
   ]
  },
  {
   "cell_type": "markdown",
   "metadata": {},
   "source": [
    "* Площадь кухни (kitchen_area)"
   ]
  },
  {
   "cell_type": "code",
   "execution_count": 280,
   "metadata": {
    "scrolled": true
   },
   "outputs": [
    {
     "data": {
      "image/png": "[encoded data removed]",
      "text/plain": [
       "<Figure size 432x288 with 1 Axes>"
      ]
     },
     "metadata": {
      "needs_background": "light"
     },
     "output_type": "display_data"
    }
   ],
   "source": [
    "plt.hist(data['kitchen_area'], bins=10, range=(5,20))\n",
    "plt.title('Площадь кухни')\n",
    "plt.xlabel('Квадратные метры')\n",
    "plt.ylabel('Количество квартир')\n",
    "plt.show()"
   ]
  },
  {
   "cell_type": "code",
   "execution_count": 281,
   "metadata": {
    "scrolled": true
   },
   "outputs": [
    {
     "name": "stdout",
     "output_type": "stream",
     "text": [
      "Наибольшие по площади кухни варианты:\n",
      "511      50.0\n",
      "656      50.0\n",
      "5135     50.0\n",
      "2356     50.0\n",
      "10001    50.0\n",
      "51       50.0\n",
      "20284    48.3\n",
      "11747    48.0\n",
      "3965     48.0\n",
      "6682     46.8\n",
      "Name: kitchen_area, dtype: float64\n"
     ]
    }
   ],
   "source": [
    "print('Наибольшие по площади кухни варианты:')\n",
    "print(data['kitchen_area'].sort_values(ascending=False).head(10))"
   ]
  },
  {
   "cell_type": "markdown",
   "metadata": {},
   "source": [
    "Вывод: большинство квартир из выбоки имеют кухни площадью от 5 до 15 метров, но встречаются также и варианты с большей площадью."
   ]
  },
  {
   "cell_type": "markdown",
   "metadata": {},
   "source": [
    "* Цена объекта (last_price)"
   ]
  },
  {
   "cell_type": "code",
   "execution_count": 282,
   "metadata": {
    "scrolled": false
   },
   "outputs": [
    {
     "data": {
      "image/png": "[encoded data removed]",
      "text/plain": [
       "<Figure size 432x288 with 1 Axes>"
      ]
     },
     "metadata": {
      "needs_background": "light"
     },
     "output_type": "display_data"
    }
   ],
   "source": [
    "plt.hist(data['last_price'], bins=50, range=(0, 9000000))\n",
    "plt.title('Цена объекта')\n",
    "plt.xlabel('Цена объекта')\n",
    "plt.ylabel('Количество квартир')\n",
    "plt.show()"
   ]
  },
  {
   "cell_type": "code",
   "execution_count": 283,
   "metadata": {
    "scrolled": true
   },
   "outputs": [
    {
     "name": "stdout",
     "output_type": "stream",
     "text": [
      "Наиболее дорогие варианты:\n",
      "16590    98000000\n",
      "11329    95000000\n",
      "509      90000000\n",
      "5534     87000000\n",
      "10362    83820000\n",
      "6462     82000000\n",
      "6460     82000000\n",
      "22804    81960000\n",
      "8742     80000000\n",
      "11560    79339000\n",
      "Name: last_price, dtype: int64\n"
     ]
    }
   ],
   "source": [
    "print('Наиболее дорогие варианты:')\n",
    "print(data['last_price'].sort_values(ascending=False).head(10))"
   ]
  },
  {
   "cell_type": "markdown",
   "metadata": {},
   "source": [
    "Вывод: большая часть квартир находится в ценовом диапозоне около 4х миллионов"
   ]
  },
  {
   "cell_type": "markdown",
   "metadata": {},
   "source": [
    "* Количество комнат (rooms)"
   ]
  },
  {
   "cell_type": "code",
   "execution_count": 284,
   "metadata": {
    "scrolled": true
   },
   "outputs": [
    {
     "data": {
      "image/png": "[encoded data removed]",
      "text/plain": [
       "<Figure size 432x360 with 1 Axes>"
      ]
     },
     "metadata": {
      "needs_background": "light"
     },
     "output_type": "display_data"
    }
   ],
   "source": [
    "data.plot(kind='hist',y='rooms',title='Количество комнат',grid=True, bins=50, figsize=(6,5))\n",
    "plt.xlabel('Количество комнат')\n",
    "plt.ylabel('Количество предложений')\n",
    "plt.show()"
   ]
  },
  {
   "cell_type": "code",
   "execution_count": 285,
   "metadata": {},
   "outputs": [
    {
     "name": "stdout",
     "output_type": "stream",
     "text": [
      "Варианты с наибольшим количеством комнат:\n",
      "18848    16\n",
      "20829    14\n",
      "9688     11\n",
      "18119    10\n",
      "18891    10\n",
      "8860      9\n",
      "16915     9\n",
      "4435      8\n",
      "18945     8\n",
      "17203     8\n",
      "Name: rooms, dtype: int64\n"
     ]
    }
   ],
   "source": [
    "print('Варианты с наибольшим количеством комнат:')\n",
    "print(data['rooms'].sort_values(ascending=False).head(10))"
   ]
  },
  {
   "cell_type": "markdown",
   "metadata": {},
   "source": [
    "Вывод: в выборке больше всего предложений 1-3х комнатных квартир"
   ]
  },
  {
   "cell_type": "markdown",
   "metadata": {},
   "source": [
    "* Высота потолков (ceiling_height)"
   ]
  },
  {
   "cell_type": "code",
   "execution_count": 286,
   "metadata": {
    "scrolled": false
   },
   "outputs": [
    {
     "data": {
      "image/png": "[encoded data removed]",
      "text/plain": [
       "<Figure size 432x288 with 1 Axes>"
      ]
     },
     "metadata": {
      "needs_background": "light"
     },
     "output_type": "display_data"
    }
   ],
   "source": [
    "plt.hist(data['ceiling_height'], bins=10, range=(2, 4))\n",
    "plt.title('Высота потолков')\n",
    "plt.xlabel('Высота потолков')\n",
    "plt.ylabel('Количество квартир')\n",
    "plt.show()"
   ]
  },
  {
   "cell_type": "code",
   "execution_count": 287,
   "metadata": {},
   "outputs": [
    {
     "name": "stdout",
     "output_type": "stream",
     "text": [
      "Варианты с наиболее высокими потолками:\n",
      "5863     8.3\n",
      "3474     8.0\n",
      "15743    8.0\n",
      "17442    8.0\n",
      "21227    5.8\n",
      "12628    5.3\n",
      "464      5.2\n",
      "1053     5.0\n",
      "2802     4.8\n",
      "19142    4.7\n",
      "Name: ceiling_height, dtype: float64\n"
     ]
    }
   ],
   "source": [
    "print('Варианты с наиболее высокими потолками:')\n",
    "print(data['ceiling_height'].sort_values(ascending=False).head(10))"
   ]
  },
  {
   "cell_type": "markdown",
   "metadata": {},
   "source": [
    "Вывод: высота потолков квартир из выборки в основном составляет 2.6 - 2.75 метра, но присутствуют также варианты с высотой больше 5ти метров (возможно двухуровневые апартаменты)."
   ]
  },
  {
   "cell_type": "markdown",
   "metadata": {},
   "source": [
    "* Этаж квартиры (floor)"
   ]
  },
  {
   "cell_type": "code",
   "execution_count": 288,
   "metadata": {
    "scrolled": true
   },
   "outputs": [
    {
     "data": {
      "image/png": "[encoded data removed]",
      "text/plain": [
       "<Figure size 432x288 with 1 Axes>"
      ]
     },
     "metadata": {
      "needs_background": "light"
     },
     "output_type": "display_data"
    }
   ],
   "source": [
    "plt.hist(data['floor'], bins=27, range=(2, 10))\n",
    "plt.title('Этаж квартиры')\n",
    "plt.xlabel('Этаж квартиры')\n",
    "plt.ylabel('Количество квартир')\n",
    "plt.show()"
   ]
  },
  {
   "cell_type": "code",
   "execution_count": 289,
   "metadata": {
    "scrolled": true
   },
   "outputs": [
    {
     "name": "stdout",
     "output_type": "stream",
     "text": [
      "Варианты с наиболее высоким расположением квартиры:\n",
      "16644    27\n",
      "13276    27\n",
      "2629     27\n",
      "6157     27\n",
      "4091     27\n",
      "113      27\n",
      "23292    27\n",
      "7711     27\n",
      "23428    26\n",
      "15053    26\n",
      "Name: floor, dtype: int64\n"
     ]
    }
   ],
   "source": [
    "print('Варианты с наиболее высоким расположением квартиры:')\n",
    "print(data['floor'].sort_values(ascending=False).head(10))"
   ]
  },
  {
   "cell_type": "markdown",
   "metadata": {},
   "source": [
    "Вывод: большая часть продаваемых квартир находися на этажах со второго по пятый, но также есть варианты на постедних этажах высотных зданий."
   ]
  },
  {
   "cell_type": "markdown",
   "metadata": {},
   "source": [
    "* Тип этажа квартиры(floor_type)"
   ]
  },
  {
   "cell_type": "code",
   "execution_count": 326,
   "metadata": {
    "scrolled": true
   },
   "outputs": [
    {
     "data": {
      "image/png": "[encoded data removed]",
      "text/plain": [
       "<Figure size 432x288 with 1 Axes>"
      ]
     },
     "metadata": {
      "needs_background": "light"
     },
     "output_type": "display_data"
    }
   ],
   "source": [
    "data.groupby(by = 'floor_type')['floor_type'].count().plot(kind='bar', ylabel = 'Количество квартир');"
   ]
  },
  {
   "cell_type": "markdown",
   "metadata": {},
   "source": [
    "Вывод: основная часть квартир находится на этажах, оличных от первого и последнего."
   ]
  },
  {
   "cell_type": "markdown",
   "metadata": {},
   "source": [
    "* Общее количество этажей в доме(floors_total)"
   ]
  },
  {
   "cell_type": "code",
   "execution_count": 291,
   "metadata": {
    "scrolled": false
   },
   "outputs": [
    {
     "data": {
      "image/png": "[encoded data removed]",
      "text/plain": [
       "<Figure size 432x288 with 1 Axes>"
      ]
     },
     "metadata": {
      "needs_background": "light"
     },
     "output_type": "display_data"
    }
   ],
   "source": [
    "plt.hist(data['floors_total'], bins=10, range=(1, 27))\n",
    "plt.title('Общее количество этажей в доме')\n",
    "plt.xlabel('Этажность')\n",
    "plt.ylabel('Количество квартир')\n",
    "plt.show()"
   ]
  },
  {
   "cell_type": "markdown",
   "metadata": {},
   "source": [
    "Вывод: большая части жилой недвижимости в выбоке располагается в пятиэтажных и десятиэтажных домах."
   ]
  },
  {
   "cell_type": "markdown",
   "metadata": {},
   "source": [
    "* Расстояние до центра города в метрах (city_centers_nearest)"
   ]
  },
  {
   "cell_type": "code",
   "execution_count": 292,
   "metadata": {
    "scrolled": false
   },
   "outputs": [
    {
     "data": {
      "image/png": "[encoded data removed]",
      "text/plain": [
       "<Figure size 432x288 with 1 Axes>"
      ]
     },
     "metadata": {
      "needs_background": "light"
     },
     "output_type": "display_data"
    }
   ],
   "source": [
    "plt.hist(data['city_centers_nearest'], bins=10, range=(1, 40000))\n",
    "plt.title('Расстояние до центра города в метрах')\n",
    "plt.xlabel('Расстояние до центра города в метрах')\n",
    "plt.ylabel('Количество квартир')\n",
    "plt.show()"
   ]
  },
  {
   "cell_type": "markdown",
   "metadata": {},
   "source": [
    "Вывод: В основном продаваемые объекты находятся на расстоянии от 10 до 15ти километров от центра города."
   ]
  },
  {
   "cell_type": "markdown",
   "metadata": {},
   "source": [
    "* Расстояние до ближайшего аэропорта (airports_nearest)"
   ]
  },
  {
   "cell_type": "code",
   "execution_count": 293,
   "metadata": {
    "scrolled": true
   },
   "outputs": [
    {
     "data": {
      "image/png": "[encoded data removed]",
      "text/plain": [
       "<Figure size 432x288 with 1 Axes>"
      ]
     },
     "metadata": {
      "needs_background": "light"
     },
     "output_type": "display_data"
    }
   ],
   "source": [
    "plt.hist(data['airports_nearest'], bins=10, range=(1, 85000))\n",
    "plt.title('Расстояние до ближайшего аэропорта')\n",
    "plt.xlabel('Расстояние до ближайшего аэропорта в метрах')\n",
    "plt.ylabel('Количество квартир')\n",
    "plt.show()"
   ]
  },
  {
   "cell_type": "markdown",
   "metadata": {},
   "source": [
    "Вывод: большая часть квартир находится на расстоянии 20 километров от аэропорта."
   ]
  },
  {
   "cell_type": "markdown",
   "metadata": {},
   "source": [
    "* Расстояние до ближайшего парка (parks_nearest)"
   ]
  },
  {
   "cell_type": "code",
   "execution_count": 294,
   "metadata": {
    "scrolled": false
   },
   "outputs": [
    {
     "data": {
      "image/png": "[encoded data removed]",
      "text/plain": [
       "<Figure size 432x288 with 1 Axes>"
      ]
     },
     "metadata": {
      "needs_background": "light"
     },
     "output_type": "display_data"
    }
   ],
   "source": [
    "plt.hist(data['parks_nearest'], bins=10, range=(1, 3190))\n",
    "plt.title('Расстояние до ближайшего парка')\n",
    "plt.xlabel('Расстояние до ближайшего парка в метрах')\n",
    "plt.ylabel('Количество квартир')\n",
    "plt.show()"
   ]
  },
  {
   "cell_type": "markdown",
   "metadata": {},
   "source": [
    "Вывод: большинство квартир находятся в 400 - 500 метрах от парка "
   ]
  },
  {
   "cell_type": "markdown",
   "metadata": {},
   "source": [
    "* День публикации (day_of_week)"
   ]
  },
  {
   "cell_type": "code",
   "execution_count": 327,
   "metadata": {
    "scrolled": false
   },
   "outputs": [
    {
     "data": {
      "image/png": "[encoded data removed]",
      "text/plain": [
       "<Figure size 432x288 with 1 Axes>"
      ]
     },
     "metadata": {
      "needs_background": "light"
     },
     "output_type": "display_data"
    }
   ],
   "source": [
    "data.groupby(by = 'day_of_week')['day_of_week'].count().plot(kind='bar', ylabel = 'День публикации');"
   ]
  },
  {
   "cell_type": "markdown",
   "metadata": {},
   "source": [
    "Вывод: в будние дни происходит основная активность по публикации объявлений. В четверг - пиковая."
   ]
  },
  {
   "cell_type": "markdown",
   "metadata": {},
   "source": [
    "* Месяц публикации (month_of_publication)"
   ]
  },
  {
   "cell_type": "code",
   "execution_count": 328,
   "metadata": {},
   "outputs": [
    {
     "data": {
      "image/png": "[encoded data removed]",
      "text/plain": [
       "<Figure size 432x288 with 1 Axes>"
      ]
     },
     "metadata": {
      "needs_background": "light"
     },
     "output_type": "display_data"
    }
   ],
   "source": [
    "data.groupby(by = 'month_of_publication')['month_of_publication'].count().plot(kind='bar', ylabel = 'Месяц публикации');"
   ]
  },
  {
   "cell_type": "markdown",
   "metadata": {},
   "source": [
    "Вывод: в феврале и ноябре наблюдается больше всего публикаций объявлений, затем в марте и октябре. Наименьшая активность по публикации была в мае. "
   ]
  },
  {
   "cell_type": "markdown",
   "metadata": {},
   "source": [
    "Наиболее типичное объявление содержит 2х комнатную квартиру, с площадью около 50 квадратных метров, стоимостью около 5ти миллионов, с кухней от 8 до 10 метров, недалеко от парка, но удаленно от аэропорта."
   ]
  },
  {
   "cell_type": "markdown",
   "metadata": {},
   "source": [
    "**2. Изучение скорости продажи квартиры**"
   ]
  },
  {
   "cell_type": "markdown",
   "metadata": {},
   "source": [
    "* Посторим гистограмму по столбцу days_exposition"
   ]
  },
  {
   "cell_type": "code",
   "execution_count": 297,
   "metadata": {
    "scrolled": true
   },
   "outputs": [
    {
     "data": {
      "image/png": "[encoded data removed]",
      "text/plain": [
       "<Figure size 720x360 with 1 Axes>"
      ]
     },
     "metadata": {
      "needs_background": "light"
     },
     "output_type": "display_data"
    }
   ],
   "source": [
    "data.plot(kind='hist',y='days_exposition',title='Длительность размещения объявления', bins=100, figsize=(10,5))\n",
    "plt.xlabel('Дни')\n",
    "plt.ylabel('Количество объявлений')\n",
    "plt.show()"
   ]
  },
  {
   "cell_type": "markdown",
   "metadata": {},
   "source": [
    "* Вычислим среднее и медианное значения"
   ]
  },
  {
   "cell_type": "code",
   "execution_count": 298,
   "metadata": {
    "scrolled": true
   },
   "outputs": [
    {
     "data": {
      "text/plain": [
       "mean      179.731861\n",
       "median     95.000000\n",
       "Name: days_exposition, dtype: float64"
      ]
     },
     "execution_count": 298,
     "metadata": {},
     "output_type": "execute_result"
    }
   ],
   "source": [
    "data['days_exposition'].agg(['mean','median'])"
   ]
  },
  {
   "cell_type": "markdown",
   "metadata": {},
   "source": [
    "* Выявим быстрые и необычно долгие продажи"
   ]
  },
  {
   "cell_type": "code",
   "execution_count": 331,
   "metadata": {
    "scrolled": true
   },
   "outputs": [
    {
     "data": {
      "image/png": "[encoded data removed]",
      "text/plain": [
       "<Figure size 432x288 with 1 Axes>"
      ]
     },
     "metadata": {
      "needs_background": "light"
     },
     "output_type": "display_data"
    }
   ],
   "source": [
    "data.hist('days_exposition', bins=100, range = (0,100));"
   ]
  },
  {
   "cell_type": "code",
   "execution_count": 300,
   "metadata": {
    "scrolled": true
   },
   "outputs": [
    {
     "data": {
      "text/plain": [
       "count    20370.000000\n",
       "mean       179.731861\n",
       "std        217.360004\n",
       "min          1.000000\n",
       "25%         45.000000\n",
       "50%         95.000000\n",
       "75%        230.000000\n",
       "max       1458.000000\n",
       "Name: days_exposition, dtype: float64"
      ]
     },
     "execution_count": 300,
     "metadata": {},
     "output_type": "execute_result"
    }
   ],
   "source": [
    "data['days_exposition'].describe()"
   ]
  },
  {
   "cell_type": "code",
   "execution_count": 301,
   "metadata": {},
   "outputs": [
    {
     "data": {
      "text/plain": [
       "45      876\n",
       "60      538\n",
       "7       232\n",
       "30      208\n",
       "90      202\n",
       "       ... \n",
       "1080      1\n",
       "1064      1\n",
       "1032      1\n",
       "1016      1\n",
       "1391      1\n",
       "Name: days_exposition, Length: 1130, dtype: int64"
      ]
     },
     "execution_count": 301,
     "metadata": {},
     "output_type": "execute_result"
    }
   ],
   "source": [
    "data['days_exposition'].value_counts()"
   ]
  },
  {
   "cell_type": "markdown",
   "metadata": {},
   "source": [
    "Вывод: средний срок размещения объявления до момента снятия с публикации составляет 180 дней, наиболее типичный срок - 95 дней.<br>\n",
    "Необычно быстро были произведены продажи за 45, 60, 7, 30 и 90 дней. <br>\n",
    "Необычно долгими можно считать продажи по объявлениям, находящимся в публикации более 230 дней."
   ]
  },
  {
   "cell_type": "markdown",
   "metadata": {},
   "source": [
    "**3. Рассмотрим факторы, которые больше всего влияют на общую (полную) стоимость объекта**"
   ]
  },
  {
   "cell_type": "markdown",
   "metadata": {},
   "source": [
    "* Зависимость стоимости от общей площади"
   ]
  },
  {
   "cell_type": "code",
   "execution_count": 302,
   "metadata": {},
   "outputs": [
    {
     "data": {
      "image/png": "[encoded data removed]",
      "text/plain": [
       "<Figure size 360x360 with 1 Axes>"
      ]
     },
     "metadata": {
      "needs_background": "light"
     },
     "output_type": "display_data"
    },
    {
     "name": "stdout",
     "output_type": "stream",
     "text": [
      "Корреляция цены и площади: \n",
      "\n",
      "            last_price  total_area\n",
      "last_price    1.000000    0.799255\n",
      "total_area    0.799255    1.000000 \n",
      "\n"
     ]
    }
   ],
   "source": [
    "(\n",
    "    data.pivot_table(index = 'total_area', values = 'last_price')\n",
    "    .plot(grid = True, style = 'o', figsize = (5, 5))\n",
    ")\n",
    "plt.show()\n",
    "print('Корреляция цены и площади:','\\n')\n",
    "print(data.pivot_table(index = 'floor', values = ['total_area', 'last_price']).corr(),'\\n')"
   ]
  },
  {
   "cell_type": "markdown",
   "metadata": {},
   "source": [
    "* Зависимость стоимости от жилой площади"
   ]
  },
  {
   "cell_type": "code",
   "execution_count": 303,
   "metadata": {
    "scrolled": false
   },
   "outputs": [
    {
     "data": {
      "image/png": "[encoded data removed]",
      "text/plain": [
       "<Figure size 360x360 with 1 Axes>"
      ]
     },
     "metadata": {
      "needs_background": "light"
     },
     "output_type": "display_data"
    },
    {
     "name": "stdout",
     "output_type": "stream",
     "text": [
      "Корреляция цены и жилой площади: \n",
      "\n",
      "             last_price  living_area\n",
      "last_price     1.000000     0.355179\n",
      "living_area    0.355179     1.000000 \n",
      "\n"
     ]
    }
   ],
   "source": [
    "(\n",
    "    data.pivot_table(index = 'living_area', values = 'last_price')\n",
    "    .plot(grid = True, style = 'o', figsize = (5, 5))\n",
    ")\n",
    "plt.show()\n",
    "print('Корреляция цены и жилой площади:','\\n')\n",
    "print(data.pivot_table(index = 'floor', values = ['living_area', 'last_price']).corr(),'\\n')"
   ]
  },
  {
   "cell_type": "markdown",
   "metadata": {},
   "source": [
    "* Зависимость стоимости от площади кухни"
   ]
  },
  {
   "cell_type": "code",
   "execution_count": 304,
   "metadata": {
    "scrolled": true
   },
   "outputs": [
    {
     "data": {
      "image/png": "[encoded data removed]",
      "text/plain": [
       "<Figure size 360x360 with 1 Axes>"
      ]
     },
     "metadata": {
      "needs_background": "light"
     },
     "output_type": "display_data"
    },
    {
     "name": "stdout",
     "output_type": "stream",
     "text": [
      "Корреляция цены и площади кухни: \n",
      "\n",
      "              kitchen_area  last_price\n",
      "kitchen_area      1.000000    0.344975\n",
      "last_price        0.344975    1.000000 \n",
      "\n"
     ]
    }
   ],
   "source": [
    "(\n",
    "    data.pivot_table(index = 'kitchen_area', values = 'last_price')\n",
    "    .plot(grid = True, style = 'o', figsize = (5, 5))\n",
    ")\n",
    "plt.show()\n",
    "print('Корреляция цены и площади кухни:','\\n')\n",
    "print(data.pivot_table(index = 'floor', values = ['kitchen_area', 'last_price']).corr(),'\\n')"
   ]
  },
  {
   "cell_type": "markdown",
   "metadata": {},
   "source": [
    "* Зависимость стоимости от количества комнат"
   ]
  },
  {
   "cell_type": "code",
   "execution_count": 305,
   "metadata": {
    "scrolled": true
   },
   "outputs": [
    {
     "data": {
      "image/png": "[encoded data removed]",
      "text/plain": [
       "<Figure size 360x360 with 1 Axes>"
      ]
     },
     "metadata": {
      "needs_background": "light"
     },
     "output_type": "display_data"
    },
    {
     "name": "stdout",
     "output_type": "stream",
     "text": [
      "Корреляция цены и количества комнат: \n",
      "\n",
      "            last_price     rooms\n",
      "last_price    1.000000  0.182575\n",
      "rooms         0.182575  1.000000 \n",
      "\n"
     ]
    }
   ],
   "source": [
    "(\n",
    "    data.pivot_table(index = 'rooms', values = 'last_price')\n",
    "    .plot(grid = True, style = '-o', figsize = (5, 5))\n",
    ")\n",
    "plt.show()\n",
    "print('Корреляция цены и количества комнат:','\\n')\n",
    "print(data.pivot_table(index = 'floor', values = ['rooms', 'last_price']).corr(),'\\n')"
   ]
  },
  {
   "cell_type": "markdown",
   "metadata": {},
   "source": [
    "* Зависимость стоимости от этажа"
   ]
  },
  {
   "cell_type": "code",
   "execution_count": 306,
   "metadata": {
    "scrolled": true
   },
   "outputs": [
    {
     "data": {
      "image/png": "[encoded data removed]",
      "text/plain": [
       "<Figure size 360x360 with 1 Axes>"
      ]
     },
     "metadata": {
      "needs_background": "light"
     },
     "output_type": "display_data"
    },
    {
     "name": "stdout",
     "output_type": "stream",
     "text": [
      "Корреляция цены и этажа: \n",
      "\n",
      "            last_price\n",
      "last_price         1.0 \n",
      "\n"
     ]
    }
   ],
   "source": [
    "(\n",
    "    data.pivot_table(index = 'floor_type', values = 'last_price')\n",
    "    .plot(grid = True, style = '-o', figsize = (5, 5))\n",
    ")\n",
    "plt.show()\n",
    "print('Корреляция цены и этажа:','\\n')\n",
    "print(data.pivot_table(index = 'floor', values = ['floor_type', 'last_price']).corr(),'\\n')"
   ]
  },
  {
   "cell_type": "markdown",
   "metadata": {},
   "source": [
    "* Зависимость стоимости от даты размещения (день недели, месяц, год)"
   ]
  },
  {
   "cell_type": "code",
   "execution_count": 307,
   "metadata": {
    "scrolled": true
   },
   "outputs": [
    {
     "data": {
      "image/png": "[encoded data removed]",
      "text/plain": [
       "<Figure size 360x360 with 1 Axes>"
      ]
     },
     "metadata": {
      "needs_background": "light"
     },
     "output_type": "display_data"
    },
    {
     "name": "stdout",
     "output_type": "stream",
     "text": [
      "Корреляция цены и дня недели: \n",
      "\n",
      "             day_of_week  last_price\n",
      "day_of_week     1.000000   -0.138782\n",
      "last_price     -0.138782    1.000000 \n",
      "\n"
     ]
    }
   ],
   "source": [
    "(\n",
    "    data.pivot_table(index = 'day_of_week', values = 'last_price')\n",
    "    .plot(grid = True, style = '-o', figsize = (5, 5))\n",
    ")\n",
    "plt.show()\n",
    "print('Корреляция цены и дня недели:','\\n')\n",
    "print(data.pivot_table(index = 'floor', values = ['day_of_week', 'last_price']).corr(),'\\n')"
   ]
  },
  {
   "cell_type": "code",
   "execution_count": 308,
   "metadata": {
    "scrolled": true
   },
   "outputs": [
    {
     "data": {
      "image/png": "[encoded data removed]",
      "text/plain": [
       "<Figure size 360x360 with 1 Axes>"
      ]
     },
     "metadata": {
      "needs_background": "light"
     },
     "output_type": "display_data"
    },
    {
     "name": "stdout",
     "output_type": "stream",
     "text": [
      "Корреляция цены и месяца публикации: \n",
      "\n",
      "                      last_price  month_of_publication\n",
      "last_price              1.000000             -0.134452\n",
      "month_of_publication   -0.134452              1.000000 \n",
      "\n"
     ]
    }
   ],
   "source": [
    "(\n",
    "    data.pivot_table(index = 'month_of_publication', values = 'last_price')\n",
    "    .plot(grid = True, style = '-o', figsize = (5, 5))\n",
    ")\n",
    "plt.show()\n",
    "print('Корреляция цены и месяца публикации:','\\n')\n",
    "print(data.pivot_table(index = 'floor', values = ['month_of_publication', 'last_price']).corr(),'\\n')"
   ]
  },
  {
   "cell_type": "code",
   "execution_count": 309,
   "metadata": {
    "scrolled": false
   },
   "outputs": [
    {
     "data": {
      "image/png": "[encoded data removed]",
      "text/plain": [
       "<Figure size 360x360 with 1 Axes>"
      ]
     },
     "metadata": {
      "needs_background": "light"
     },
     "output_type": "display_data"
    },
    {
     "name": "stdout",
     "output_type": "stream",
     "text": [
      "Корреляция цены и года публикации: \n",
      "\n",
      "                     last_price  year_of_publication\n",
      "last_price             1.000000            -0.042303\n",
      "year_of_publication   -0.042303             1.000000 \n",
      "\n"
     ]
    }
   ],
   "source": [
    "(\n",
    "    data.pivot_table(index = 'year_of_publication', values = 'last_price')\n",
    "    .plot(grid = True, style = '-o', figsize = (5, 5))\n",
    ")\n",
    "plt.show()\n",
    "print('Корреляция цены и года публикации:','\\n')\n",
    "print(data.pivot_table(index = 'floor', values = ['year_of_publication', 'last_price']).corr(),'\\n')"
   ]
  },
  {
   "cell_type": "markdown",
   "metadata": {},
   "source": [
    "Вывод: наибольшее влияние на стоимость квартиры оказывает показатель площади квартиры.<br>\n",
    "Также имеется прямая, но не такая сильная зависимость между стомостью и размером жилой площади и кухни.<br>\n",
    "При покупке квартиры предпочтительными являются этажи, отличные от первого и последнего.<br>\n",
    "Анализ зависимости стоимости квартиры от дня и месяца публикации объявления выявил обратную зависимость между данными показателями. Но она также достаточно близка к нулю, что может свидетельствовать о нелинейной зависимости либо ее отсутствии.<br>\n",
    "По показателю год публикации наблюдается устойчивая обратная зависимость - с течением времени цены на жилье снижаются."
   ]
  },
  {
   "cell_type": "markdown",
   "metadata": {},
   "source": [
    "**4. Расчет средней цены одного метра**"
   ]
  },
  {
   "cell_type": "markdown",
   "metadata": {},
   "source": [
    "* В 10ти населенных пунктах с наибольшим количеством объявлений"
   ]
  },
  {
   "cell_type": "code",
   "execution_count": 310,
   "metadata": {
    "scrolled": true
   },
   "outputs": [
    {
     "name": "stdout",
     "output_type": "stream",
     "text": [
      "                   quantity_of_adv\n",
      "locality_name                     \n",
      "санкт-петербург              13509\n",
      "поселок мурино                 550\n",
      "поселок шушары                 408\n",
      "всеволожск                     339\n",
      "колпино                        307\n",
      "пушкин                         302\n",
      "поселок парголово              302\n",
      "деревня кудрово                299\n",
      "гатчина                        268\n",
      "выборг                         206\n"
     ]
    }
   ],
   "source": [
    "top_10 = data.pivot_table(index = 'locality_name', values = 'first_day_exposition', aggfunc = 'count').sort_values(by = 'first_day_exposition', ascending = False)\n",
    "top_10.columns = ['quantity_of_adv']\n",
    "print(top_10.head(10))"
   ]
  },
  {
   "cell_type": "code",
   "execution_count": 314,
   "metadata": {
    "scrolled": true
   },
   "outputs": [
    {
     "name": "stdout",
     "output_type": "stream",
     "text": [
      "                   quantity_of_adv  one_meter_price_mean\n",
      "locality_name                                           \n",
      "санкт-петербург              13509             102923.10\n",
      "пушкин                         302              97882.10\n",
      "деревня кудрово                299              91860.50\n",
      "поселок парголово              302              91387.40\n",
      "поселок мурино                 550              86059.25\n",
      "поселок шушары                 408              76220.40\n",
      "колпино                        307              73913.00\n",
      "гатчина                        268              67180.70\n",
      "всеволожск                     339              65789.50\n",
      "выборг                         206              57164.80\n"
     ]
    }
   ],
   "source": [
    "top_10['one_meter_price_mean'] = data.pivot_table(index = 'locality_name', \n",
    "                                                  values = 'one_meter_price', \n",
    "                                                  aggfunc = 'median')\n",
    "top_10 = top_10.iloc[:10]\n",
    "top_10.columns = ['quantity_of_adv', 'one_meter_price_mean']\n",
    "top_10.sort_values(by = ['one_meter_price_mean'], ascending = False, inplace = True)\n",
    "print(top_10)"
   ]
  },
  {
   "cell_type": "code",
   "execution_count": 316,
   "metadata": {},
   "outputs": [
    {
     "data": {
      "text/plain": [
       "<AxesSubplot:ylabel='locality_name'>"
      ]
     },
     "execution_count": 316,
     "metadata": {},
     "output_type": "execute_result"
    },
    {
     "data": {
      "image/png": "[encoded data removed]",
      "text/plain": [
       "<Figure size 432x288 with 1 Axes>"
      ]
     },
     "metadata": {
      "needs_background": "light"
     },
     "output_type": "display_data"
    }
   ],
   "source": [
    "top_10['one_meter_price_mean'].plot(kind='barh')"
   ]
  },
  {
   "cell_type": "markdown",
   "metadata": {},
   "source": [
    "Вывод: Наибольшее количество объявлений о продаже квартир публикуется по Санкт-Петербургу. Также квадратный мерт жилья в этом городе является самым дорогим. В Выборге и Всеволжске, напротив жилье самое дешевое из десяти наиболее поулярных мест."
   ]
  },
  {
   "cell_type": "markdown",
   "metadata": {},
   "source": [
    "**5. Вычисление средней цены каждого километра расстояния до центра в Санкт-Петербурге**"
   ]
  },
  {
   "cell_type": "code",
   "execution_count": 325,
   "metadata": {
    "scrolled": false
   },
   "outputs": [
    {
     "data": {
      "image/png": "[encoded data removed]",
      "text/plain": [
       "<Figure size 432x288 with 1 Axes>"
      ]
     },
     "metadata": {
      "needs_background": "light"
     },
     "output_type": "display_data"
    }
   ],
   "source": [
    "(\n",
    "    data[data['locality_name'] == 'санкт-петербург']\n",
    "    .pivot_table(\n",
    "        index = 'center_distance_km',\n",
    "        values = 'last_price',\n",
    "        aggfunc = 'mean')\n",
    "    .plot(kind = 'bar')\n",
    ");"
   ]
  },
  {
   "cell_type": "markdown",
   "metadata": {},
   "source": [
    "Вывод: наиболее дорогой является недвижимость, находящаяся на расстоянии до 7ми километров от центра. Далее цена резко снижается. Таже наблюдается резкое повышение стоимости на расстоянии 27 километров от города. Возможно это недвижимость особой категории."
   ]
  },
  {
   "cell_type": "markdown",
   "metadata": {},
   "source": [
    "### Общий вывод"
   ]
  },
  {
   "cell_type": "markdown",
   "metadata": {},
   "source": [
    "В данных изначально присутствуют значительное количество пропусков и аномально высокие и низкие значения, требующие исправления.<br>\n",
    "Также в данных наблюдается некорректный тип данных.<br>\n",
    "<br>\n",
    "В ходе изучения данных обнаружены следующие особенности:<br>\n",
    "* Наиболее типичное объявление содержит 1-2х комнатную квартиру, с площадью около 50 квадратных метров, стоимостью около 5ти миллионов, с кухней от 8 до 10 метров, недалеко от парка, но удаленно от аэропорта, в многоэтажном здании.\n",
    "* Средний срок размещения объявления до момента снятия с публикации составляет 180 дней, наиболее типичный срок - 95 дней.\n",
    "* Необычно быстро были произведены продажи за 45, 60, 7, 30 и 90 дней - стоит уточнить у разработчиков возможные причины выбросов на случай, если эти выбросы обусловлены автоматическими удалениями объявлений.\n",
    "* Необычно долгими можно считать продажи по объявлениям, находящимся в публикации более 230 дней.\n",
    "* Наибольшее влияние на стоимость квартиры оказывает показатель площади квартиры.\n",
    "* Квартиры, находящиеся на этаже, отличном от первого и последнего, ценятся больше.\n",
    "* С течением времени к 2019му году наблюдается снижение стоимости жилья.\n",
    "* Также наиболее дорогими по показателю стоимости квадратного метра считаются квартиры в Санкт-Петербурге, находящиеся в пределах 7 километров от центра.\n",
    "* Повышенной стоимостью также обладают квартиры в 27ми километрах от Санкт-Петербурга.\n",
    "\n"
   ]
  },
  {
   "cell_type": "markdown",
   "metadata": {},
   "source": [
    "**Чек-лист готовности проекта**\n",
    "\n",
    "Поставьте 'x' в выполненных пунктах. Далее нажмите Shift+Enter."
   ]
  },
  {
   "cell_type": "markdown",
   "metadata": {},
   "source": [
    "- [x]  открыт файл\n",
    "- [x]  файлы изучены (выведены первые строки, метод `info()`, гистограммы и т.д.)\n",
    "- [x]  определены пропущенные значения\n",
    "- [x]  заполнены пропущенные значения там, где это возможно\n",
    "- [x]  есть пояснение, какие пропущенные значения обнаружены\n",
    "- [x]  изменены типы данных\n",
    "- [x]  есть пояснение, в каких столбцах изменены типы и почему\n",
    "- [x]  устранены неявные дубликаты в названиях населённых пунктов\n",
    "- [x]  устранены редкие и выбивающиеся значения (аномалии) во всех столбцах\n",
    "- [x]  посчитано и добавлено в таблицу: цена одного квадратного метра\n",
    "- [x]  посчитано и добавлено в таблицу: день публикации объявления (0 - понедельник, 1 - вторник и т.д.)\n",
    "- [x]  посчитано и добавлено в таблицу: месяц публикации объявления\n",
    "- [x]  посчитано и добавлено в таблицу: год публикации объявления\n",
    "- [x]  посчитано и добавлено в таблицу: тип этажа квартиры (значения — «первый», «последний», «другой»)\n",
    "- [x]  посчитано и добавлено в таблицу: расстояние в км до центра города\n",
    "- [x]  изучены и описаны следующие параметры:\n",
    "        - общая площадь;\n",
    "        - жилая площадь;\n",
    "        - площадь кухни;\n",
    "        - цена объекта;\n",
    "        - количество комнат;\n",
    "        - высота потолков;\n",
    "        - этаж квартиры;\n",
    "        - тип этажа квартиры («первый», «последний», «другой»);\n",
    "        - общее количество этажей в доме;\n",
    "        - расстояние до центра города в метрах;\n",
    "        - расстояние до ближайшего аэропорта;\n",
    "        - расстояние до ближайшего парка;\n",
    "        - день и месяц публикации объявления\n",
    "- [x]  построены гистограммы для каждого параметра\n",
    "- [x]  выполнено задание: \"Изучите, как быстро продавались квартиры (столбец days_exposition). Этот параметр показывает, сколько дней «висело» каждое объявление.\n",
    "    - Постройте гистограмму.\n",
    "    - Посчитайте среднее и медиану.\n",
    "    - В ячейке типа markdown опишите, сколько обычно занимает продажа. Какие продажи можно считать быстрыми, а какие — необычно долгими?\"\n",
    "- [x]  выполнено задание: \"Какие факторы больше всего влияют на общую (полную) стоимость объекта? Постройте графики, которые покажут зависимость цены от указанных ниже параметров. Для подготовки данных перед визуализацией вы можете использовать сводные таблицы.\"\n",
    "        - общей площади;\n",
    "        - жилой площади;\n",
    "        - площади кухни;\n",
    "        - количество комнат;\n",
    "        - типа этажа, на котором расположена квартира (первый, последний, другой);\n",
    "        - даты размещения (день недели, месяц, год);\n",
    "- [x]  выполнено задание: \"Посчитайте среднюю цену одного квадратного метра в 10 населённых пунктах с наибольшим числом объявлений. Выделите населённые пункты с самой высокой и низкой стоимостью квадратного метра. Эти данные можно найти по имени в столбце `locality_name`.\"\n",
    "- [x]  выполнено задание: \"Ранее вы посчитали расстояние до центра в километрах. Теперь выделите квартиры в Санкт-Петербурге с помощью столбца `locality_name` и вычислите среднюю цену каждого километра. Опишите, как стоимость объектов зависит от расстояния до центра города.\"\n",
    "- [x]  в каждом этапе есть промежуточные выводы\n",
    "- [x]  есть общий вывод"
   ]
  }
 ],
 "metadata": {
  "ExecuteTimeLog": [
   {
    "duration": 1210,
    "start_time": "2023-01-25T13:15:32.936Z"
   },
   {
    "duration": 141,
    "start_time": "2023-01-25T13:16:29.681Z"
   },
   {
    "duration": 139,
    "start_time": "2023-01-25T13:18:03.798Z"
   },
   {
    "duration": 1637,
    "start_time": "2023-01-25T18:42:06.882Z"
   },
   {
    "duration": 105,
    "start_time": "2023-01-25T18:49:50.615Z"
   },
   {
    "duration": 25,
    "start_time": "2023-01-25T18:50:12.920Z"
   },
   {
    "duration": 23,
    "start_time": "2023-01-25T18:53:39.723Z"
   },
   {
    "duration": 112,
    "start_time": "2023-01-25T19:07:30.719Z"
   },
   {
    "duration": 27,
    "start_time": "2023-01-25T19:09:08.317Z"
   },
   {
    "duration": 32,
    "start_time": "2023-01-25T19:10:03.681Z"
   },
   {
    "duration": 5,
    "start_time": "2023-01-25T19:18:35.981Z"
   },
   {
    "duration": 74,
    "start_time": "2023-01-25T19:25:35.037Z"
   },
   {
    "duration": 67,
    "start_time": "2023-01-25T19:25:52.701Z"
   },
   {
    "duration": 9,
    "start_time": "2023-01-25T19:26:03.152Z"
   },
   {
    "duration": 5,
    "start_time": "2023-01-25T19:27:08.500Z"
   },
   {
    "duration": 20,
    "start_time": "2023-01-25T19:34:23.066Z"
   },
   {
    "duration": 18,
    "start_time": "2023-01-25T19:39:23.579Z"
   },
   {
    "duration": 18,
    "start_time": "2023-01-25T19:39:55.590Z"
   },
   {
    "duration": 3,
    "start_time": "2023-01-25T19:40:08.193Z"
   },
   {
    "duration": 103,
    "start_time": "2023-01-25T19:40:10.678Z"
   },
   {
    "duration": 25,
    "start_time": "2023-01-25T19:40:12.951Z"
   },
   {
    "duration": 34,
    "start_time": "2023-01-25T19:40:16.306Z"
   },
   {
    "duration": 17,
    "start_time": "2023-01-25T19:40:23.133Z"
   },
   {
    "duration": 18,
    "start_time": "2023-01-25T19:41:37.289Z"
   },
   {
    "duration": 24,
    "start_time": "2023-01-25T19:47:03.235Z"
   },
   {
    "duration": 112,
    "start_time": "2023-01-25T19:47:16.007Z"
   },
   {
    "duration": 17,
    "start_time": "2023-01-25T19:47:18.786Z"
   },
   {
    "duration": 25,
    "start_time": "2023-01-25T19:47:22.940Z"
   },
   {
    "duration": 20,
    "start_time": "2023-01-25T19:47:26.250Z"
   },
   {
    "duration": 43,
    "start_time": "2023-01-26T11:25:46.120Z"
   },
   {
    "duration": 831,
    "start_time": "2023-01-26T11:25:51.682Z"
   },
   {
    "duration": 762,
    "start_time": "2023-01-26T11:25:53.546Z"
   },
   {
    "duration": 25,
    "start_time": "2023-01-26T11:25:55.209Z"
   },
   {
    "duration": 27,
    "start_time": "2023-01-26T11:25:57.778Z"
   },
   {
    "duration": 19,
    "start_time": "2023-01-26T11:29:17.288Z"
   },
   {
    "duration": 108,
    "start_time": "2023-01-26T11:31:09.138Z"
   },
   {
    "duration": 98,
    "start_time": "2023-01-26T11:37:14.187Z"
   },
   {
    "duration": 14,
    "start_time": "2023-01-26T11:37:16.586Z"
   },
   {
    "duration": 78,
    "start_time": "2023-01-26T11:37:24.466Z"
   },
   {
    "duration": 100,
    "start_time": "2023-01-26T11:44:41.424Z"
   },
   {
    "duration": 22,
    "start_time": "2023-01-26T11:44:44.463Z"
   },
   {
    "duration": 77,
    "start_time": "2023-01-26T11:44:51.910Z"
   },
   {
    "duration": 37,
    "start_time": "2023-01-26T11:45:29.680Z"
   },
   {
    "duration": 8,
    "start_time": "2023-01-26T11:45:49.923Z"
   },
   {
    "duration": 8,
    "start_time": "2023-01-26T11:45:56.585Z"
   },
   {
    "duration": 106,
    "start_time": "2023-01-26T11:46:03.848Z"
   },
   {
    "duration": 14,
    "start_time": "2023-01-26T11:46:06.546Z"
   },
   {
    "duration": 2063,
    "start_time": "2023-01-26T12:01:29.337Z"
   },
   {
    "duration": 10,
    "start_time": "2023-01-26T12:08:50.717Z"
   },
   {
    "duration": 9,
    "start_time": "2023-01-26T12:15:04.197Z"
   },
   {
    "duration": 3,
    "start_time": "2023-01-26T12:54:14.660Z"
   },
   {
    "duration": 85,
    "start_time": "2023-01-26T12:54:16.300Z"
   },
   {
    "duration": 15,
    "start_time": "2023-01-26T12:54:17.869Z"
   },
   {
    "duration": 68,
    "start_time": "2023-01-26T12:54:20.613Z"
   },
   {
    "duration": 33,
    "start_time": "2023-01-26T12:54:23.943Z"
   },
   {
    "duration": 3,
    "start_time": "2023-01-26T12:54:28.197Z"
   },
   {
    "duration": 4,
    "start_time": "2023-01-26T12:54:32.156Z"
   },
   {
    "duration": 5,
    "start_time": "2023-01-26T12:54:34.924Z"
   },
   {
    "duration": 1909,
    "start_time": "2023-01-26T12:54:39.285Z"
   },
   {
    "duration": 16,
    "start_time": "2023-01-26T12:54:50.732Z"
   },
   {
    "duration": 6,
    "start_time": "2023-01-26T14:45:20.647Z"
   },
   {
    "duration": 4,
    "start_time": "2023-01-26T14:47:40.940Z"
   },
   {
    "duration": 5,
    "start_time": "2023-01-26T14:48:08.645Z"
   },
   {
    "duration": 12,
    "start_time": "2023-01-26T14:53:42.957Z"
   },
   {
    "duration": 9,
    "start_time": "2023-01-26T14:54:02.691Z"
   },
   {
    "duration": 5,
    "start_time": "2023-01-26T14:55:06.889Z"
   },
   {
    "duration": 9,
    "start_time": "2023-01-26T14:59:20.164Z"
   },
   {
    "duration": 747,
    "start_time": "2023-01-27T08:03:11.054Z"
   },
   {
    "duration": 157,
    "start_time": "2023-01-27T08:03:12.704Z"
   },
   {
    "duration": 21,
    "start_time": "2023-01-27T08:03:15.228Z"
   },
   {
    "duration": 79,
    "start_time": "2023-01-27T08:03:16.844Z"
   },
   {
    "duration": 34,
    "start_time": "2023-01-27T08:03:18.588Z"
   },
   {
    "duration": 4,
    "start_time": "2023-01-27T08:03:19.556Z"
   },
   {
    "duration": 5,
    "start_time": "2023-01-27T08:03:20.534Z"
   },
   {
    "duration": 4,
    "start_time": "2023-01-27T08:03:21.406Z"
   },
   {
    "duration": 2087,
    "start_time": "2023-01-27T08:03:22.268Z"
   },
   {
    "duration": 9,
    "start_time": "2023-01-27T08:03:25.676Z"
   },
   {
    "duration": 7,
    "start_time": "2023-01-27T08:03:27.963Z"
   },
   {
    "duration": 23,
    "start_time": "2023-01-27T08:06:36.028Z"
   },
   {
    "duration": 22,
    "start_time": "2023-01-27T08:07:40.889Z"
   },
   {
    "duration": 9,
    "start_time": "2023-01-27T08:17:10.211Z"
   },
   {
    "duration": 13,
    "start_time": "2023-01-27T08:17:38.004Z"
   },
   {
    "duration": 13,
    "start_time": "2023-01-27T08:21:53.753Z"
   },
   {
    "duration": 14,
    "start_time": "2023-01-27T08:23:15.748Z"
   },
   {
    "duration": 12,
    "start_time": "2023-01-27T08:23:23.875Z"
   },
   {
    "duration": 10,
    "start_time": "2023-01-27T08:23:39.531Z"
   },
   {
    "duration": 10,
    "start_time": "2023-01-27T08:23:51.035Z"
   },
   {
    "duration": 10,
    "start_time": "2023-01-27T08:24:29.205Z"
   },
   {
    "duration": 5,
    "start_time": "2023-01-27T08:25:50.957Z"
   },
   {
    "duration": 4,
    "start_time": "2023-01-27T08:26:13.844Z"
   },
   {
    "duration": 5,
    "start_time": "2023-01-27T08:29:20.658Z"
   },
   {
    "duration": 6,
    "start_time": "2023-01-27T08:31:06.206Z"
   },
   {
    "duration": 5,
    "start_time": "2023-01-27T08:44:33.680Z"
   },
   {
    "duration": 83,
    "start_time": "2023-01-27T08:57:24.056Z"
   },
   {
    "duration": 8,
    "start_time": "2023-01-27T08:57:30.705Z"
   },
   {
    "duration": 5,
    "start_time": "2023-01-27T08:58:04.261Z"
   },
   {
    "duration": 9,
    "start_time": "2023-01-27T09:02:48.056Z"
   },
   {
    "duration": 39,
    "start_time": "2023-01-27T09:02:54.576Z"
   },
   {
    "duration": 13,
    "start_time": "2023-01-27T09:04:10.372Z"
   },
   {
    "duration": 62,
    "start_time": "2023-01-27T09:04:15.781Z"
   },
   {
    "duration": 71,
    "start_time": "2023-01-27T09:08:51.625Z"
   },
   {
    "duration": 47,
    "start_time": "2023-01-27T09:09:19.470Z"
   },
   {
    "duration": 11,
    "start_time": "2023-01-27T09:09:29.660Z"
   },
   {
    "duration": 39,
    "start_time": "2023-01-27T09:09:37.859Z"
   },
   {
    "duration": 7,
    "start_time": "2023-01-27T09:16:12.376Z"
   },
   {
    "duration": 11,
    "start_time": "2023-01-27T09:16:22.827Z"
   },
   {
    "duration": 45,
    "start_time": "2023-01-27T09:17:42.729Z"
   },
   {
    "duration": 47,
    "start_time": "2023-01-27T09:26:56.953Z"
   },
   {
    "duration": 21,
    "start_time": "2023-01-27T09:27:06.774Z"
   },
   {
    "duration": 21,
    "start_time": "2023-01-27T09:27:24.041Z"
   },
   {
    "duration": 16,
    "start_time": "2023-01-27T09:28:42.570Z"
   },
   {
    "duration": 18,
    "start_time": "2023-01-27T09:29:03.763Z"
   },
   {
    "duration": 12,
    "start_time": "2023-01-27T09:29:56.271Z"
   },
   {
    "duration": 13,
    "start_time": "2023-01-27T09:31:26.317Z"
   },
   {
    "duration": 10,
    "start_time": "2023-01-27T12:18:03.568Z"
   },
   {
    "duration": 7,
    "start_time": "2023-01-27T12:21:04.153Z"
   },
   {
    "duration": 7,
    "start_time": "2023-01-27T12:22:08.170Z"
   },
   {
    "duration": 9,
    "start_time": "2023-01-27T12:22:32.322Z"
   },
   {
    "duration": 4,
    "start_time": "2023-01-27T12:30:06.161Z"
   },
   {
    "duration": 5,
    "start_time": "2023-01-27T12:30:43.391Z"
   },
   {
    "duration": 79,
    "start_time": "2023-01-27T12:32:44.426Z"
   },
   {
    "duration": 4,
    "start_time": "2023-01-27T12:33:15.681Z"
   },
   {
    "duration": 4,
    "start_time": "2023-01-27T12:37:56.717Z"
   },
   {
    "duration": 4,
    "start_time": "2023-01-27T12:40:34.555Z"
   },
   {
    "duration": 4,
    "start_time": "2023-01-27T12:40:35.556Z"
   },
   {
    "duration": 45,
    "start_time": "2023-01-27T12:41:35.455Z"
   },
   {
    "duration": 4,
    "start_time": "2023-01-27T12:41:35.859Z"
   },
   {
    "duration": 3,
    "start_time": "2023-01-27T12:41:41.890Z"
   },
   {
    "duration": 7,
    "start_time": "2023-01-27T12:48:22.881Z"
   },
   {
    "duration": 14,
    "start_time": "2023-01-27T12:48:41.235Z"
   },
   {
    "duration": 7,
    "start_time": "2023-01-27T12:50:49.281Z"
   },
   {
    "duration": 14,
    "start_time": "2023-01-27T12:50:51.121Z"
   },
   {
    "duration": 13,
    "start_time": "2023-01-27T13:29:53.954Z"
   },
   {
    "duration": 38,
    "start_time": "2023-01-27T13:46:11.618Z"
   },
   {
    "duration": 44,
    "start_time": "2023-01-27T13:46:17.065Z"
   },
   {
    "duration": 65,
    "start_time": "2023-01-27T13:46:23.728Z"
   },
   {
    "duration": 10,
    "start_time": "2023-01-27T13:49:43.752Z"
   },
   {
    "duration": 4,
    "start_time": "2023-01-27T13:50:04.200Z"
   },
   {
    "duration": 4,
    "start_time": "2023-01-27T13:50:17.062Z"
   },
   {
    "duration": 18,
    "start_time": "2023-01-27T13:53:55.773Z"
   },
   {
    "duration": 10,
    "start_time": "2023-01-27T13:59:59.078Z"
   },
   {
    "duration": 8,
    "start_time": "2023-01-27T14:01:24.482Z"
   },
   {
    "duration": 8,
    "start_time": "2023-01-27T14:01:35.281Z"
   },
   {
    "duration": 4,
    "start_time": "2023-01-27T14:01:51.512Z"
   },
   {
    "duration": 13,
    "start_time": "2023-01-27T14:06:18.632Z"
   },
   {
    "duration": 7,
    "start_time": "2023-01-27T14:34:49.140Z"
   },
   {
    "duration": 9,
    "start_time": "2023-01-27T14:35:20.914Z"
   },
   {
    "duration": 6,
    "start_time": "2023-01-27T14:35:30.834Z"
   },
   {
    "duration": 17,
    "start_time": "2023-01-27T14:41:18.389Z"
   },
   {
    "duration": 6,
    "start_time": "2023-01-27T14:41:40.772Z"
   },
   {
    "duration": 7,
    "start_time": "2023-01-27T14:42:37.089Z"
   },
   {
    "duration": 5,
    "start_time": "2023-01-27T14:47:38.125Z"
   },
   {
    "duration": 9,
    "start_time": "2023-01-27T14:48:40.419Z"
   },
   {
    "duration": 9,
    "start_time": "2023-01-27T14:51:02.132Z"
   },
   {
    "duration": 15,
    "start_time": "2023-01-27T14:51:42.442Z"
   },
   {
    "duration": 847,
    "start_time": "2023-01-28T17:53:15.493Z"
   },
   {
    "duration": 311,
    "start_time": "2023-01-28T17:53:16.343Z"
   },
   {
    "duration": 17,
    "start_time": "2023-01-28T17:53:17.051Z"
   },
   {
    "duration": 79,
    "start_time": "2023-01-28T17:53:18.263Z"
   },
   {
    "duration": 39,
    "start_time": "2023-01-28T17:53:19.617Z"
   },
   {
    "duration": 5,
    "start_time": "2023-01-28T17:53:21.318Z"
   },
   {
    "duration": 6,
    "start_time": "2023-01-28T17:53:22.506Z"
   },
   {
    "duration": 5,
    "start_time": "2023-01-28T17:53:23.838Z"
   },
   {
    "duration": 2076,
    "start_time": "2023-01-28T17:53:25.116Z"
   },
   {
    "duration": 10,
    "start_time": "2023-01-28T17:53:27.194Z"
   },
   {
    "duration": 10,
    "start_time": "2023-01-28T17:53:28.187Z"
   },
   {
    "duration": 12,
    "start_time": "2023-01-28T17:53:29.495Z"
   },
   {
    "duration": 4,
    "start_time": "2023-01-28T17:53:30.432Z"
   },
   {
    "duration": 5,
    "start_time": "2023-01-28T17:53:31.003Z"
   },
   {
    "duration": 3,
    "start_time": "2023-01-28T17:53:31.339Z"
   },
   {
    "duration": 6,
    "start_time": "2023-01-28T17:53:32.303Z"
   },
   {
    "duration": 6,
    "start_time": "2023-01-28T17:53:33.283Z"
   },
   {
    "duration": 3,
    "start_time": "2023-01-28T17:53:34.374Z"
   },
   {
    "duration": 9,
    "start_time": "2023-01-28T17:53:35.396Z"
   },
   {
    "duration": 10,
    "start_time": "2023-01-28T17:53:36.267Z"
   },
   {
    "duration": 16,
    "start_time": "2023-01-28T17:53:39.742Z"
   },
   {
    "duration": 17,
    "start_time": "2023-01-28T17:53:43.103Z"
   },
   {
    "duration": 6,
    "start_time": "2023-01-28T17:53:43.705Z"
   },
   {
    "duration": 7,
    "start_time": "2023-01-28T17:53:46.500Z"
   },
   {
    "duration": 5,
    "start_time": "2023-01-28T17:53:47.812Z"
   },
   {
    "duration": 8,
    "start_time": "2023-01-28T17:53:54.205Z"
   },
   {
    "duration": 17,
    "start_time": "2023-01-28T17:53:55.612Z"
   },
   {
    "duration": 13,
    "start_time": "2023-01-28T17:55:30.476Z"
   },
   {
    "duration": 13,
    "start_time": "2023-01-28T17:58:50.015Z"
   },
   {
    "duration": 17,
    "start_time": "2023-01-28T18:01:09.815Z"
   },
   {
    "duration": 74,
    "start_time": "2023-01-28T18:06:37.969Z"
   },
   {
    "duration": 7,
    "start_time": "2023-01-28T18:07:16.623Z"
   },
   {
    "duration": 42,
    "start_time": "2023-01-28T18:11:17.695Z"
   },
   {
    "duration": 7,
    "start_time": "2023-01-28T18:14:08.937Z"
   },
   {
    "duration": 5,
    "start_time": "2023-01-28T18:14:52.994Z"
   },
   {
    "duration": 9,
    "start_time": "2023-01-28T18:15:13.274Z"
   },
   {
    "duration": 5,
    "start_time": "2023-01-28T18:15:17.282Z"
   },
   {
    "duration": 10,
    "start_time": "2023-01-28T18:15:20.807Z"
   },
   {
    "duration": 18,
    "start_time": "2023-01-28T18:15:27.923Z"
   },
   {
    "duration": 12,
    "start_time": "2023-01-28T18:15:32.899Z"
   },
   {
    "duration": 17,
    "start_time": "2023-01-28T18:15:37.210Z"
   },
   {
    "duration": 6,
    "start_time": "2023-01-28T18:15:44.419Z"
   },
   {
    "duration": 5,
    "start_time": "2023-01-28T18:15:47.401Z"
   },
   {
    "duration": 2,
    "start_time": "2023-01-28T18:18:09.747Z"
   },
   {
    "duration": 93,
    "start_time": "2023-01-28T18:18:10.784Z"
   },
   {
    "duration": 14,
    "start_time": "2023-01-28T18:18:11.627Z"
   },
   {
    "duration": 73,
    "start_time": "2023-01-28T18:18:13.021Z"
   },
   {
    "duration": 32,
    "start_time": "2023-01-28T18:18:14.123Z"
   },
   {
    "duration": 6,
    "start_time": "2023-01-28T18:18:15.483Z"
   },
   {
    "duration": 4,
    "start_time": "2023-01-28T18:18:16.848Z"
   },
   {
    "duration": 5,
    "start_time": "2023-01-28T18:18:18.064Z"
   },
   {
    "duration": 2048,
    "start_time": "2023-01-28T18:18:19.637Z"
   },
   {
    "duration": 11,
    "start_time": "2023-01-28T18:18:23.959Z"
   },
   {
    "duration": 9,
    "start_time": "2023-01-28T18:18:26.220Z"
   },
   {
    "duration": 11,
    "start_time": "2023-01-28T18:18:28.416Z"
   },
   {
    "duration": 5,
    "start_time": "2023-01-28T18:18:29.959Z"
   },
   {
    "duration": 6,
    "start_time": "2023-01-28T18:18:30.505Z"
   },
   {
    "duration": 4,
    "start_time": "2023-01-28T18:18:31.015Z"
   },
   {
    "duration": 7,
    "start_time": "2023-01-28T18:18:32.385Z"
   },
   {
    "duration": 7,
    "start_time": "2023-01-28T18:18:35.039Z"
   },
   {
    "duration": 4,
    "start_time": "2023-01-28T18:18:37.313Z"
   },
   {
    "duration": 8,
    "start_time": "2023-01-28T18:18:38.742Z"
   },
   {
    "duration": 8,
    "start_time": "2023-01-28T18:18:39.559Z"
   },
   {
    "duration": 15,
    "start_time": "2023-01-28T18:18:42.675Z"
   },
   {
    "duration": 16,
    "start_time": "2023-01-28T18:18:44.672Z"
   },
   {
    "duration": 6,
    "start_time": "2023-01-28T18:18:45.413Z"
   },
   {
    "duration": 5,
    "start_time": "2023-01-28T18:18:48.612Z"
   },
   {
    "duration": 5,
    "start_time": "2023-01-28T18:18:50.332Z"
   },
   {
    "duration": 8,
    "start_time": "2023-01-28T18:18:52.340Z"
   },
   {
    "duration": 16,
    "start_time": "2023-01-28T18:18:54.868Z"
   },
   {
    "duration": 12,
    "start_time": "2023-01-28T18:18:58.023Z"
   },
   {
    "duration": 17,
    "start_time": "2023-01-28T18:18:59.353Z"
   },
   {
    "duration": 7,
    "start_time": "2023-01-28T18:19:01.523Z"
   },
   {
    "duration": 6,
    "start_time": "2023-01-28T18:19:02.928Z"
   },
   {
    "duration": 18,
    "start_time": "2023-01-28T18:22:41.153Z"
   },
   {
    "duration": 7,
    "start_time": "2023-01-28T18:22:44.888Z"
   },
   {
    "duration": 7,
    "start_time": "2023-01-28T18:22:48.258Z"
   },
   {
    "duration": 68,
    "start_time": "2023-01-28T18:31:08.702Z"
   },
   {
    "duration": 4,
    "start_time": "2023-01-28T18:51:54.270Z"
   },
   {
    "duration": 22,
    "start_time": "2023-01-28T18:52:17.120Z"
   },
   {
    "duration": 21,
    "start_time": "2023-01-28T18:54:54.678Z"
   },
   {
    "duration": 15,
    "start_time": "2023-01-28T18:56:43.597Z"
   },
   {
    "duration": 21,
    "start_time": "2023-01-28T18:57:44.163Z"
   },
   {
    "duration": 3,
    "start_time": "2023-01-28T19:20:29.362Z"
   },
   {
    "duration": 87,
    "start_time": "2023-01-28T19:20:30.380Z"
   },
   {
    "duration": 14,
    "start_time": "2023-01-28T19:20:31.000Z"
   },
   {
    "duration": 74,
    "start_time": "2023-01-28T19:20:31.884Z"
   },
   {
    "duration": 34,
    "start_time": "2023-01-28T19:20:32.722Z"
   },
   {
    "duration": 5,
    "start_time": "2023-01-28T19:20:33.250Z"
   },
   {
    "duration": 4,
    "start_time": "2023-01-28T19:20:33.884Z"
   },
   {
    "duration": 5,
    "start_time": "2023-01-28T19:20:34.494Z"
   },
   {
    "duration": 2168,
    "start_time": "2023-01-28T19:20:35.043Z"
   },
   {
    "duration": 10,
    "start_time": "2023-01-28T19:20:39.910Z"
   },
   {
    "duration": 13,
    "start_time": "2023-01-28T19:20:42.402Z"
   },
   {
    "duration": 11,
    "start_time": "2023-01-28T19:20:43.823Z"
   },
   {
    "duration": 4,
    "start_time": "2023-01-28T19:20:44.857Z"
   },
   {
    "duration": 4,
    "start_time": "2023-01-28T19:20:45.102Z"
   },
   {
    "duration": 4,
    "start_time": "2023-01-28T19:20:45.364Z"
   },
   {
    "duration": 6,
    "start_time": "2023-01-28T19:20:45.778Z"
   },
   {
    "duration": 6,
    "start_time": "2023-01-28T19:20:46.305Z"
   },
   {
    "duration": 5,
    "start_time": "2023-01-28T19:20:46.789Z"
   },
   {
    "duration": 9,
    "start_time": "2023-01-28T19:20:47.392Z"
   },
   {
    "duration": 10,
    "start_time": "2023-01-28T19:20:47.705Z"
   },
   {
    "duration": 14,
    "start_time": "2023-01-28T19:20:49.251Z"
   },
   {
    "duration": 18,
    "start_time": "2023-01-28T19:20:50.391Z"
   },
   {
    "duration": 6,
    "start_time": "2023-01-28T19:20:50.767Z"
   },
   {
    "duration": 5,
    "start_time": "2023-01-28T19:20:53.210Z"
   },
   {
    "duration": 7,
    "start_time": "2023-01-28T19:20:54.289Z"
   },
   {
    "duration": 9,
    "start_time": "2023-01-28T19:20:55.267Z"
   },
   {
    "duration": 18,
    "start_time": "2023-01-28T19:20:56.310Z"
   },
   {
    "duration": 12,
    "start_time": "2023-01-28T19:20:57.362Z"
   },
   {
    "duration": 21,
    "start_time": "2023-01-28T19:20:58.188Z"
   },
   {
    "duration": 7,
    "start_time": "2023-01-28T19:20:59.464Z"
   },
   {
    "duration": 6,
    "start_time": "2023-01-28T19:21:00.105Z"
   },
   {
    "duration": 67,
    "start_time": "2023-01-28T19:21:01.405Z"
   },
   {
    "duration": 21,
    "start_time": "2023-01-28T19:21:04.725Z"
   },
   {
    "duration": 21,
    "start_time": "2023-01-28T19:22:34.422Z"
   },
   {
    "duration": 63,
    "start_time": "2023-01-28T19:22:39.870Z"
   },
   {
    "duration": 13,
    "start_time": "2023-01-28T19:22:56.560Z"
   },
   {
    "duration": 12,
    "start_time": "2023-01-28T19:23:34.193Z"
   },
   {
    "duration": 7,
    "start_time": "2023-01-28T19:23:45.940Z"
   },
   {
    "duration": 67,
    "start_time": "2023-01-28T19:23:48.967Z"
   },
   {
    "duration": 13,
    "start_time": "2023-01-28T19:24:01.985Z"
   },
   {
    "duration": 3,
    "start_time": "2023-01-28T19:24:20.315Z"
   },
   {
    "duration": 89,
    "start_time": "2023-01-28T19:24:21.126Z"
   },
   {
    "duration": 15,
    "start_time": "2023-01-28T19:24:21.463Z"
   },
   {
    "duration": 78,
    "start_time": "2023-01-28T19:24:22.235Z"
   },
   {
    "duration": 35,
    "start_time": "2023-01-28T19:24:22.778Z"
   },
   {
    "duration": 4,
    "start_time": "2023-01-28T19:24:23.524Z"
   },
   {
    "duration": 4,
    "start_time": "2023-01-28T19:24:23.846Z"
   },
   {
    "duration": 5,
    "start_time": "2023-01-28T19:24:24.282Z"
   },
   {
    "duration": 2071,
    "start_time": "2023-01-28T19:24:24.662Z"
   },
   {
    "duration": 11,
    "start_time": "2023-01-28T19:24:26.738Z"
   },
   {
    "duration": 17,
    "start_time": "2023-01-28T19:24:26.752Z"
   },
   {
    "duration": 21,
    "start_time": "2023-01-28T19:24:26.771Z"
   },
   {
    "duration": 4,
    "start_time": "2023-01-28T19:24:27.245Z"
   },
   {
    "duration": 4,
    "start_time": "2023-01-28T19:24:27.529Z"
   },
   {
    "duration": 4,
    "start_time": "2023-01-28T19:24:27.818Z"
   },
   {
    "duration": 6,
    "start_time": "2023-01-28T19:24:28.281Z"
   },
   {
    "duration": 8,
    "start_time": "2023-01-28T19:24:28.808Z"
   },
   {
    "duration": 3,
    "start_time": "2023-01-28T19:24:29.310Z"
   },
   {
    "duration": 8,
    "start_time": "2023-01-28T19:24:29.983Z"
   },
   {
    "duration": 9,
    "start_time": "2023-01-28T19:24:30.584Z"
   },
   {
    "duration": 14,
    "start_time": "2023-01-28T19:24:31.551Z"
   },
   {
    "duration": 22,
    "start_time": "2023-01-28T19:24:32.542Z"
   },
   {
    "duration": 6,
    "start_time": "2023-01-28T19:24:32.856Z"
   },
   {
    "duration": 5,
    "start_time": "2023-01-28T19:24:34.066Z"
   },
   {
    "duration": 5,
    "start_time": "2023-01-28T19:24:34.617Z"
   },
   {
    "duration": 9,
    "start_time": "2023-01-28T19:24:35.519Z"
   },
   {
    "duration": 18,
    "start_time": "2023-01-28T19:24:38.447Z"
   },
   {
    "duration": 13,
    "start_time": "2023-01-28T19:24:39.066Z"
   },
   {
    "duration": 17,
    "start_time": "2023-01-28T19:24:39.810Z"
   },
   {
    "duration": 7,
    "start_time": "2023-01-28T19:24:40.284Z"
   },
   {
    "duration": 7,
    "start_time": "2023-01-28T19:24:40.599Z"
   },
   {
    "duration": 65,
    "start_time": "2023-01-28T19:24:41.113Z"
   },
   {
    "duration": 14,
    "start_time": "2023-01-28T19:24:44.517Z"
   },
   {
    "duration": 12,
    "start_time": "2023-01-28T19:26:20.376Z"
   },
   {
    "duration": 11,
    "start_time": "2023-01-28T19:30:09.182Z"
   },
   {
    "duration": 11,
    "start_time": "2023-01-28T19:30:49.362Z"
   },
   {
    "duration": 9,
    "start_time": "2023-01-28T19:31:51.289Z"
   },
   {
    "duration": 10,
    "start_time": "2023-01-28T19:33:47.439Z"
   },
   {
    "duration": 11,
    "start_time": "2023-01-28T19:34:04.640Z"
   },
   {
    "duration": 12,
    "start_time": "2023-01-28T19:34:28.017Z"
   },
   {
    "duration": 10,
    "start_time": "2023-01-28T19:39:30.153Z"
   },
   {
    "duration": 20,
    "start_time": "2023-01-28T19:44:45.464Z"
   },
   {
    "duration": 17,
    "start_time": "2023-01-28T19:47:41.348Z"
   },
   {
    "duration": 14,
    "start_time": "2023-01-28T19:51:07.951Z"
   },
   {
    "duration": 64,
    "start_time": "2023-01-28T19:52:10.576Z"
   },
   {
    "duration": 12,
    "start_time": "2023-01-28T19:58:51.036Z"
   },
   {
    "duration": 11,
    "start_time": "2023-01-28T19:59:52.696Z"
   },
   {
    "duration": 10,
    "start_time": "2023-01-28T20:02:42.549Z"
   },
   {
    "duration": 10,
    "start_time": "2023-01-28T20:05:23.733Z"
   },
   {
    "duration": 13,
    "start_time": "2023-01-28T20:05:35.277Z"
   },
   {
    "duration": 64,
    "start_time": "2023-01-28T20:06:41.718Z"
   },
   {
    "duration": 730,
    "start_time": "2023-01-29T05:54:58.710Z"
   },
   {
    "duration": 338,
    "start_time": "2023-01-29T05:54:59.442Z"
   },
   {
    "duration": 16,
    "start_time": "2023-01-29T05:54:59.781Z"
   },
   {
    "duration": 76,
    "start_time": "2023-01-29T05:54:59.799Z"
   },
   {
    "duration": 36,
    "start_time": "2023-01-29T05:54:59.876Z"
   },
   {
    "duration": 31,
    "start_time": "2023-01-29T05:54:59.914Z"
   },
   {
    "duration": 16,
    "start_time": "2023-01-29T05:54:59.946Z"
   },
   {
    "duration": 43,
    "start_time": "2023-01-29T05:54:59.963Z"
   },
   {
    "duration": 1829,
    "start_time": "2023-01-29T05:55:00.007Z"
   },
   {
    "duration": 9,
    "start_time": "2023-01-29T05:55:01.840Z"
   },
   {
    "duration": 33,
    "start_time": "2023-01-29T05:55:01.851Z"
   },
   {
    "duration": 38,
    "start_time": "2023-01-29T05:55:01.886Z"
   },
   {
    "duration": 20,
    "start_time": "2023-01-29T05:55:01.925Z"
   },
   {
    "duration": 17,
    "start_time": "2023-01-29T05:55:01.946Z"
   },
   {
    "duration": 38,
    "start_time": "2023-01-29T05:55:01.964Z"
   },
   {
    "duration": 18,
    "start_time": "2023-01-29T05:55:02.004Z"
   },
   {
    "duration": 16,
    "start_time": "2023-01-29T05:55:02.023Z"
   },
   {
    "duration": 17,
    "start_time": "2023-01-29T05:55:02.040Z"
   },
   {
    "duration": 32,
    "start_time": "2023-01-29T05:55:02.059Z"
   },
   {
    "duration": 30,
    "start_time": "2023-01-29T05:55:02.093Z"
   },
   {
    "duration": 21,
    "start_time": "2023-01-29T05:55:02.124Z"
   },
   {
    "duration": 14,
    "start_time": "2023-01-29T05:55:02.147Z"
   },
   {
    "duration": 14,
    "start_time": "2023-01-29T05:55:02.163Z"
   },
   {
    "duration": 13,
    "start_time": "2023-01-29T05:55:02.179Z"
   },
   {
    "duration": 29,
    "start_time": "2023-01-29T05:55:02.193Z"
   },
   {
    "duration": 15,
    "start_time": "2023-01-29T05:55:02.224Z"
   },
   {
    "duration": 33,
    "start_time": "2023-01-29T05:55:02.240Z"
   },
   {
    "duration": 17,
    "start_time": "2023-01-29T05:55:02.277Z"
   },
   {
    "duration": 34,
    "start_time": "2023-01-29T05:55:02.296Z"
   },
   {
    "duration": 6,
    "start_time": "2023-01-29T05:55:02.332Z"
   },
   {
    "duration": 51,
    "start_time": "2023-01-29T05:55:02.340Z"
   },
   {
    "duration": 73,
    "start_time": "2023-01-29T05:55:02.392Z"
   },
   {
    "duration": 12,
    "start_time": "2023-01-29T05:55:02.467Z"
   },
   {
    "duration": 20,
    "start_time": "2023-01-29T05:55:02.480Z"
   },
   {
    "duration": 10,
    "start_time": "2023-01-29T05:55:02.501Z"
   },
   {
    "duration": 13,
    "start_time": "2023-01-29T05:55:02.512Z"
   },
   {
    "duration": 8,
    "start_time": "2023-01-29T05:55:02.526Z"
   },
   {
    "duration": 11,
    "start_time": "2023-01-29T05:55:02.536Z"
   },
   {
    "duration": 10,
    "start_time": "2023-01-29T05:55:02.548Z"
   },
   {
    "duration": 48,
    "start_time": "2023-01-29T05:55:02.560Z"
   },
   {
    "duration": 6,
    "start_time": "2023-01-29T06:22:20.074Z"
   },
   {
    "duration": 7,
    "start_time": "2023-01-29T06:23:14.797Z"
   },
   {
    "duration": 6,
    "start_time": "2023-01-29T06:25:48.990Z"
   },
   {
    "duration": 6,
    "start_time": "2023-01-29T06:32:36.754Z"
   },
   {
    "duration": 6,
    "start_time": "2023-01-29T06:33:56.805Z"
   },
   {
    "duration": 6,
    "start_time": "2023-01-29T06:34:10.878Z"
   },
   {
    "duration": 7,
    "start_time": "2023-01-29T06:34:27.101Z"
   },
   {
    "duration": 7,
    "start_time": "2023-01-29T06:35:11.724Z"
   },
   {
    "duration": 6,
    "start_time": "2023-01-29T06:35:19.884Z"
   },
   {
    "duration": 6,
    "start_time": "2023-01-29T06:35:33.665Z"
   },
   {
    "duration": 12,
    "start_time": "2023-01-29T06:37:22.466Z"
   },
   {
    "duration": 65,
    "start_time": "2023-01-29T06:38:40.329Z"
   },
   {
    "duration": 11,
    "start_time": "2023-01-29T06:48:03.789Z"
   },
   {
    "duration": 6,
    "start_time": "2023-01-29T06:48:15.722Z"
   },
   {
    "duration": 11,
    "start_time": "2023-01-29T06:50:22.934Z"
   },
   {
    "duration": 12,
    "start_time": "2023-01-29T06:50:57.795Z"
   },
   {
    "duration": 3,
    "start_time": "2023-01-29T06:51:47.104Z"
   },
   {
    "duration": 110,
    "start_time": "2023-01-29T06:51:47.110Z"
   },
   {
    "duration": 15,
    "start_time": "2023-01-29T06:51:47.221Z"
   },
   {
    "duration": 110,
    "start_time": "2023-01-29T06:51:47.238Z"
   },
   {
    "duration": 31,
    "start_time": "2023-01-29T06:51:47.350Z"
   },
   {
    "duration": 19,
    "start_time": "2023-01-29T06:51:47.382Z"
   },
   {
    "duration": 16,
    "start_time": "2023-01-29T06:51:47.403Z"
   },
   {
    "duration": 7,
    "start_time": "2023-01-29T06:51:47.421Z"
   },
   {
    "duration": 2231,
    "start_time": "2023-01-29T06:51:47.429Z"
   },
   {
    "duration": 14,
    "start_time": "2023-01-29T06:51:49.662Z"
   },
   {
    "duration": 25,
    "start_time": "2023-01-29T06:51:49.677Z"
   },
   {
    "duration": 23,
    "start_time": "2023-01-29T06:51:49.704Z"
   },
   {
    "duration": 5,
    "start_time": "2023-01-29T06:51:49.731Z"
   },
   {
    "duration": 5,
    "start_time": "2023-01-29T06:51:49.738Z"
   },
   {
    "duration": 5,
    "start_time": "2023-01-29T06:51:49.745Z"
   },
   {
    "duration": 13,
    "start_time": "2023-01-29T06:51:49.752Z"
   },
   {
    "duration": 30,
    "start_time": "2023-01-29T06:51:49.767Z"
   },
   {
    "duration": 4,
    "start_time": "2023-01-29T06:51:49.799Z"
   },
   {
    "duration": 17,
    "start_time": "2023-01-29T06:51:49.805Z"
   },
   {
    "duration": 9,
    "start_time": "2023-01-29T06:51:49.824Z"
   },
   {
    "duration": 13,
    "start_time": "2023-01-29T06:51:49.835Z"
   },
   {
    "duration": 48,
    "start_time": "2023-01-29T06:51:49.850Z"
   },
   {
    "duration": 23,
    "start_time": "2023-01-29T06:51:49.901Z"
   },
   {
    "duration": 7,
    "start_time": "2023-01-29T06:51:49.925Z"
   },
   {
    "duration": 8,
    "start_time": "2023-01-29T06:51:49.934Z"
   },
   {
    "duration": 11,
    "start_time": "2023-01-29T06:51:49.944Z"
   },
   {
    "duration": 36,
    "start_time": "2023-01-29T06:51:49.956Z"
   },
   {
    "duration": 22,
    "start_time": "2023-01-29T06:51:49.995Z"
   },
   {
    "duration": 26,
    "start_time": "2023-01-29T06:51:50.018Z"
   },
   {
    "duration": 17,
    "start_time": "2023-01-29T06:51:50.046Z"
   },
   {
    "duration": 13,
    "start_time": "2023-01-29T06:51:50.065Z"
   },
   {
    "duration": 86,
    "start_time": "2023-01-29T06:51:50.079Z"
   },
   {
    "duration": 12,
    "start_time": "2023-01-29T06:51:50.167Z"
   },
   {
    "duration": 29,
    "start_time": "2023-01-29T06:51:50.180Z"
   },
   {
    "duration": 9,
    "start_time": "2023-01-29T06:51:50.211Z"
   },
   {
    "duration": 12,
    "start_time": "2023-01-29T06:51:50.221Z"
   },
   {
    "duration": 9,
    "start_time": "2023-01-29T06:51:50.236Z"
   },
   {
    "duration": 11,
    "start_time": "2023-01-29T06:51:50.246Z"
   },
   {
    "duration": 9,
    "start_time": "2023-01-29T06:51:50.292Z"
   },
   {
    "duration": 27,
    "start_time": "2023-01-29T06:51:50.304Z"
   },
   {
    "duration": 10,
    "start_time": "2023-01-29T06:51:50.333Z"
   },
   {
    "duration": 15,
    "start_time": "2023-01-29T06:51:50.345Z"
   },
   {
    "duration": 32,
    "start_time": "2023-01-29T06:51:50.362Z"
   },
   {
    "duration": 16,
    "start_time": "2023-01-29T06:51:50.397Z"
   },
   {
    "duration": 12,
    "start_time": "2023-01-29T06:51:50.415Z"
   },
   {
    "duration": 86,
    "start_time": "2023-01-29T06:51:50.428Z"
   },
   {
    "duration": 115,
    "start_time": "2023-01-29T06:51:50.515Z"
   },
   {
    "duration": 6,
    "start_time": "2023-01-29T06:54:54.470Z"
   },
   {
    "duration": 11,
    "start_time": "2023-01-29T06:55:58.523Z"
   },
   {
    "duration": 6,
    "start_time": "2023-01-29T06:56:13.689Z"
   },
   {
    "duration": 13,
    "start_time": "2023-01-29T06:56:14.869Z"
   },
   {
    "duration": 84,
    "start_time": "2023-01-29T06:56:16.266Z"
   },
   {
    "duration": 6,
    "start_time": "2023-01-29T06:59:37.758Z"
   },
   {
    "duration": 12,
    "start_time": "2023-01-29T07:01:15.512Z"
   },
   {
    "duration": 9,
    "start_time": "2023-01-29T07:03:47.267Z"
   },
   {
    "duration": 20,
    "start_time": "2023-01-29T07:04:35.201Z"
   },
   {
    "duration": 8,
    "start_time": "2023-01-29T07:04:38.906Z"
   },
   {
    "duration": 20,
    "start_time": "2023-01-29T07:04:39.832Z"
   },
   {
    "duration": 58,
    "start_time": "2023-01-29T07:04:42.038Z"
   },
   {
    "duration": 3,
    "start_time": "2023-01-29T07:05:12.929Z"
   },
   {
    "duration": 93,
    "start_time": "2023-01-29T07:05:12.933Z"
   },
   {
    "duration": 13,
    "start_time": "2023-01-29T07:05:13.028Z"
   },
   {
    "duration": 87,
    "start_time": "2023-01-29T07:05:13.043Z"
   },
   {
    "duration": 27,
    "start_time": "2023-01-29T07:05:13.132Z"
   },
   {
    "duration": 4,
    "start_time": "2023-01-29T07:05:13.160Z"
   },
   {
    "duration": 6,
    "start_time": "2023-01-29T07:05:13.165Z"
   },
   {
    "duration": 20,
    "start_time": "2023-01-29T07:05:13.172Z"
   },
   {
    "duration": 1991,
    "start_time": "2023-01-29T07:05:13.194Z"
   },
   {
    "duration": 12,
    "start_time": "2023-01-29T07:05:15.186Z"
   },
   {
    "duration": 11,
    "start_time": "2023-01-29T07:05:15.199Z"
   },
   {
    "duration": 11,
    "start_time": "2023-01-29T07:05:15.211Z"
   },
   {
    "duration": 10,
    "start_time": "2023-01-29T07:05:15.224Z"
   },
   {
    "duration": 8,
    "start_time": "2023-01-29T07:05:15.235Z"
   },
   {
    "duration": 13,
    "start_time": "2023-01-29T07:05:15.244Z"
   },
   {
    "duration": 8,
    "start_time": "2023-01-29T07:05:15.258Z"
   },
   {
    "duration": 9,
    "start_time": "2023-01-29T07:05:15.268Z"
   },
   {
    "duration": 3,
    "start_time": "2023-01-29T07:05:15.292Z"
   },
   {
    "duration": 8,
    "start_time": "2023-01-29T07:05:15.297Z"
   },
   {
    "duration": 9,
    "start_time": "2023-01-29T07:05:15.307Z"
   },
   {
    "duration": 14,
    "start_time": "2023-01-29T07:05:15.318Z"
   },
   {
    "duration": 15,
    "start_time": "2023-01-29T07:05:15.334Z"
   },
   {
    "duration": 9,
    "start_time": "2023-01-29T07:05:15.351Z"
   },
   {
    "duration": 7,
    "start_time": "2023-01-29T07:05:15.394Z"
   },
   {
    "duration": 11,
    "start_time": "2023-01-29T07:05:15.403Z"
   },
   {
    "duration": 12,
    "start_time": "2023-01-29T07:05:15.416Z"
   },
   {
    "duration": 19,
    "start_time": "2023-01-29T07:05:15.429Z"
   },
   {
    "duration": 11,
    "start_time": "2023-01-29T07:05:15.450Z"
   },
   {
    "duration": 35,
    "start_time": "2023-01-29T07:05:15.463Z"
   },
   {
    "duration": 6,
    "start_time": "2023-01-29T07:05:15.500Z"
   },
   {
    "duration": 8,
    "start_time": "2023-01-29T07:05:15.507Z"
   },
   {
    "duration": 85,
    "start_time": "2023-01-29T07:05:15.516Z"
   },
   {
    "duration": 12,
    "start_time": "2023-01-29T07:05:15.603Z"
   },
   {
    "duration": 11,
    "start_time": "2023-01-29T07:05:15.616Z"
   },
   {
    "duration": 8,
    "start_time": "2023-01-29T07:05:15.628Z"
   },
   {
    "duration": 12,
    "start_time": "2023-01-29T07:05:15.638Z"
   },
   {
    "duration": 39,
    "start_time": "2023-01-29T07:05:15.652Z"
   },
   {
    "duration": 13,
    "start_time": "2023-01-29T07:05:15.693Z"
   },
   {
    "duration": 10,
    "start_time": "2023-01-29T07:05:15.708Z"
   },
   {
    "duration": 13,
    "start_time": "2023-01-29T07:05:15.720Z"
   },
   {
    "duration": 8,
    "start_time": "2023-01-29T07:05:15.735Z"
   },
   {
    "duration": 11,
    "start_time": "2023-01-29T07:05:15.745Z"
   },
   {
    "duration": 36,
    "start_time": "2023-01-29T07:05:15.758Z"
   },
   {
    "duration": 6,
    "start_time": "2023-01-29T07:05:15.796Z"
   },
   {
    "duration": 19,
    "start_time": "2023-01-29T07:05:15.803Z"
   },
   {
    "duration": 6,
    "start_time": "2023-01-29T07:05:15.823Z"
   },
   {
    "duration": 17,
    "start_time": "2023-01-29T07:05:15.830Z"
   },
   {
    "duration": 8,
    "start_time": "2023-01-29T07:05:15.849Z"
   },
   {
    "duration": 47,
    "start_time": "2023-01-29T07:05:15.859Z"
   },
   {
    "duration": 62,
    "start_time": "2023-01-29T07:05:15.908Z"
   },
   {
    "duration": 75,
    "start_time": "2023-01-29T07:05:15.971Z"
   },
   {
    "duration": 9,
    "start_time": "2023-01-29T07:06:35.801Z"
   },
   {
    "duration": 3,
    "start_time": "2023-01-29T07:06:46.775Z"
   },
   {
    "duration": 91,
    "start_time": "2023-01-29T07:06:46.779Z"
   },
   {
    "duration": 21,
    "start_time": "2023-01-29T07:06:46.871Z"
   },
   {
    "duration": 65,
    "start_time": "2023-01-29T07:06:46.894Z"
   },
   {
    "duration": 41,
    "start_time": "2023-01-29T07:06:46.961Z"
   },
   {
    "duration": 5,
    "start_time": "2023-01-29T07:06:47.003Z"
   },
   {
    "duration": 5,
    "start_time": "2023-01-29T07:06:47.009Z"
   },
   {
    "duration": 9,
    "start_time": "2023-01-29T07:06:47.016Z"
   },
   {
    "duration": 1745,
    "start_time": "2023-01-29T07:06:47.028Z"
   },
   {
    "duration": 17,
    "start_time": "2023-01-29T07:06:48.775Z"
   },
   {
    "duration": 9,
    "start_time": "2023-01-29T07:06:48.793Z"
   },
   {
    "duration": 8,
    "start_time": "2023-01-29T07:06:48.803Z"
   },
   {
    "duration": 5,
    "start_time": "2023-01-29T07:06:48.813Z"
   },
   {
    "duration": 5,
    "start_time": "2023-01-29T07:06:48.819Z"
   },
   {
    "duration": 5,
    "start_time": "2023-01-29T07:06:48.826Z"
   },
   {
    "duration": 9,
    "start_time": "2023-01-29T07:06:48.832Z"
   },
   {
    "duration": 9,
    "start_time": "2023-01-29T07:06:48.843Z"
   },
   {
    "duration": 3,
    "start_time": "2023-01-29T07:06:48.853Z"
   },
   {
    "duration": 8,
    "start_time": "2023-01-29T07:06:48.857Z"
   },
   {
    "duration": 29,
    "start_time": "2023-01-29T07:06:48.866Z"
   },
   {
    "duration": 13,
    "start_time": "2023-01-29T07:06:48.897Z"
   },
   {
    "duration": 14,
    "start_time": "2023-01-29T07:06:48.912Z"
   },
   {
    "duration": 6,
    "start_time": "2023-01-29T07:06:48.928Z"
   },
   {
    "duration": 6,
    "start_time": "2023-01-29T07:06:48.937Z"
   },
   {
    "duration": 7,
    "start_time": "2023-01-29T07:06:48.945Z"
   },
   {
    "duration": 10,
    "start_time": "2023-01-29T07:06:48.953Z"
   },
   {
    "duration": 43,
    "start_time": "2023-01-29T07:06:48.964Z"
   },
   {
    "duration": 10,
    "start_time": "2023-01-29T07:06:49.009Z"
   },
   {
    "duration": 21,
    "start_time": "2023-01-29T07:06:49.020Z"
   },
   {
    "duration": 6,
    "start_time": "2023-01-29T07:06:49.042Z"
   },
   {
    "duration": 6,
    "start_time": "2023-01-29T07:06:49.050Z"
   },
   {
    "duration": 76,
    "start_time": "2023-01-29T07:06:49.057Z"
   },
   {
    "duration": 11,
    "start_time": "2023-01-29T07:06:49.134Z"
   },
   {
    "duration": 11,
    "start_time": "2023-01-29T07:06:49.146Z"
   },
   {
    "duration": 10,
    "start_time": "2023-01-29T07:06:49.158Z"
   },
   {
    "duration": 32,
    "start_time": "2023-01-29T07:06:49.169Z"
   },
   {
    "duration": 12,
    "start_time": "2023-01-29T07:06:49.202Z"
   },
   {
    "duration": 10,
    "start_time": "2023-01-29T07:06:49.216Z"
   },
   {
    "duration": 6,
    "start_time": "2023-01-29T07:06:49.228Z"
   },
   {
    "duration": 10,
    "start_time": "2023-01-29T07:06:49.236Z"
   },
   {
    "duration": 45,
    "start_time": "2023-01-29T07:06:49.248Z"
   },
   {
    "duration": 13,
    "start_time": "2023-01-29T07:06:49.295Z"
   },
   {
    "duration": 5,
    "start_time": "2023-01-29T07:06:49.309Z"
   },
   {
    "duration": 8,
    "start_time": "2023-01-29T07:06:49.315Z"
   },
   {
    "duration": 10,
    "start_time": "2023-01-29T07:06:49.324Z"
   },
   {
    "duration": 5,
    "start_time": "2023-01-29T07:06:49.336Z"
   },
   {
    "duration": 12,
    "start_time": "2023-01-29T07:06:49.342Z"
   },
   {
    "duration": 40,
    "start_time": "2023-01-29T07:06:49.356Z"
   },
   {
    "duration": 18,
    "start_time": "2023-01-29T07:06:49.397Z"
   },
   {
    "duration": 53,
    "start_time": "2023-01-29T07:06:49.417Z"
   },
   {
    "duration": 78,
    "start_time": "2023-01-29T07:06:49.471Z"
   },
   {
    "duration": 4,
    "start_time": "2023-01-29T07:08:23.367Z"
   },
   {
    "duration": 25,
    "start_time": "2023-01-29T07:16:00.650Z"
   },
   {
    "duration": 4,
    "start_time": "2023-01-29T07:16:29.742Z"
   },
   {
    "duration": 26,
    "start_time": "2023-01-29T07:16:31.892Z"
   },
   {
    "duration": 23,
    "start_time": "2023-01-29T07:16:50.695Z"
   },
   {
    "duration": 5,
    "start_time": "2023-01-29T07:17:28.767Z"
   },
   {
    "duration": 34,
    "start_time": "2023-01-29T07:17:30.254Z"
   },
   {
    "duration": 5,
    "start_time": "2023-01-29T07:17:39.544Z"
   },
   {
    "duration": 4,
    "start_time": "2023-01-29T07:17:59.605Z"
   },
   {
    "duration": 3,
    "start_time": "2023-01-29T07:18:01.193Z"
   },
   {
    "duration": 31,
    "start_time": "2023-01-29T07:18:02.405Z"
   },
   {
    "duration": 4,
    "start_time": "2023-01-29T07:18:16.387Z"
   },
   {
    "duration": 22,
    "start_time": "2023-01-29T07:18:19.415Z"
   },
   {
    "duration": 45,
    "start_time": "2023-01-29T07:24:30.881Z"
   },
   {
    "duration": 6,
    "start_time": "2023-01-29T07:24:43.460Z"
   },
   {
    "duration": 31,
    "start_time": "2023-01-29T07:24:45.866Z"
   },
   {
    "duration": 27,
    "start_time": "2023-01-29T07:27:20.530Z"
   },
   {
    "duration": 6,
    "start_time": "2023-01-29T07:27:31.712Z"
   },
   {
    "duration": 6,
    "start_time": "2023-01-29T07:27:33.777Z"
   },
   {
    "duration": 5,
    "start_time": "2023-01-29T07:27:34.777Z"
   },
   {
    "duration": 31,
    "start_time": "2023-01-29T07:27:36.042Z"
   },
   {
    "duration": 5,
    "start_time": "2023-01-29T07:28:02.545Z"
   },
   {
    "duration": 6,
    "start_time": "2023-01-29T07:28:03.554Z"
   },
   {
    "duration": 26,
    "start_time": "2023-01-29T07:28:04.294Z"
   },
   {
    "duration": 5,
    "start_time": "2023-01-29T07:28:26.243Z"
   },
   {
    "duration": 5,
    "start_time": "2023-01-29T07:28:27.112Z"
   },
   {
    "duration": 5,
    "start_time": "2023-01-29T07:28:28.059Z"
   },
   {
    "duration": 27,
    "start_time": "2023-01-29T07:28:28.834Z"
   },
   {
    "duration": 37,
    "start_time": "2023-01-29T07:32:49.936Z"
   },
   {
    "duration": 39,
    "start_time": "2023-01-29T07:32:56.476Z"
   },
   {
    "duration": 56,
    "start_time": "2023-01-29T07:33:17.793Z"
   },
   {
    "duration": 44,
    "start_time": "2023-01-29T07:33:24.201Z"
   },
   {
    "duration": 42,
    "start_time": "2023-01-29T07:33:55.520Z"
   },
   {
    "duration": 46,
    "start_time": "2023-01-29T07:34:02.673Z"
   },
   {
    "duration": 40,
    "start_time": "2023-01-29T07:36:33.083Z"
   },
   {
    "duration": 3,
    "start_time": "2023-01-29T07:36:38.989Z"
   },
   {
    "duration": 122,
    "start_time": "2023-01-29T07:36:38.994Z"
   },
   {
    "duration": 14,
    "start_time": "2023-01-29T07:36:39.118Z"
   },
   {
    "duration": 84,
    "start_time": "2023-01-29T07:36:39.134Z"
   },
   {
    "duration": 31,
    "start_time": "2023-01-29T07:36:39.219Z"
   },
   {
    "duration": 4,
    "start_time": "2023-01-29T07:36:39.252Z"
   },
   {
    "duration": 10,
    "start_time": "2023-01-29T07:36:39.258Z"
   },
   {
    "duration": 23,
    "start_time": "2023-01-29T07:36:39.270Z"
   },
   {
    "duration": 2100,
    "start_time": "2023-01-29T07:36:39.295Z"
   },
   {
    "duration": 10,
    "start_time": "2023-01-29T07:36:41.399Z"
   },
   {
    "duration": 10,
    "start_time": "2023-01-29T07:36:41.411Z"
   },
   {
    "duration": 193,
    "start_time": "2023-01-29T07:36:41.423Z"
   },
   {
    "duration": 5,
    "start_time": "2023-01-29T07:36:41.618Z"
   },
   {
    "duration": 20,
    "start_time": "2023-01-29T07:36:41.625Z"
   },
   {
    "duration": 6,
    "start_time": "2023-01-29T07:36:41.647Z"
   },
   {
    "duration": 11,
    "start_time": "2023-01-29T07:36:41.655Z"
   },
   {
    "duration": 23,
    "start_time": "2023-01-29T07:36:41.668Z"
   },
   {
    "duration": 4,
    "start_time": "2023-01-29T07:36:41.694Z"
   },
   {
    "duration": 15,
    "start_time": "2023-01-29T07:36:41.701Z"
   },
   {
    "duration": 17,
    "start_time": "2023-01-29T07:36:41.718Z"
   },
   {
    "duration": 17,
    "start_time": "2023-01-29T07:36:41.737Z"
   },
   {
    "duration": 40,
    "start_time": "2023-01-29T07:36:41.756Z"
   },
   {
    "duration": 7,
    "start_time": "2023-01-29T07:36:41.798Z"
   },
   {
    "duration": 19,
    "start_time": "2023-01-29T07:36:41.807Z"
   },
   {
    "duration": 11,
    "start_time": "2023-01-29T07:36:41.829Z"
   },
   {
    "duration": 11,
    "start_time": "2023-01-29T07:36:41.842Z"
   },
   {
    "duration": 38,
    "start_time": "2023-01-29T07:36:41.854Z"
   },
   {
    "duration": 23,
    "start_time": "2023-01-29T07:36:41.898Z"
   },
   {
    "duration": 23,
    "start_time": "2023-01-29T07:36:41.923Z"
   },
   {
    "duration": 9,
    "start_time": "2023-01-29T07:36:41.948Z"
   },
   {
    "duration": 9,
    "start_time": "2023-01-29T07:36:41.959Z"
   },
   {
    "duration": 73,
    "start_time": "2023-01-29T07:36:41.991Z"
   },
   {
    "duration": 27,
    "start_time": "2023-01-29T07:36:42.066Z"
   },
   {
    "duration": 14,
    "start_time": "2023-01-29T07:36:42.095Z"
   },
   {
    "duration": 11,
    "start_time": "2023-01-29T07:36:42.112Z"
   },
   {
    "duration": 15,
    "start_time": "2023-01-29T07:36:42.125Z"
   },
   {
    "duration": 11,
    "start_time": "2023-01-29T07:36:42.142Z"
   },
   {
    "duration": 15,
    "start_time": "2023-01-29T07:36:42.192Z"
   },
   {
    "duration": 10,
    "start_time": "2023-01-29T07:36:42.209Z"
   },
   {
    "duration": 14,
    "start_time": "2023-01-29T07:36:42.220Z"
   },
   {
    "duration": 11,
    "start_time": "2023-01-29T07:36:42.236Z"
   },
   {
    "duration": 43,
    "start_time": "2023-01-29T07:36:42.249Z"
   },
   {
    "duration": 9,
    "start_time": "2023-01-29T07:36:42.294Z"
   },
   {
    "duration": 8,
    "start_time": "2023-01-29T07:36:42.305Z"
   },
   {
    "duration": 24,
    "start_time": "2023-01-29T07:36:42.315Z"
   },
   {
    "duration": 12,
    "start_time": "2023-01-29T07:36:42.341Z"
   },
   {
    "duration": 47,
    "start_time": "2023-01-29T07:36:42.356Z"
   },
   {
    "duration": 14,
    "start_time": "2023-01-29T07:36:42.405Z"
   },
   {
    "duration": 28,
    "start_time": "2023-01-29T07:36:42.421Z"
   },
   {
    "duration": 93,
    "start_time": "2023-01-29T07:36:42.451Z"
   },
   {
    "duration": 5,
    "start_time": "2023-01-29T07:36:42.546Z"
   },
   {
    "duration": 7,
    "start_time": "2023-01-29T07:36:42.554Z"
   },
   {
    "duration": 46,
    "start_time": "2023-01-29T07:36:42.563Z"
   },
   {
    "duration": 6,
    "start_time": "2023-01-29T07:36:42.611Z"
   },
   {
    "duration": 6,
    "start_time": "2023-01-29T07:36:42.619Z"
   },
   {
    "duration": 6,
    "start_time": "2023-01-29T07:36:42.626Z"
   },
   {
    "duration": 29,
    "start_time": "2023-01-29T07:36:42.634Z"
   },
   {
    "duration": 39,
    "start_time": "2023-01-29T07:43:23.052Z"
   },
   {
    "duration": 6,
    "start_time": "2023-01-29T07:44:04.781Z"
   },
   {
    "duration": 90,
    "start_time": "2023-01-29T07:44:58.269Z"
   },
   {
    "duration": 17,
    "start_time": "2023-01-29T07:45:17.604Z"
   },
   {
    "duration": 50,
    "start_time": "2023-01-29T07:45:39.831Z"
   },
   {
    "duration": 45,
    "start_time": "2023-01-29T07:58:12.878Z"
   },
   {
    "duration": 98,
    "start_time": "2023-01-29T07:58:17.643Z"
   },
   {
    "duration": 10,
    "start_time": "2023-01-29T07:59:02.131Z"
   },
   {
    "duration": 4,
    "start_time": "2023-01-29T08:00:29.871Z"
   },
   {
    "duration": 44,
    "start_time": "2023-01-29T08:00:32.393Z"
   },
   {
    "duration": 4,
    "start_time": "2023-01-29T08:03:18.287Z"
   },
   {
    "duration": 4,
    "start_time": "2023-01-29T08:03:29.619Z"
   },
   {
    "duration": 4,
    "start_time": "2023-01-29T08:07:05.191Z"
   },
   {
    "duration": 39,
    "start_time": "2023-01-29T08:07:07.809Z"
   },
   {
    "duration": 5,
    "start_time": "2023-01-29T08:07:51.672Z"
   },
   {
    "duration": 27,
    "start_time": "2023-01-29T08:07:52.616Z"
   },
   {
    "duration": 73,
    "start_time": "2023-01-29T08:09:02.759Z"
   },
   {
    "duration": 9,
    "start_time": "2023-01-29T08:09:36.101Z"
   },
   {
    "duration": 7,
    "start_time": "2023-01-29T08:10:25.762Z"
   },
   {
    "duration": 31,
    "start_time": "2023-01-29T08:10:27.858Z"
   },
   {
    "duration": 6,
    "start_time": "2023-01-29T08:10:55.346Z"
   },
   {
    "duration": 66,
    "start_time": "2023-01-29T08:30:56.914Z"
   },
   {
    "duration": 421,
    "start_time": "2023-01-29T08:31:29.577Z"
   },
   {
    "duration": 274,
    "start_time": "2023-01-29T08:41:00.125Z"
   },
   {
    "duration": 156,
    "start_time": "2023-01-29T08:42:18.723Z"
   },
   {
    "duration": 214,
    "start_time": "2023-01-29T08:42:54.803Z"
   },
   {
    "duration": 306,
    "start_time": "2023-01-29T08:43:38.300Z"
   },
   {
    "duration": 300,
    "start_time": "2023-01-29T08:45:40.924Z"
   },
   {
    "duration": 257,
    "start_time": "2023-01-29T08:47:00.671Z"
   },
   {
    "duration": 452,
    "start_time": "2023-01-29T08:47:44.486Z"
   },
   {
    "duration": 198,
    "start_time": "2023-01-29T08:48:03.234Z"
   },
   {
    "duration": 197,
    "start_time": "2023-01-29T08:49:10.527Z"
   },
   {
    "duration": 169,
    "start_time": "2023-01-29T08:51:02.926Z"
   },
   {
    "duration": 108,
    "start_time": "2023-01-29T08:51:24.217Z"
   },
   {
    "duration": 119,
    "start_time": "2023-01-29T08:52:54.343Z"
   },
   {
    "duration": 245,
    "start_time": "2023-01-29T08:53:29.027Z"
   },
   {
    "duration": 239,
    "start_time": "2023-01-29T08:54:21.227Z"
   },
   {
    "duration": 143,
    "start_time": "2023-01-29T08:56:05.919Z"
   },
   {
    "duration": 138,
    "start_time": "2023-01-29T08:56:18.343Z"
   },
   {
    "duration": 146,
    "start_time": "2023-01-29T08:56:25.219Z"
   },
   {
    "duration": 146,
    "start_time": "2023-01-29T08:56:32.995Z"
   },
   {
    "duration": 290,
    "start_time": "2023-01-29T08:56:44.078Z"
   },
   {
    "duration": 173,
    "start_time": "2023-01-29T08:56:53.440Z"
   },
   {
    "duration": 133,
    "start_time": "2023-01-29T08:57:01.072Z"
   },
   {
    "duration": 132,
    "start_time": "2023-01-29T08:57:10.123Z"
   },
   {
    "duration": 136,
    "start_time": "2023-01-29T09:00:02.137Z"
   },
   {
    "duration": 135,
    "start_time": "2023-01-29T09:00:35.373Z"
   },
   {
    "duration": 137,
    "start_time": "2023-01-29T09:02:25.677Z"
   },
   {
    "duration": 175,
    "start_time": "2023-01-29T09:07:52.130Z"
   },
   {
    "duration": 169,
    "start_time": "2023-01-29T09:10:13.844Z"
   },
   {
    "duration": 7,
    "start_time": "2023-01-29T09:10:16.196Z"
   },
   {
    "duration": 415,
    "start_time": "2023-01-29T09:11:20.758Z"
   },
   {
    "duration": 9,
    "start_time": "2023-01-29T09:11:52.871Z"
   },
   {
    "duration": 125,
    "start_time": "2023-01-29T09:13:33.588Z"
   },
   {
    "duration": 7,
    "start_time": "2023-01-29T09:14:22.387Z"
   },
   {
    "duration": 128,
    "start_time": "2023-01-29T09:16:20.767Z"
   },
   {
    "duration": 128,
    "start_time": "2023-01-29T09:17:02.672Z"
   },
   {
    "duration": 257,
    "start_time": "2023-01-29T09:17:09.939Z"
   },
   {
    "duration": 251,
    "start_time": "2023-01-29T09:17:23.877Z"
   },
   {
    "duration": 6,
    "start_time": "2023-01-29T09:20:25.686Z"
   },
   {
    "duration": 135,
    "start_time": "2023-01-29T09:22:05.145Z"
   },
   {
    "duration": 6,
    "start_time": "2023-01-29T09:23:05.171Z"
   },
   {
    "duration": 142,
    "start_time": "2023-01-29T09:23:58.934Z"
   },
   {
    "duration": 135,
    "start_time": "2023-01-29T09:24:11.210Z"
   },
   {
    "duration": 178,
    "start_time": "2023-01-29T09:25:06.385Z"
   },
   {
    "duration": 193,
    "start_time": "2023-01-29T09:25:46.346Z"
   },
   {
    "duration": 143,
    "start_time": "2023-01-29T09:25:59.184Z"
   },
   {
    "duration": 162,
    "start_time": "2023-01-29T09:26:12.096Z"
   },
   {
    "duration": 165,
    "start_time": "2023-01-29T09:26:21.171Z"
   },
   {
    "duration": 152,
    "start_time": "2023-01-29T09:26:29.935Z"
   },
   {
    "duration": 152,
    "start_time": "2023-01-29T09:26:42.871Z"
   },
   {
    "duration": 7,
    "start_time": "2023-01-29T09:27:37.388Z"
   },
   {
    "duration": 153,
    "start_time": "2023-01-29T09:27:52.389Z"
   },
   {
    "duration": 139,
    "start_time": "2023-01-29T09:28:02.475Z"
   },
   {
    "duration": 140,
    "start_time": "2023-01-29T09:28:05.028Z"
   },
   {
    "duration": 155,
    "start_time": "2023-01-29T09:28:10.057Z"
   },
   {
    "duration": 140,
    "start_time": "2023-01-29T09:30:51.372Z"
   },
   {
    "duration": 156,
    "start_time": "2023-01-29T09:31:07.635Z"
   },
   {
    "duration": 8,
    "start_time": "2023-01-29T09:33:01.579Z"
   },
   {
    "duration": 7,
    "start_time": "2023-01-29T09:34:06.625Z"
   },
   {
    "duration": 74,
    "start_time": "2023-01-29T09:34:27.710Z"
   },
   {
    "duration": 6,
    "start_time": "2023-01-29T09:34:34.424Z"
   },
   {
    "duration": 158,
    "start_time": "2023-01-29T09:38:32.782Z"
   },
   {
    "duration": 172,
    "start_time": "2023-01-29T09:38:39.068Z"
   },
   {
    "duration": 20,
    "start_time": "2023-01-29T09:40:44.322Z"
   },
   {
    "duration": 13,
    "start_time": "2023-01-29T09:41:39.610Z"
   },
   {
    "duration": 116,
    "start_time": "2023-01-29T09:42:01.868Z"
   },
   {
    "duration": 119,
    "start_time": "2023-01-29T09:44:46.524Z"
   },
   {
    "duration": 123,
    "start_time": "2023-01-29T09:45:15.330Z"
   },
   {
    "duration": 147,
    "start_time": "2023-01-29T09:46:46.440Z"
   },
   {
    "duration": 139,
    "start_time": "2023-01-29T11:14:09.259Z"
   },
   {
    "duration": 160,
    "start_time": "2023-01-29T11:14:46.924Z"
   },
   {
    "duration": 152,
    "start_time": "2023-01-29T11:19:33.901Z"
   },
   {
    "duration": 149,
    "start_time": "2023-01-29T11:21:18.517Z"
   },
   {
    "duration": 159,
    "start_time": "2023-01-29T11:22:06.069Z"
   },
   {
    "duration": 481,
    "start_time": "2023-01-29T11:26:22.274Z"
   },
   {
    "duration": 145,
    "start_time": "2023-01-29T11:27:28.530Z"
   },
   {
    "duration": 126,
    "start_time": "2023-01-29T11:30:32.198Z"
   },
   {
    "duration": 120,
    "start_time": "2023-01-29T11:30:40.229Z"
   },
   {
    "duration": 179,
    "start_time": "2023-01-29T11:37:25.534Z"
   },
   {
    "duration": 206,
    "start_time": "2023-01-29T11:37:36.137Z"
   },
   {
    "duration": 212,
    "start_time": "2023-01-29T11:38:02.286Z"
   },
   {
    "duration": 206,
    "start_time": "2023-01-29T11:39:17.202Z"
   },
   {
    "duration": 202,
    "start_time": "2023-01-29T11:39:52.493Z"
   },
   {
    "duration": 202,
    "start_time": "2023-01-29T11:40:02.277Z"
   },
   {
    "duration": 139,
    "start_time": "2023-01-29T11:41:26.977Z"
   },
   {
    "duration": 323,
    "start_time": "2023-01-29T11:47:30.457Z"
   },
   {
    "duration": 245,
    "start_time": "2023-01-29T11:48:35.570Z"
   },
   {
    "duration": 210,
    "start_time": "2023-01-29T11:48:48.532Z"
   },
   {
    "duration": 213,
    "start_time": "2023-01-29T11:48:55.559Z"
   },
   {
    "duration": 210,
    "start_time": "2023-01-29T11:49:25.253Z"
   },
   {
    "duration": 429,
    "start_time": "2023-01-29T11:51:56.351Z"
   },
   {
    "duration": 345,
    "start_time": "2023-01-29T11:52:07.136Z"
   },
   {
    "duration": 300,
    "start_time": "2023-01-29T11:52:15.456Z"
   },
   {
    "duration": 278,
    "start_time": "2023-01-29T11:52:36.987Z"
   },
   {
    "duration": 310,
    "start_time": "2023-01-29T11:52:42.794Z"
   },
   {
    "duration": 186,
    "start_time": "2023-01-29T11:56:35.723Z"
   },
   {
    "duration": 162,
    "start_time": "2023-01-29T12:02:23.780Z"
   },
   {
    "duration": 148,
    "start_time": "2023-01-29T12:03:20.186Z"
   },
   {
    "duration": 164,
    "start_time": "2023-01-29T12:19:22.168Z"
   },
   {
    "duration": 81,
    "start_time": "2023-01-29T12:24:09.260Z"
   },
   {
    "duration": 675,
    "start_time": "2023-01-29T12:37:18.323Z"
   },
   {
    "duration": 338,
    "start_time": "2023-01-29T12:38:49.118Z"
   },
   {
    "duration": 11,
    "start_time": "2023-01-29T12:41:53.230Z"
   },
   {
    "duration": 10,
    "start_time": "2023-01-29T12:42:10.533Z"
   },
   {
    "duration": 7,
    "start_time": "2023-01-29T12:42:44.945Z"
   },
   {
    "duration": 245,
    "start_time": "2023-01-29T12:47:47.233Z"
   },
   {
    "duration": 9,
    "start_time": "2023-01-29T12:49:19.794Z"
   },
   {
    "duration": 9,
    "start_time": "2023-01-29T12:50:59.525Z"
   },
   {
    "duration": 6,
    "start_time": "2023-01-29T12:54:14.890Z"
   },
   {
    "duration": 144,
    "start_time": "2023-01-29T13:32:54.395Z"
   },
   {
    "duration": 142,
    "start_time": "2023-01-29T13:34:04.987Z"
   },
   {
    "duration": 144,
    "start_time": "2023-01-29T13:36:45.281Z"
   },
   {
    "duration": 156,
    "start_time": "2023-01-29T13:37:18.743Z"
   },
   {
    "duration": 131,
    "start_time": "2023-01-29T13:39:32.124Z"
   },
   {
    "duration": 142,
    "start_time": "2023-01-29T13:40:51.524Z"
   },
   {
    "duration": 157,
    "start_time": "2023-01-29T13:43:09.643Z"
   },
   {
    "duration": 148,
    "start_time": "2023-01-29T13:44:22.091Z"
   },
   {
    "duration": 147,
    "start_time": "2023-01-29T13:44:28.330Z"
   },
   {
    "duration": 155,
    "start_time": "2023-01-29T13:48:20.088Z"
   },
   {
    "duration": 140,
    "start_time": "2023-01-29T13:49:45.572Z"
   },
   {
    "duration": 133,
    "start_time": "2023-01-29T13:50:47.347Z"
   },
   {
    "duration": 866,
    "start_time": "2023-01-29T14:38:25.251Z"
   },
   {
    "duration": 182,
    "start_time": "2023-01-29T14:38:26.119Z"
   },
   {
    "duration": 27,
    "start_time": "2023-01-29T14:38:26.303Z"
   },
   {
    "duration": 109,
    "start_time": "2023-01-29T14:38:26.333Z"
   },
   {
    "duration": 45,
    "start_time": "2023-01-29T14:38:26.445Z"
   },
   {
    "duration": 5,
    "start_time": "2023-01-29T14:38:26.492Z"
   },
   {
    "duration": 16,
    "start_time": "2023-01-29T14:38:26.499Z"
   },
   {
    "duration": 23,
    "start_time": "2023-01-29T14:38:26.532Z"
   },
   {
    "duration": 2430,
    "start_time": "2023-01-29T14:38:26.557Z"
   },
   {
    "duration": 10,
    "start_time": "2023-01-29T14:38:28.989Z"
   },
   {
    "duration": 10,
    "start_time": "2023-01-29T14:38:29.002Z"
   },
   {
    "duration": 17,
    "start_time": "2023-01-29T14:38:29.013Z"
   },
   {
    "duration": 4,
    "start_time": "2023-01-29T14:38:29.032Z"
   },
   {
    "duration": 15,
    "start_time": "2023-01-29T14:38:29.039Z"
   },
   {
    "duration": 8,
    "start_time": "2023-01-29T14:38:29.056Z"
   },
   {
    "duration": 21,
    "start_time": "2023-01-29T14:38:29.066Z"
   },
   {
    "duration": 12,
    "start_time": "2023-01-29T14:38:29.089Z"
   },
   {
    "duration": 4,
    "start_time": "2023-01-29T14:38:29.103Z"
   },
   {
    "duration": 19,
    "start_time": "2023-01-29T14:38:29.110Z"
   },
   {
    "duration": 10,
    "start_time": "2023-01-29T14:38:29.131Z"
   },
   {
    "duration": 15,
    "start_time": "2023-01-29T14:38:29.143Z"
   },
   {
    "duration": 23,
    "start_time": "2023-01-29T14:38:29.161Z"
   },
   {
    "duration": 8,
    "start_time": "2023-01-29T14:38:29.186Z"
   },
   {
    "duration": 8,
    "start_time": "2023-01-29T14:38:29.231Z"
   },
   {
    "duration": 19,
    "start_time": "2023-01-29T14:38:29.241Z"
   },
   {
    "duration": 12,
    "start_time": "2023-01-29T14:38:29.263Z"
   },
   {
    "duration": 37,
    "start_time": "2023-01-29T14:38:29.277Z"
   },
   {
    "duration": 22,
    "start_time": "2023-01-29T14:38:29.317Z"
   },
   {
    "duration": 17,
    "start_time": "2023-01-29T14:38:29.341Z"
   },
   {
    "duration": 10,
    "start_time": "2023-01-29T14:38:29.360Z"
   },
   {
    "duration": 15,
    "start_time": "2023-01-29T14:38:29.372Z"
   },
   {
    "duration": 126,
    "start_time": "2023-01-29T14:38:29.390Z"
   },
   {
    "duration": 24,
    "start_time": "2023-01-29T14:38:29.519Z"
   },
   {
    "duration": 26,
    "start_time": "2023-01-29T14:38:29.546Z"
   },
   {
    "duration": 14,
    "start_time": "2023-01-29T14:38:29.574Z"
   },
   {
    "duration": 38,
    "start_time": "2023-01-29T14:38:29.590Z"
   },
   {
    "duration": 13,
    "start_time": "2023-01-29T14:38:29.630Z"
   },
   {
    "duration": 25,
    "start_time": "2023-01-29T14:38:29.647Z"
   },
   {
    "duration": 11,
    "start_time": "2023-01-29T14:38:29.675Z"
   },
   {
    "duration": 43,
    "start_time": "2023-01-29T14:38:29.689Z"
   },
   {
    "duration": 15,
    "start_time": "2023-01-29T14:38:29.739Z"
   },
   {
    "duration": 27,
    "start_time": "2023-01-29T14:38:29.755Z"
   },
   {
    "duration": 8,
    "start_time": "2023-01-29T14:38:29.785Z"
   },
   {
    "duration": 32,
    "start_time": "2023-01-29T14:38:29.796Z"
   },
   {
    "duration": 27,
    "start_time": "2023-01-29T14:38:29.831Z"
   },
   {
    "duration": 17,
    "start_time": "2023-01-29T14:38:29.860Z"
   },
   {
    "duration": 46,
    "start_time": "2023-01-29T14:38:29.880Z"
   },
   {
    "duration": 19,
    "start_time": "2023-01-29T14:38:29.928Z"
   },
   {
    "duration": 49,
    "start_time": "2023-01-29T14:38:29.949Z"
   },
   {
    "duration": 77,
    "start_time": "2023-01-29T14:38:30.000Z"
   },
   {
    "duration": 7,
    "start_time": "2023-01-29T14:38:30.079Z"
   },
   {
    "duration": 20,
    "start_time": "2023-01-29T14:38:30.089Z"
   },
   {
    "duration": 63,
    "start_time": "2023-01-29T14:38:30.111Z"
   },
   {
    "duration": 44,
    "start_time": "2023-01-29T14:38:30.176Z"
   },
   {
    "duration": 42,
    "start_time": "2023-01-29T14:38:30.223Z"
   },
   {
    "duration": 9,
    "start_time": "2023-01-29T14:38:30.267Z"
   },
   {
    "duration": 78,
    "start_time": "2023-01-29T14:38:30.277Z"
   },
   {
    "duration": 122,
    "start_time": "2023-01-29T14:38:30.358Z"
   },
   {
    "duration": 11,
    "start_time": "2023-01-29T14:38:30.482Z"
   },
   {
    "duration": 91,
    "start_time": "2023-01-29T14:38:30.496Z"
   },
   {
    "duration": 86,
    "start_time": "2023-01-29T14:38:30.590Z"
   },
   {
    "duration": 234,
    "start_time": "2023-01-29T14:38:30.678Z"
   },
   {
    "duration": 13,
    "start_time": "2023-01-29T14:38:30.914Z"
   },
   {
    "duration": 278,
    "start_time": "2023-01-29T14:38:30.929Z"
   },
   {
    "duration": 13,
    "start_time": "2023-01-29T14:38:31.211Z"
   },
   {
    "duration": 225,
    "start_time": "2023-01-29T14:38:31.227Z"
   },
   {
    "duration": 7,
    "start_time": "2023-01-29T14:38:31.454Z"
   },
   {
    "duration": 233,
    "start_time": "2023-01-29T14:38:31.463Z"
   },
   {
    "duration": 6,
    "start_time": "2023-01-29T14:38:31.698Z"
   },
   {
    "duration": 463,
    "start_time": "2023-01-29T14:38:31.706Z"
   },
   {
    "duration": 5,
    "start_time": "2023-01-29T14:38:32.171Z"
   },
   {
    "duration": 176,
    "start_time": "2023-01-29T14:38:32.179Z"
   },
   {
    "duration": 7,
    "start_time": "2023-01-29T14:38:32.357Z"
   },
   {
    "duration": 199,
    "start_time": "2023-01-29T14:38:32.366Z"
   },
   {
    "duration": 6,
    "start_time": "2023-01-29T14:38:32.567Z"
   },
   {
    "duration": 162,
    "start_time": "2023-01-29T14:38:32.575Z"
   },
   {
    "duration": 193,
    "start_time": "2023-01-29T14:38:32.739Z"
   },
   {
    "duration": 198,
    "start_time": "2023-01-29T14:38:32.935Z"
   },
   {
    "duration": 156,
    "start_time": "2023-01-29T14:38:33.135Z"
   },
   {
    "duration": 193,
    "start_time": "2023-01-29T14:38:33.293Z"
   },
   {
    "duration": 187,
    "start_time": "2023-01-29T14:38:33.488Z"
   },
   {
    "duration": 174,
    "start_time": "2023-01-29T14:38:33.677Z"
   },
   {
    "duration": 380,
    "start_time": "2023-01-29T14:38:33.853Z"
   },
   {
    "duration": 9,
    "start_time": "2023-01-29T14:38:34.235Z"
   },
   {
    "duration": 414,
    "start_time": "2023-01-29T14:38:34.246Z"
   },
   {
    "duration": 9,
    "start_time": "2023-01-29T14:38:34.663Z"
   },
   {
    "duration": 16,
    "start_time": "2023-01-29T14:38:34.674Z"
   },
   {
    "duration": 225,
    "start_time": "2023-01-29T14:38:34.692Z"
   },
   {
    "duration": 163,
    "start_time": "2023-01-29T14:38:34.919Z"
   },
   {
    "duration": 180,
    "start_time": "2023-01-29T14:38:35.084Z"
   },
   {
    "duration": 218,
    "start_time": "2023-01-29T14:38:35.266Z"
   },
   {
    "duration": 188,
    "start_time": "2023-01-29T14:38:35.487Z"
   },
   {
    "duration": 175,
    "start_time": "2023-01-29T14:38:35.677Z"
   },
   {
    "duration": 168,
    "start_time": "2023-01-29T14:38:35.853Z"
   },
   {
    "duration": 170,
    "start_time": "2023-01-29T14:38:36.026Z"
   },
   {
    "duration": 161,
    "start_time": "2023-01-29T14:39:05.156Z"
   },
   {
    "duration": 45,
    "start_time": "2023-01-29T14:55:38.653Z"
   },
   {
    "duration": 45,
    "start_time": "2023-01-29T14:56:01.049Z"
   },
   {
    "duration": 13,
    "start_time": "2023-01-29T14:56:06.895Z"
   },
   {
    "duration": 16,
    "start_time": "2023-01-29T14:56:33.441Z"
   },
   {
    "duration": 14,
    "start_time": "2023-01-29T14:56:42.784Z"
   },
   {
    "duration": 93,
    "start_time": "2023-01-29T15:01:24.842Z"
   },
   {
    "duration": 22,
    "start_time": "2023-01-29T15:01:37.042Z"
   },
   {
    "duration": 14,
    "start_time": "2023-01-29T15:02:56.455Z"
   },
   {
    "duration": 13,
    "start_time": "2023-01-29T15:03:26.690Z"
   },
   {
    "duration": 15,
    "start_time": "2023-01-29T15:04:08.593Z"
   },
   {
    "duration": 19,
    "start_time": "2023-01-29T15:04:33.281Z"
   },
   {
    "duration": 25,
    "start_time": "2023-01-29T15:04:36.969Z"
   },
   {
    "duration": 15,
    "start_time": "2023-01-29T15:04:43.244Z"
   },
   {
    "duration": 48,
    "start_time": "2023-01-29T15:06:27.407Z"
   },
   {
    "duration": 15,
    "start_time": "2023-01-29T15:06:37.841Z"
   },
   {
    "duration": 9,
    "start_time": "2023-01-29T15:07:46.768Z"
   },
   {
    "duration": 9,
    "start_time": "2023-01-29T15:08:01.050Z"
   },
   {
    "duration": 18,
    "start_time": "2023-01-29T15:08:13.528Z"
   },
   {
    "duration": 1061,
    "start_time": "2023-01-30T06:33:08.873Z"
   },
   {
    "duration": 185,
    "start_time": "2023-01-30T06:33:09.937Z"
   },
   {
    "duration": 25,
    "start_time": "2023-01-30T06:33:10.124Z"
   },
   {
    "duration": 121,
    "start_time": "2023-01-30T06:33:10.152Z"
   },
   {
    "duration": 35,
    "start_time": "2023-01-30T06:33:10.275Z"
   },
   {
    "duration": 5,
    "start_time": "2023-01-30T06:33:10.313Z"
   },
   {
    "duration": 8,
    "start_time": "2023-01-30T06:33:10.321Z"
   },
   {
    "duration": 6,
    "start_time": "2023-01-30T06:33:10.331Z"
   },
   {
    "duration": 2807,
    "start_time": "2023-01-30T06:33:10.339Z"
   },
   {
    "duration": 10,
    "start_time": "2023-01-30T06:33:13.149Z"
   },
   {
    "duration": 19,
    "start_time": "2023-01-30T06:33:13.161Z"
   },
   {
    "duration": 14,
    "start_time": "2023-01-30T06:33:13.182Z"
   },
   {
    "duration": 5,
    "start_time": "2023-01-30T06:33:13.198Z"
   },
   {
    "duration": 7,
    "start_time": "2023-01-30T06:33:13.205Z"
   },
   {
    "duration": 6,
    "start_time": "2023-01-30T06:33:13.213Z"
   },
   {
    "duration": 7,
    "start_time": "2023-01-30T06:33:13.221Z"
   },
   {
    "duration": 11,
    "start_time": "2023-01-30T06:33:13.230Z"
   },
   {
    "duration": 6,
    "start_time": "2023-01-30T06:33:13.242Z"
   },
   {
    "duration": 42,
    "start_time": "2023-01-30T06:33:13.250Z"
   },
   {
    "duration": 13,
    "start_time": "2023-01-30T06:33:13.294Z"
   },
   {
    "duration": 16,
    "start_time": "2023-01-30T06:33:13.309Z"
   },
   {
    "duration": 24,
    "start_time": "2023-01-30T06:33:13.327Z"
   },
   {
    "duration": 35,
    "start_time": "2023-01-30T06:33:13.353Z"
   },
   {
    "duration": 14,
    "start_time": "2023-01-30T06:33:13.390Z"
   },
   {
    "duration": 20,
    "start_time": "2023-01-30T06:33:13.406Z"
   },
   {
    "duration": 11,
    "start_time": "2023-01-30T06:33:13.428Z"
   },
   {
    "duration": 26,
    "start_time": "2023-01-30T06:33:13.441Z"
   },
   {
    "duration": 15,
    "start_time": "2023-01-30T06:33:13.483Z"
   },
   {
    "duration": 27,
    "start_time": "2023-01-30T06:33:13.500Z"
   },
   {
    "duration": 7,
    "start_time": "2023-01-30T06:33:13.530Z"
   },
   {
    "duration": 8,
    "start_time": "2023-01-30T06:33:13.539Z"
   },
   {
    "duration": 92,
    "start_time": "2023-01-30T06:33:13.549Z"
   },
   {
    "duration": 14,
    "start_time": "2023-01-30T06:33:13.643Z"
   },
   {
    "duration": 29,
    "start_time": "2023-01-30T06:33:13.658Z"
   },
   {
    "duration": 12,
    "start_time": "2023-01-30T06:33:13.689Z"
   },
   {
    "duration": 16,
    "start_time": "2023-01-30T06:33:13.703Z"
   },
   {
    "duration": 10,
    "start_time": "2023-01-30T06:33:13.722Z"
   },
   {
    "duration": 16,
    "start_time": "2023-01-30T06:33:13.734Z"
   },
   {
    "duration": 9,
    "start_time": "2023-01-30T06:33:13.783Z"
   },
   {
    "duration": 25,
    "start_time": "2023-01-30T06:33:13.793Z"
   },
   {
    "duration": 11,
    "start_time": "2023-01-30T06:33:13.821Z"
   },
   {
    "duration": 17,
    "start_time": "2023-01-30T06:33:13.834Z"
   },
   {
    "duration": 35,
    "start_time": "2023-01-30T06:33:13.853Z"
   },
   {
    "duration": 10,
    "start_time": "2023-01-30T06:33:13.890Z"
   },
   {
    "duration": 15,
    "start_time": "2023-01-30T06:33:13.901Z"
   },
   {
    "duration": 7,
    "start_time": "2023-01-30T06:33:13.918Z"
   },
   {
    "duration": 16,
    "start_time": "2023-01-30T06:33:13.926Z"
   },
   {
    "duration": 14,
    "start_time": "2023-01-30T06:33:13.944Z"
   },
   {
    "duration": 54,
    "start_time": "2023-01-30T06:33:13.985Z"
   },
   {
    "duration": 65,
    "start_time": "2023-01-30T06:33:14.041Z"
   },
   {
    "duration": 5,
    "start_time": "2023-01-30T06:33:14.108Z"
   },
   {
    "duration": 24,
    "start_time": "2023-01-30T06:33:14.114Z"
   },
   {
    "duration": 42,
    "start_time": "2023-01-30T06:33:14.139Z"
   },
   {
    "duration": 6,
    "start_time": "2023-01-30T06:33:14.183Z"
   },
   {
    "duration": 23,
    "start_time": "2023-01-30T06:33:14.190Z"
   },
   {
    "duration": 27,
    "start_time": "2023-01-30T06:33:14.215Z"
   },
   {
    "duration": 43,
    "start_time": "2023-01-30T06:33:14.243Z"
   },
   {
    "duration": 54,
    "start_time": "2023-01-30T06:33:14.288Z"
   },
   {
    "duration": 7,
    "start_time": "2023-01-30T06:33:14.343Z"
   },
   {
    "duration": 12,
    "start_time": "2023-01-30T06:33:14.352Z"
   },
   {
    "duration": 27,
    "start_time": "2023-01-30T06:33:14.385Z"
   },
   {
    "duration": 177,
    "start_time": "2023-01-30T06:33:14.414Z"
   },
   {
    "duration": 7,
    "start_time": "2023-01-30T06:33:14.592Z"
   },
   {
    "duration": 195,
    "start_time": "2023-01-30T06:33:14.600Z"
   },
   {
    "duration": 7,
    "start_time": "2023-01-30T06:33:14.797Z"
   },
   {
    "duration": 170,
    "start_time": "2023-01-30T06:33:14.805Z"
   },
   {
    "duration": 11,
    "start_time": "2023-01-30T06:33:14.977Z"
   },
   {
    "duration": 189,
    "start_time": "2023-01-30T06:33:14.989Z"
   },
   {
    "duration": 8,
    "start_time": "2023-01-30T06:33:15.180Z"
   },
   {
    "duration": 367,
    "start_time": "2023-01-30T06:33:15.190Z"
   },
   {
    "duration": 7,
    "start_time": "2023-01-30T06:33:15.560Z"
   },
   {
    "duration": 186,
    "start_time": "2023-01-30T06:33:15.568Z"
   },
   {
    "duration": 7,
    "start_time": "2023-01-30T06:33:15.756Z"
   },
   {
    "duration": 178,
    "start_time": "2023-01-30T06:33:15.764Z"
   },
   {
    "duration": 6,
    "start_time": "2023-01-30T06:33:15.944Z"
   },
   {
    "duration": 145,
    "start_time": "2023-01-30T06:33:15.951Z"
   },
   {
    "duration": 149,
    "start_time": "2023-01-30T06:33:16.098Z"
   },
   {
    "duration": 152,
    "start_time": "2023-01-30T06:33:16.249Z"
   },
   {
    "duration": 159,
    "start_time": "2023-01-30T06:33:16.403Z"
   },
   {
    "duration": 176,
    "start_time": "2023-01-30T06:33:16.564Z"
   },
   {
    "duration": 151,
    "start_time": "2023-01-30T06:33:16.743Z"
   },
   {
    "duration": 165,
    "start_time": "2023-01-30T06:33:16.899Z"
   },
   {
    "duration": 435,
    "start_time": "2023-01-30T06:33:17.066Z"
   },
   {
    "duration": 7,
    "start_time": "2023-01-30T06:33:17.502Z"
   },
   {
    "duration": 264,
    "start_time": "2023-01-30T06:33:17.511Z"
   },
   {
    "duration": 14,
    "start_time": "2023-01-30T06:33:17.777Z"
   },
   {
    "duration": 12,
    "start_time": "2023-01-30T06:33:17.793Z"
   },
   {
    "duration": 170,
    "start_time": "2023-01-30T06:33:17.807Z"
   },
   {
    "duration": 149,
    "start_time": "2023-01-30T06:33:17.985Z"
   },
   {
    "duration": 167,
    "start_time": "2023-01-30T06:33:18.135Z"
   },
   {
    "duration": 188,
    "start_time": "2023-01-30T06:33:18.303Z"
   },
   {
    "duration": 193,
    "start_time": "2023-01-30T06:33:18.492Z"
   },
   {
    "duration": 178,
    "start_time": "2023-01-30T06:33:18.687Z"
   },
   {
    "duration": 176,
    "start_time": "2023-01-30T06:33:18.866Z"
   },
   {
    "duration": 174,
    "start_time": "2023-01-30T06:33:19.045Z"
   },
   {
    "duration": 14,
    "start_time": "2023-01-30T06:33:19.221Z"
   },
   {
    "duration": 15,
    "start_time": "2023-01-30T06:33:19.237Z"
   },
   {
    "duration": 35,
    "start_time": "2023-01-30T06:38:28.262Z"
   },
   {
    "duration": 17,
    "start_time": "2023-01-30T06:38:38.614Z"
   },
   {
    "duration": 17,
    "start_time": "2023-01-30T06:38:42.318Z"
   },
   {
    "duration": 947,
    "start_time": "2023-01-30T06:42:41.819Z"
   },
   {
    "duration": 6123,
    "start_time": "2023-01-30T06:43:00.828Z"
   },
   {
    "duration": 5715,
    "start_time": "2023-01-30T06:43:07.069Z"
   },
   {
    "duration": 159,
    "start_time": "2023-01-30T06:43:52.433Z"
   },
   {
    "duration": 166,
    "start_time": "2023-01-30T06:44:38.429Z"
   },
   {
    "duration": 15,
    "start_time": "2023-01-30T06:44:50.464Z"
   },
   {
    "duration": 150,
    "start_time": "2023-01-30T06:44:57.949Z"
   },
   {
    "duration": 16,
    "start_time": "2023-01-30T06:46:07.066Z"
   },
   {
    "duration": 21,
    "start_time": "2023-01-30T06:46:15.928Z"
   },
   {
    "duration": 156,
    "start_time": "2023-01-30T06:46:20.209Z"
   },
   {
    "duration": 174,
    "start_time": "2023-01-30T07:01:04.545Z"
   },
   {
    "duration": 165,
    "start_time": "2023-01-30T07:01:11.864Z"
   },
   {
    "duration": 321,
    "start_time": "2023-01-30T07:02:50.372Z"
   },
   {
    "duration": 466,
    "start_time": "2023-01-30T07:06:47.618Z"
   },
   {
    "duration": 177,
    "start_time": "2023-01-30T07:09:10.811Z"
   },
   {
    "duration": 4,
    "start_time": "2023-01-30T08:25:13.475Z"
   },
   {
    "duration": 137,
    "start_time": "2023-01-30T08:25:13.483Z"
   },
   {
    "duration": 18,
    "start_time": "2023-01-30T08:25:13.623Z"
   },
   {
    "duration": 119,
    "start_time": "2023-01-30T08:25:13.644Z"
   },
   {
    "duration": 49,
    "start_time": "2023-01-30T08:25:13.765Z"
   },
   {
    "duration": 5,
    "start_time": "2023-01-30T08:25:13.815Z"
   },
   {
    "duration": 7,
    "start_time": "2023-01-30T08:25:13.822Z"
   },
   {
    "duration": 5,
    "start_time": "2023-01-30T08:25:13.831Z"
   },
   {
    "duration": 2171,
    "start_time": "2023-01-30T08:25:13.838Z"
   },
   {
    "duration": 12,
    "start_time": "2023-01-30T08:25:16.011Z"
   },
   {
    "duration": 19,
    "start_time": "2023-01-30T08:25:16.027Z"
   },
   {
    "duration": 11,
    "start_time": "2023-01-30T08:25:16.048Z"
   },
   {
    "duration": 27,
    "start_time": "2023-01-30T08:25:16.061Z"
   },
   {
    "duration": 8,
    "start_time": "2023-01-30T08:25:16.090Z"
   },
   {
    "duration": 7,
    "start_time": "2023-01-30T08:25:16.100Z"
   },
   {
    "duration": 10,
    "start_time": "2023-01-30T08:25:16.110Z"
   },
   {
    "duration": 13,
    "start_time": "2023-01-30T08:25:16.122Z"
   },
   {
    "duration": 5,
    "start_time": "2023-01-30T08:25:16.137Z"
   },
   {
    "duration": 42,
    "start_time": "2023-01-30T08:25:16.144Z"
   },
   {
    "duration": 11,
    "start_time": "2023-01-30T08:25:16.188Z"
   },
   {
    "duration": 20,
    "start_time": "2023-01-30T08:25:16.201Z"
   },
   {
    "duration": 25,
    "start_time": "2023-01-30T08:25:16.223Z"
   },
   {
    "duration": 37,
    "start_time": "2023-01-30T08:25:16.250Z"
   },
   {
    "duration": 14,
    "start_time": "2023-01-30T08:25:16.289Z"
   },
   {
    "duration": 12,
    "start_time": "2023-01-30T08:25:16.305Z"
   },
   {
    "duration": 18,
    "start_time": "2023-01-30T08:25:16.318Z"
   },
   {
    "duration": 24,
    "start_time": "2023-01-30T08:25:16.339Z"
   },
   {
    "duration": 28,
    "start_time": "2023-01-30T08:25:16.365Z"
   },
   {
    "duration": 21,
    "start_time": "2023-01-30T08:25:16.400Z"
   },
   {
    "duration": 11,
    "start_time": "2023-01-30T08:25:16.425Z"
   },
   {
    "duration": 14,
    "start_time": "2023-01-30T08:25:16.438Z"
   },
   {
    "duration": 102,
    "start_time": "2023-01-30T08:25:16.454Z"
   },
   {
    "duration": 14,
    "start_time": "2023-01-30T08:25:16.558Z"
   },
   {
    "duration": 15,
    "start_time": "2023-01-30T08:25:16.584Z"
   },
   {
    "duration": 13,
    "start_time": "2023-01-30T08:25:16.601Z"
   },
   {
    "duration": 22,
    "start_time": "2023-01-30T08:25:16.617Z"
   },
   {
    "duration": 11,
    "start_time": "2023-01-30T08:25:16.644Z"
   },
   {
    "duration": 23,
    "start_time": "2023-01-30T08:25:16.685Z"
   },
   {
    "duration": 7,
    "start_time": "2023-01-30T08:25:16.710Z"
   },
   {
    "duration": 18,
    "start_time": "2023-01-30T08:25:16.719Z"
   },
   {
    "duration": 11,
    "start_time": "2023-01-30T08:25:16.739Z"
   },
   {
    "duration": 39,
    "start_time": "2023-01-30T08:25:16.752Z"
   },
   {
    "duration": 7,
    "start_time": "2023-01-30T08:25:16.793Z"
   },
   {
    "duration": 9,
    "start_time": "2023-01-30T08:25:16.803Z"
   },
   {
    "duration": 19,
    "start_time": "2023-01-30T08:25:16.814Z"
   },
   {
    "duration": 8,
    "start_time": "2023-01-30T08:25:16.834Z"
   },
   {
    "duration": 54,
    "start_time": "2023-01-30T08:25:16.844Z"
   },
   {
    "duration": 11,
    "start_time": "2023-01-30T08:25:16.900Z"
   },
   {
    "duration": 29,
    "start_time": "2023-01-30T08:25:16.913Z"
   },
   {
    "duration": 100,
    "start_time": "2023-01-30T08:25:16.944Z"
   },
   {
    "duration": 5,
    "start_time": "2023-01-30T08:25:17.046Z"
   },
   {
    "duration": 11,
    "start_time": "2023-01-30T08:25:17.053Z"
   },
   {
    "duration": 40,
    "start_time": "2023-01-30T08:25:17.065Z"
   },
   {
    "duration": 13,
    "start_time": "2023-01-30T08:25:17.107Z"
   },
   {
    "duration": 11,
    "start_time": "2023-01-30T08:25:17.123Z"
   },
   {
    "duration": 13,
    "start_time": "2023-01-30T08:25:17.136Z"
   },
   {
    "duration": 39,
    "start_time": "2023-01-30T08:25:17.151Z"
   },
   {
    "duration": 59,
    "start_time": "2023-01-30T08:25:17.191Z"
   },
   {
    "duration": 7,
    "start_time": "2023-01-30T08:25:17.253Z"
   },
   {
    "duration": 6,
    "start_time": "2023-01-30T08:25:17.285Z"
   },
   {
    "duration": 35,
    "start_time": "2023-01-30T08:25:17.293Z"
   },
   {
    "duration": 354,
    "start_time": "2023-01-30T08:25:17.330Z"
   },
   {
    "duration": 7,
    "start_time": "2023-01-30T08:25:17.686Z"
   },
   {
    "duration": 223,
    "start_time": "2023-01-30T08:25:17.695Z"
   },
   {
    "duration": 8,
    "start_time": "2023-01-30T08:25:17.920Z"
   },
   {
    "duration": 184,
    "start_time": "2023-01-30T08:25:17.930Z"
   },
   {
    "duration": 8,
    "start_time": "2023-01-30T08:25:18.116Z"
   },
   {
    "duration": 216,
    "start_time": "2023-01-30T08:25:18.126Z"
   },
   {
    "duration": 7,
    "start_time": "2023-01-30T08:25:18.344Z"
   },
   {
    "duration": 299,
    "start_time": "2023-01-30T08:25:18.353Z"
   },
   {
    "duration": 7,
    "start_time": "2023-01-30T08:25:18.654Z"
   },
   {
    "duration": 184,
    "start_time": "2023-01-30T08:25:18.663Z"
   },
   {
    "duration": 7,
    "start_time": "2023-01-30T08:25:18.849Z"
   },
   {
    "duration": 199,
    "start_time": "2023-01-30T08:25:18.858Z"
   },
   {
    "duration": 6,
    "start_time": "2023-01-30T08:25:19.059Z"
   },
   {
    "duration": 148,
    "start_time": "2023-01-30T08:25:19.067Z"
   },
   {
    "duration": 157,
    "start_time": "2023-01-30T08:25:19.217Z"
   },
   {
    "duration": 176,
    "start_time": "2023-01-30T08:25:19.376Z"
   },
   {
    "duration": 227,
    "start_time": "2023-01-30T08:25:19.553Z"
   },
   {
    "duration": 207,
    "start_time": "2023-01-30T08:25:19.787Z"
   },
   {
    "duration": 158,
    "start_time": "2023-01-30T08:25:19.997Z"
   },
   {
    "duration": 172,
    "start_time": "2023-01-30T08:25:20.158Z"
   },
   {
    "duration": 366,
    "start_time": "2023-01-30T08:25:20.337Z"
   },
   {
    "duration": 8,
    "start_time": "2023-01-30T08:25:20.704Z"
   },
   {
    "duration": 263,
    "start_time": "2023-01-30T08:25:20.714Z"
   },
   {
    "duration": 10,
    "start_time": "2023-01-30T08:25:20.983Z"
   },
   {
    "duration": 22,
    "start_time": "2023-01-30T08:25:20.995Z"
   },
   {
    "duration": 172,
    "start_time": "2023-01-30T08:25:21.019Z"
   },
   {
    "duration": 371,
    "start_time": "2023-01-30T08:25:21.192Z"
   },
   {
    "duration": 176,
    "start_time": "2023-01-30T08:25:21.565Z"
   },
   {
    "duration": 183,
    "start_time": "2023-01-30T08:25:21.743Z"
   },
   {
    "duration": 191,
    "start_time": "2023-01-30T08:25:21.927Z"
   },
   {
    "duration": 184,
    "start_time": "2023-01-30T08:25:22.120Z"
   },
   {
    "duration": 178,
    "start_time": "2023-01-30T08:25:22.306Z"
   },
   {
    "duration": 179,
    "start_time": "2023-01-30T08:25:22.486Z"
   },
   {
    "duration": 31,
    "start_time": "2023-01-30T08:25:22.667Z"
   },
   {
    "duration": 18,
    "start_time": "2023-01-30T08:25:22.700Z"
   },
   {
    "duration": 180,
    "start_time": "2023-01-30T08:25:22.720Z"
   },
   {
    "duration": 290,
    "start_time": "2023-01-30T08:25:22.902Z"
   },
   {
    "duration": 639,
    "start_time": "2023-01-30T08:45:42.508Z"
   },
   {
    "duration": 97,
    "start_time": "2023-01-30T08:45:43.149Z"
   },
   {
    "duration": 16,
    "start_time": "2023-01-30T08:45:43.248Z"
   },
   {
    "duration": 92,
    "start_time": "2023-01-30T08:45:43.267Z"
   },
   {
    "duration": 40,
    "start_time": "2023-01-30T08:45:43.361Z"
   },
   {
    "duration": 4,
    "start_time": "2023-01-30T08:45:43.403Z"
   },
   {
    "duration": 12,
    "start_time": "2023-01-30T08:45:43.411Z"
   },
   {
    "duration": 5,
    "start_time": "2023-01-30T08:45:43.424Z"
   },
   {
    "duration": 2033,
    "start_time": "2023-01-30T08:45:43.431Z"
   },
   {
    "duration": 30,
    "start_time": "2023-01-30T08:45:45.467Z"
   },
   {
    "duration": 10,
    "start_time": "2023-01-30T08:45:45.499Z"
   },
   {
    "duration": 13,
    "start_time": "2023-01-30T08:45:45.511Z"
   },
   {
    "duration": 7,
    "start_time": "2023-01-30T08:45:45.525Z"
   },
   {
    "duration": 6,
    "start_time": "2023-01-30T08:45:45.533Z"
   },
   {
    "duration": 5,
    "start_time": "2023-01-30T08:45:45.541Z"
   },
   {
    "duration": 6,
    "start_time": "2023-01-30T08:45:45.548Z"
   },
   {
    "duration": 39,
    "start_time": "2023-01-30T08:45:45.556Z"
   },
   {
    "duration": 4,
    "start_time": "2023-01-30T08:45:45.597Z"
   },
   {
    "duration": 9,
    "start_time": "2023-01-30T08:45:45.603Z"
   },
   {
    "duration": 9,
    "start_time": "2023-01-30T08:45:45.613Z"
   },
   {
    "duration": 12,
    "start_time": "2023-01-30T08:45:45.623Z"
   },
   {
    "duration": 23,
    "start_time": "2023-01-30T08:45:45.637Z"
   },
   {
    "duration": 32,
    "start_time": "2023-01-30T08:45:45.661Z"
   },
   {
    "duration": 11,
    "start_time": "2023-01-30T08:45:45.694Z"
   },
   {
    "duration": 6,
    "start_time": "2023-01-30T08:45:45.706Z"
   },
   {
    "duration": 12,
    "start_time": "2023-01-30T08:45:45.713Z"
   },
   {
    "duration": 23,
    "start_time": "2023-01-30T08:45:45.726Z"
   },
   {
    "duration": 11,
    "start_time": "2023-01-30T08:45:45.754Z"
   },
   {
    "duration": 26,
    "start_time": "2023-01-30T08:45:45.767Z"
   },
   {
    "duration": 8,
    "start_time": "2023-01-30T08:45:45.795Z"
   },
   {
    "duration": 9,
    "start_time": "2023-01-30T08:45:45.805Z"
   },
   {
    "duration": 73,
    "start_time": "2023-01-30T08:45:45.816Z"
   },
   {
    "duration": 14,
    "start_time": "2023-01-30T08:45:45.892Z"
   },
   {
    "duration": 17,
    "start_time": "2023-01-30T08:45:45.908Z"
   },
   {
    "duration": 25,
    "start_time": "2023-01-30T08:45:45.927Z"
   },
   {
    "duration": 15,
    "start_time": "2023-01-30T08:45:45.954Z"
   },
   {
    "duration": 29,
    "start_time": "2023-01-30T08:45:45.971Z"
   },
   {
    "duration": 15,
    "start_time": "2023-01-30T08:45:46.002Z"
   },
   {
    "duration": 12,
    "start_time": "2023-01-30T08:45:46.019Z"
   },
   {
    "duration": 15,
    "start_time": "2023-01-30T08:45:46.033Z"
   },
   {
    "duration": 43,
    "start_time": "2023-01-30T08:45:46.050Z"
   },
   {
    "duration": 16,
    "start_time": "2023-01-30T08:45:46.096Z"
   },
   {
    "duration": 13,
    "start_time": "2023-01-30T08:45:46.114Z"
   },
   {
    "duration": 11,
    "start_time": "2023-01-30T08:45:46.129Z"
   },
   {
    "duration": 20,
    "start_time": "2023-01-30T08:45:46.141Z"
   },
   {
    "duration": 31,
    "start_time": "2023-01-30T08:45:46.163Z"
   },
   {
    "duration": 12,
    "start_time": "2023-01-30T08:45:46.195Z"
   },
   {
    "duration": 9,
    "start_time": "2023-01-30T08:45:46.208Z"
   },
   {
    "duration": 23,
    "start_time": "2023-01-30T08:45:46.219Z"
   },
   {
    "duration": 86,
    "start_time": "2023-01-30T08:45:46.244Z"
   },
   {
    "duration": 3,
    "start_time": "2023-01-30T08:45:46.332Z"
   },
   {
    "duration": 6,
    "start_time": "2023-01-30T08:45:46.337Z"
   },
   {
    "duration": 26,
    "start_time": "2023-01-30T08:45:46.345Z"
   },
   {
    "duration": 22,
    "start_time": "2023-01-30T08:45:46.373Z"
   },
   {
    "duration": 5,
    "start_time": "2023-01-30T08:45:46.397Z"
   },
   {
    "duration": 6,
    "start_time": "2023-01-30T08:45:46.403Z"
   },
   {
    "duration": 36,
    "start_time": "2023-01-30T08:45:46.410Z"
   },
   {
    "duration": 73,
    "start_time": "2023-01-30T08:45:46.448Z"
   },
   {
    "duration": 6,
    "start_time": "2023-01-30T08:45:46.523Z"
   },
   {
    "duration": 20,
    "start_time": "2023-01-30T08:45:46.530Z"
   },
   {
    "duration": 27,
    "start_time": "2023-01-30T08:45:46.552Z"
   },
   {
    "duration": 155,
    "start_time": "2023-01-30T08:45:46.591Z"
   },
   {
    "duration": 7,
    "start_time": "2023-01-30T08:45:46.749Z"
   },
   {
    "duration": 187,
    "start_time": "2023-01-30T08:45:46.758Z"
   },
   {
    "duration": 6,
    "start_time": "2023-01-30T08:45:46.946Z"
   },
   {
    "duration": 156,
    "start_time": "2023-01-30T08:45:46.954Z"
   },
   {
    "duration": 6,
    "start_time": "2023-01-30T08:45:47.111Z"
   },
   {
    "duration": 191,
    "start_time": "2023-01-30T08:45:47.119Z"
   },
   {
    "duration": 6,
    "start_time": "2023-01-30T08:45:47.312Z"
   },
   {
    "duration": 352,
    "start_time": "2023-01-30T08:45:47.320Z"
   },
   {
    "duration": 6,
    "start_time": "2023-01-30T08:45:47.673Z"
   },
   {
    "duration": 151,
    "start_time": "2023-01-30T08:45:47.681Z"
   },
   {
    "duration": 6,
    "start_time": "2023-01-30T08:45:47.834Z"
   },
   {
    "duration": 167,
    "start_time": "2023-01-30T08:45:47.841Z"
   },
   {
    "duration": 5,
    "start_time": "2023-01-30T08:45:48.010Z"
   },
   {
    "duration": 130,
    "start_time": "2023-01-30T08:45:48.017Z"
   },
   {
    "duration": 134,
    "start_time": "2023-01-30T08:45:48.149Z"
   },
   {
    "duration": 171,
    "start_time": "2023-01-30T08:45:48.284Z"
   },
   {
    "duration": 154,
    "start_time": "2023-01-30T08:45:48.457Z"
   },
   {
    "duration": 150,
    "start_time": "2023-01-30T08:45:48.612Z"
   },
   {
    "duration": 137,
    "start_time": "2023-01-30T08:45:48.764Z"
   },
   {
    "duration": 145,
    "start_time": "2023-01-30T08:45:48.906Z"
   },
   {
    "duration": 410,
    "start_time": "2023-01-30T08:45:49.053Z"
   },
   {
    "duration": 7,
    "start_time": "2023-01-30T08:45:49.465Z"
   },
   {
    "duration": 254,
    "start_time": "2023-01-30T08:45:49.473Z"
   },
   {
    "duration": 8,
    "start_time": "2023-01-30T08:45:49.729Z"
   },
   {
    "duration": 5,
    "start_time": "2023-01-30T08:45:49.739Z"
   },
   {
    "duration": 180,
    "start_time": "2023-01-30T08:45:49.745Z"
   },
   {
    "duration": 166,
    "start_time": "2023-01-30T08:45:49.926Z"
   },
   {
    "duration": 149,
    "start_time": "2023-01-30T08:45:50.094Z"
   },
   {
    "duration": 169,
    "start_time": "2023-01-30T08:45:50.245Z"
   },
   {
    "duration": 177,
    "start_time": "2023-01-30T08:45:50.416Z"
   },
   {
    "duration": 163,
    "start_time": "2023-01-30T08:45:50.595Z"
   },
   {
    "duration": 159,
    "start_time": "2023-01-30T08:45:50.760Z"
   },
   {
    "duration": 171,
    "start_time": "2023-01-30T08:45:50.921Z"
   },
   {
    "duration": 14,
    "start_time": "2023-01-30T08:45:51.094Z"
   },
   {
    "duration": 16,
    "start_time": "2023-01-30T08:45:51.110Z"
   },
   {
    "duration": 193,
    "start_time": "2023-01-30T08:45:51.128Z"
   },
   {
    "duration": 399,
    "start_time": "2023-01-30T08:45:51.322Z"
   },
   {
    "duration": 4,
    "start_time": "2023-01-30T09:34:49.844Z"
   },
   {
    "duration": 132,
    "start_time": "2023-01-30T09:34:49.853Z"
   },
   {
    "duration": 18,
    "start_time": "2023-01-30T09:34:49.987Z"
   },
   {
    "duration": 122,
    "start_time": "2023-01-30T09:34:50.008Z"
   },
   {
    "duration": 53,
    "start_time": "2023-01-30T09:34:50.133Z"
   },
   {
    "duration": 6,
    "start_time": "2023-01-30T09:34:50.188Z"
   },
   {
    "duration": 8,
    "start_time": "2023-01-30T09:34:50.196Z"
   },
   {
    "duration": 10,
    "start_time": "2023-01-30T09:34:50.206Z"
   },
   {
    "duration": 2177,
    "start_time": "2023-01-30T09:34:50.218Z"
   },
   {
    "duration": 11,
    "start_time": "2023-01-30T09:34:52.397Z"
   },
   {
    "duration": 29,
    "start_time": "2023-01-30T09:34:52.411Z"
   },
   {
    "duration": 16,
    "start_time": "2023-01-30T09:34:52.442Z"
   },
   {
    "duration": 5,
    "start_time": "2023-01-30T09:34:52.460Z"
   },
   {
    "duration": 17,
    "start_time": "2023-01-30T09:34:52.467Z"
   },
   {
    "duration": 19,
    "start_time": "2023-01-30T09:34:52.487Z"
   },
   {
    "duration": 13,
    "start_time": "2023-01-30T09:34:52.509Z"
   },
   {
    "duration": 12,
    "start_time": "2023-01-30T09:34:52.525Z"
   },
   {
    "duration": 5,
    "start_time": "2023-01-30T09:34:52.539Z"
   },
   {
    "duration": 220,
    "start_time": "2023-01-30T09:34:52.546Z"
   },
   {
    "duration": 19,
    "start_time": "2023-01-30T09:34:52.767Z"
   },
   {
    "duration": 30,
    "start_time": "2023-01-30T09:34:52.787Z"
   },
   {
    "duration": 24,
    "start_time": "2023-01-30T09:34:52.819Z"
   },
   {
    "duration": 19,
    "start_time": "2023-01-30T09:34:52.845Z"
   },
   {
    "duration": 39,
    "start_time": "2023-01-30T09:34:52.866Z"
   },
   {
    "duration": 14,
    "start_time": "2023-01-30T09:34:52.907Z"
   },
   {
    "duration": 16,
    "start_time": "2023-01-30T09:34:52.923Z"
   },
   {
    "duration": 30,
    "start_time": "2023-01-30T09:34:52.940Z"
   },
   {
    "duration": 33,
    "start_time": "2023-01-30T09:34:52.972Z"
   },
   {
    "duration": 44,
    "start_time": "2023-01-30T09:34:53.010Z"
   },
   {
    "duration": 23,
    "start_time": "2023-01-30T09:34:53.056Z"
   },
   {
    "duration": 28,
    "start_time": "2023-01-30T09:34:53.080Z"
   },
   {
    "duration": 102,
    "start_time": "2023-01-30T09:34:53.110Z"
   },
   {
    "duration": 18,
    "start_time": "2023-01-30T09:34:53.214Z"
   },
   {
    "duration": 20,
    "start_time": "2023-01-30T09:34:53.234Z"
   },
   {
    "duration": 35,
    "start_time": "2023-01-30T09:34:53.256Z"
   },
   {
    "duration": 28,
    "start_time": "2023-01-30T09:34:53.294Z"
   },
   {
    "duration": 15,
    "start_time": "2023-01-30T09:34:53.324Z"
   },
   {
    "duration": 16,
    "start_time": "2023-01-30T09:34:53.342Z"
   },
   {
    "duration": 29,
    "start_time": "2023-01-30T09:34:53.360Z"
   },
   {
    "duration": 34,
    "start_time": "2023-01-30T09:34:53.391Z"
   },
   {
    "duration": 22,
    "start_time": "2023-01-30T09:34:53.426Z"
   },
   {
    "duration": 23,
    "start_time": "2023-01-30T09:34:53.450Z"
   },
   {
    "duration": 12,
    "start_time": "2023-01-30T09:34:53.474Z"
   },
   {
    "duration": 13,
    "start_time": "2023-01-30T09:34:53.487Z"
   },
   {
    "duration": 26,
    "start_time": "2023-01-30T09:34:53.502Z"
   },
   {
    "duration": 8,
    "start_time": "2023-01-30T09:34:53.530Z"
   },
   {
    "duration": 38,
    "start_time": "2023-01-30T09:34:53.540Z"
   },
   {
    "duration": 24,
    "start_time": "2023-01-30T09:34:53.580Z"
   },
   {
    "duration": 45,
    "start_time": "2023-01-30T09:34:53.607Z"
   },
   {
    "duration": 67,
    "start_time": "2023-01-30T09:34:53.654Z"
   },
   {
    "duration": 4,
    "start_time": "2023-01-30T09:34:53.723Z"
   },
   {
    "duration": 9,
    "start_time": "2023-01-30T09:34:53.728Z"
   },
   {
    "duration": 29,
    "start_time": "2023-01-30T09:34:53.738Z"
   },
   {
    "duration": 25,
    "start_time": "2023-01-30T09:34:53.769Z"
   },
   {
    "duration": 7,
    "start_time": "2023-01-30T09:34:53.796Z"
   },
   {
    "duration": 7,
    "start_time": "2023-01-30T09:34:53.804Z"
   },
   {
    "duration": 38,
    "start_time": "2023-01-30T09:34:53.813Z"
   },
   {
    "duration": 82,
    "start_time": "2023-01-30T09:34:53.852Z"
   },
   {
    "duration": 8,
    "start_time": "2023-01-30T09:34:53.936Z"
   },
   {
    "duration": 25,
    "start_time": "2023-01-30T09:34:53.945Z"
   },
   {
    "duration": 47,
    "start_time": "2023-01-30T09:34:53.972Z"
   },
   {
    "duration": 199,
    "start_time": "2023-01-30T09:34:54.021Z"
   },
   {
    "duration": 8,
    "start_time": "2023-01-30T09:34:54.221Z"
   },
   {
    "duration": 218,
    "start_time": "2023-01-30T09:34:54.231Z"
   },
   {
    "duration": 8,
    "start_time": "2023-01-30T09:34:54.451Z"
   },
   {
    "duration": 182,
    "start_time": "2023-01-30T09:34:54.460Z"
   },
   {
    "duration": 9,
    "start_time": "2023-01-30T09:34:54.645Z"
   },
   {
    "duration": 222,
    "start_time": "2023-01-30T09:34:54.656Z"
   },
   {
    "duration": 8,
    "start_time": "2023-01-30T09:34:54.880Z"
   },
   {
    "duration": 285,
    "start_time": "2023-01-30T09:34:54.891Z"
   },
   {
    "duration": 9,
    "start_time": "2023-01-30T09:34:55.183Z"
   },
   {
    "duration": 180,
    "start_time": "2023-01-30T09:34:55.194Z"
   },
   {
    "duration": 12,
    "start_time": "2023-01-30T09:34:55.376Z"
   },
   {
    "duration": 186,
    "start_time": "2023-01-30T09:34:55.390Z"
   },
   {
    "duration": 14,
    "start_time": "2023-01-30T09:34:55.578Z"
   },
   {
    "duration": 158,
    "start_time": "2023-01-30T09:34:55.594Z"
   },
   {
    "duration": 168,
    "start_time": "2023-01-30T09:34:55.755Z"
   },
   {
    "duration": 175,
    "start_time": "2023-01-30T09:34:55.925Z"
   },
   {
    "duration": 169,
    "start_time": "2023-01-30T09:34:56.102Z"
   },
   {
    "duration": 171,
    "start_time": "2023-01-30T09:34:56.273Z"
   },
   {
    "duration": 148,
    "start_time": "2023-01-30T09:34:56.446Z"
   },
   {
    "duration": 173,
    "start_time": "2023-01-30T09:34:56.596Z"
   },
   {
    "duration": 366,
    "start_time": "2023-01-30T09:34:56.775Z"
   },
   {
    "duration": 8,
    "start_time": "2023-01-30T09:34:57.143Z"
   },
   {
    "duration": 281,
    "start_time": "2023-01-30T09:34:57.153Z"
   },
   {
    "duration": 10,
    "start_time": "2023-01-30T09:34:57.437Z"
   },
   {
    "duration": 7,
    "start_time": "2023-01-30T09:34:57.449Z"
   },
   {
    "duration": 194,
    "start_time": "2023-01-30T09:34:57.458Z"
   },
   {
    "duration": 179,
    "start_time": "2023-01-30T09:34:57.654Z"
   },
   {
    "duration": 184,
    "start_time": "2023-01-30T09:34:57.835Z"
   },
   {
    "duration": 188,
    "start_time": "2023-01-30T09:34:58.021Z"
   },
   {
    "duration": 189,
    "start_time": "2023-01-30T09:34:58.211Z"
   },
   {
    "duration": 476,
    "start_time": "2023-01-30T09:34:58.402Z"
   },
   {
    "duration": 203,
    "start_time": "2023-01-30T09:34:58.884Z"
   },
   {
    "duration": 196,
    "start_time": "2023-01-30T09:34:59.090Z"
   },
   {
    "duration": 15,
    "start_time": "2023-01-30T09:34:59.288Z"
   },
   {
    "duration": 36,
    "start_time": "2023-01-30T09:34:59.304Z"
   },
   {
    "duration": 176,
    "start_time": "2023-01-30T09:34:59.342Z"
   },
   {
    "duration": 377,
    "start_time": "2023-01-30T09:34:59.519Z"
   },
   {
    "duration": 22,
    "start_time": "2023-01-30T09:35:14.799Z"
   },
   {
    "duration": 159,
    "start_time": "2023-01-30T09:35:20.031Z"
   },
   {
    "duration": 170,
    "start_time": "2023-01-30T09:40:09.331Z"
   },
   {
    "duration": 28,
    "start_time": "2023-01-30T09:45:14.189Z"
   },
   {
    "duration": 10,
    "start_time": "2023-01-30T09:45:37.388Z"
   },
   {
    "duration": 8,
    "start_time": "2023-01-30T09:46:05.332Z"
   },
   {
    "duration": 23,
    "start_time": "2023-01-30T09:48:24.502Z"
   },
   {
    "duration": 26,
    "start_time": "2023-01-30T09:48:39.293Z"
   },
   {
    "duration": 33,
    "start_time": "2023-01-30T09:49:23.739Z"
   },
   {
    "duration": 51,
    "start_time": "2023-01-30T09:51:57.794Z"
   },
   {
    "duration": 3102,
    "start_time": "2023-01-30T11:43:36.799Z"
   },
   {
    "duration": 584,
    "start_time": "2023-01-30T11:50:18.442Z"
   },
   {
    "duration": 159,
    "start_time": "2023-01-30T11:54:22.857Z"
   },
   {
    "duration": 150,
    "start_time": "2023-01-30T11:54:47.811Z"
   },
   {
    "duration": 180,
    "start_time": "2023-01-30T11:54:52.159Z"
   },
   {
    "duration": 320,
    "start_time": "2023-01-30T11:55:00.405Z"
   },
   {
    "duration": 309,
    "start_time": "2023-01-30T11:55:04.558Z"
   },
   {
    "duration": 287,
    "start_time": "2023-01-30T11:55:11.765Z"
   }
  ],
  "kernelspec": {
   "display_name": "Python 3 (ipykernel)",
   "language": "python",
   "name": "python3"
  },
  "language_info": {
   "codemirror_mode": {
    "name": "ipython",
    "version": 3
   },
   "file_extension": ".py",
   "mimetype": "text/x-python",
   "name": "python",
   "nbconvert_exporter": "python",
   "pygments_lexer": "ipython3",
   "version": "3.9.5"
  },
  "toc": {
   "base_numbering": 1,
   "nav_menu": {
    "height": "261px",
    "width": "648px"
   },
   "number_sections": true,
   "sideBar": true,
   "skip_h1_title": true,
   "title_cell": "Table of Contents",
   "title_sidebar": "Contents",
   "toc_cell": false,
   "toc_position": {},
   "toc_section_display": true,
   "toc_window_display": true
  }
 },
 "nbformat": 4,
 "nbformat_minor": 2
}
